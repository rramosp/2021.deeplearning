{
  "cells": [
    {
      "cell_type": "markdown",
      "metadata": {
        "id": "kh4IhcSa-CZw"
      },
      "source": [
        "# 3.3 - Using `tf.function`"
      ]
    },
    {
      "cell_type": "code",
      "execution_count": 9,
      "metadata": {
        "colab": {
          "base_uri": "https://localhost:8080/",
          "height": 17
        },
        "id": "oOTbeC4E-CZz",
        "outputId": "ab29716c-aa60-4bc3-866d-34eb1496ba7c"
      },
      "outputs": [
        {
          "output_type": "display_data",
          "data": {
            "text/plain": [
              "<IPython.core.display.HTML object>"
            ],
            "text/html": [
              "\n",
              "<meta name=\"google-signin-client_id\"\n",
              "      content=\"461673936472-kdjosv61up3ac1ajeuq6qqu72upilmls.apps.googleusercontent.com\"/>\n",
              "<script src=\"https://apis.google.com/js/client:platform.js?onload=google_button_start\"></script>\n",
              "    "
            ]
          },
          "metadata": {}
        }
      ],
      "source": [
        "!wget -nc --no-cache -O init.py -q https://raw.githubusercontent.com/rramosp/2021.deeplearning/main/content/init.py\n",
        "import init; init.init(force_download=False);"
      ]
    },
    {
      "cell_type": "code",
      "execution_count": 10,
      "metadata": {
        "colab": {
          "base_uri": "https://localhost:8080/",
          "height": 35
        },
        "id": "fyHR0yeJ-CZ1",
        "outputId": "23a40493-5341-4cb7-9141-dc66c6d97719"
      },
      "outputs": [
        {
          "output_type": "execute_result",
          "data": {
            "text/plain": [
              "'2.19.0'"
            ],
            "application/vnd.google.colaboratory.intrinsic+json": {
              "type": "string"
            }
          },
          "metadata": {},
          "execution_count": 10
        }
      ],
      "source": [
        "import numpy as np\n",
        "import tensorflow as tf\n",
        "import matplotlib.pyplot as plt\n",
        "%matplotlib inline\n",
        "%load_ext tensorboard\n",
        "\n",
        "from sklearn.datasets import *\n",
        "from local.lib import mlutils\n",
        "tf.__version__"
      ]
    },
    {
      "cell_type": "markdown",
      "metadata": {
        "id": "5AmlEyjw-CZ3"
      },
      "source": [
        "## `tf.function` automatically converts pythonic code to a computational graph, using Tensors"
      ]
    },
    {
      "cell_type": "code",
      "execution_count": 11,
      "metadata": {
        "colab": {
          "base_uri": "https://localhost:8080/"
        },
        "id": "B5tvk5la-CZ4",
        "outputId": "3e5da851-a986-4d93-bfad-536bfbb5d15c"
      },
      "outputs": [
        {
          "output_type": "execute_result",
          "data": {
            "text/plain": [
              "10"
            ]
          },
          "metadata": {},
          "execution_count": 11
        }
      ],
      "source": [
        "def f(x):\n",
        "    return x**2 + x*3\n",
        "f(2)"
      ]
    },
    {
      "cell_type": "code",
      "execution_count": 12,
      "metadata": {
        "colab": {
          "base_uri": "https://localhost:8080/"
        },
        "id": "XVIA7S6Y-CZ4",
        "outputId": "b0b1c08a-bd50-4532-f7b5-d8e8cbaa761b"
      },
      "outputs": [
        {
          "output_type": "execute_result",
          "data": {
            "text/plain": [
              "<tf.Tensor: shape=(), dtype=int32, numpy=10>"
            ]
          },
          "metadata": {},
          "execution_count": 12
        }
      ],
      "source": [
        "@tf.function\n",
        "def f(x):\n",
        "    return x**2 + x*3\n",
        "f(2)"
      ]
    },
    {
      "cell_type": "markdown",
      "metadata": {
        "id": "B3tLGk62-CZ5"
      },
      "source": [
        "and also works with a symbolic tensor"
      ]
    },
    {
      "cell_type": "code",
      "execution_count": 13,
      "metadata": {
        "colab": {
          "base_uri": "https://localhost:8080/"
        },
        "id": "2REAePJ2-CaB",
        "outputId": "ce750c24-55c0-4534-85e7-895182cefe47"
      },
      "outputs": [
        {
          "output_type": "execute_result",
          "data": {
            "text/plain": [
              "<tf.Tensor: shape=(), dtype=float32, numpy=18.0>"
            ]
          },
          "metadata": {},
          "execution_count": 13
        }
      ],
      "source": [
        "x = tf.Variable(3.)\n",
        "f(x)"
      ]
    },
    {
      "cell_type": "markdown",
      "metadata": {
        "id": "cqXxp7ma-CaD"
      },
      "source": [
        "a `tf.function` is **traced** (converted to computation graph) the first time it is executed, then it is cached **IF IT IS REUSED WITH THE SAME TF VARIABLES**"
      ]
    },
    {
      "cell_type": "code",
      "execution_count": 14,
      "metadata": {
        "id": "4yPAHDpV-CaE"
      },
      "outputs": [],
      "source": [
        "@tf.function\n",
        "def f47(t):\n",
        "    print('Tracing!')\n",
        "    tf.print('Executing')\n",
        "    return t**2 + t*47"
      ]
    },
    {
      "cell_type": "code",
      "execution_count": 15,
      "metadata": {
        "colab": {
          "base_uri": "https://localhost:8080/"
        },
        "id": "4SzfUxET-CaE",
        "outputId": "4d8b1176-b05e-48b2-f100-a741c86d938c"
      },
      "outputs": [
        {
          "output_type": "stream",
          "name": "stdout",
          "text": [
            "Tracing!\n",
            "Executing\n"
          ]
        },
        {
          "output_type": "execute_result",
          "data": {
            "text/plain": [
              "<tf.Tensor: shape=(), dtype=int32, numpy=98>"
            ]
          },
          "metadata": {},
          "execution_count": 15
        }
      ],
      "source": [
        "f47(2)"
      ]
    },
    {
      "cell_type": "code",
      "execution_count": 16,
      "metadata": {
        "colab": {
          "base_uri": "https://localhost:8080/"
        },
        "id": "FjJV56fm-CaF",
        "outputId": "97ca8e90-c900-4ee0-b33a-6aca39e062cd"
      },
      "outputs": [
        {
          "output_type": "stream",
          "name": "stdout",
          "text": [
            "Executing\n"
          ]
        },
        {
          "output_type": "execute_result",
          "data": {
            "text/plain": [
              "<tf.Tensor: shape=(), dtype=int32, numpy=98>"
            ]
          },
          "metadata": {},
          "execution_count": 16
        }
      ],
      "source": [
        "f47(2)"
      ]
    },
    {
      "cell_type": "markdown",
      "metadata": {
        "id": "ZtHdzKWk-CaG"
      },
      "source": [
        "observe that if the type changes, the function is **traced** again since a different computational graph must be created"
      ]
    },
    {
      "cell_type": "code",
      "execution_count": 17,
      "metadata": {
        "colab": {
          "base_uri": "https://localhost:8080/"
        },
        "id": "_duririS-CaG",
        "outputId": "cffce9a5-a70a-4c95-a490-fd6452a54f23"
      },
      "outputs": [
        {
          "output_type": "stream",
          "name": "stdout",
          "text": [
            "Tracing!\n",
            "Executing\n"
          ]
        },
        {
          "output_type": "execute_result",
          "data": {
            "text/plain": [
              "<tf.Tensor: shape=(), dtype=float32, numpy=98.0>"
            ]
          },
          "metadata": {},
          "execution_count": 17
        }
      ],
      "source": [
        "x = tf.Variable(2, dtype=tf.float32)\n",
        "f47(x)"
      ]
    },
    {
      "cell_type": "code",
      "execution_count": 18,
      "metadata": {
        "colab": {
          "base_uri": "https://localhost:8080/"
        },
        "id": "XNQ9FnGt-CaH",
        "outputId": "7ac9d569-e38c-4b27-f4fc-0fbecb0ea79b"
      },
      "outputs": [
        {
          "output_type": "stream",
          "name": "stdout",
          "text": [
            "Executing\n"
          ]
        },
        {
          "output_type": "execute_result",
          "data": {
            "text/plain": [
              "<tf.Tensor: shape=(), dtype=float32, numpy=171.36000061035156>"
            ]
          },
          "metadata": {},
          "execution_count": 18
        }
      ],
      "source": [
        "x.assign(3.4)\n",
        "f47(x)"
      ]
    },
    {
      "cell_type": "markdown",
      "metadata": {
        "id": "1tBjg6lv-CaH"
      },
      "source": [
        "tracing happens for **EACH VARIABLE**"
      ]
    },
    {
      "cell_type": "code",
      "execution_count": 19,
      "metadata": {
        "colab": {
          "base_uri": "https://localhost:8080/"
        },
        "id": "guySZY7A-CaH",
        "outputId": "c3e98ba6-e40c-4734-9375-c331f1757301"
      },
      "outputs": [
        {
          "output_type": "stream",
          "name": "stdout",
          "text": [
            "Executing\n"
          ]
        },
        {
          "output_type": "execute_result",
          "data": {
            "text/plain": [
              "<tf.Tensor: shape=(), dtype=float32, numpy=98.0>"
            ]
          },
          "metadata": {},
          "execution_count": 19
        }
      ],
      "source": [
        "y = tf.Variable(2, dtype=tf.float32)\n",
        "f47(y)"
      ]
    },
    {
      "cell_type": "code",
      "execution_count": 20,
      "metadata": {
        "colab": {
          "base_uri": "https://localhost:8080/"
        },
        "id": "XqJtn8Cy-CaI",
        "outputId": "8352e5a6-a0a6-4ef3-a8d0-2b9af64a9bc7"
      },
      "outputs": [
        {
          "output_type": "stream",
          "name": "stdout",
          "text": [
            "Executing\n"
          ]
        },
        {
          "output_type": "execute_result",
          "data": {
            "text/plain": [
              "<tf.Tensor: shape=(), dtype=float32, numpy=98.0>"
            ]
          },
          "metadata": {},
          "execution_count": 20
        }
      ],
      "source": [
        "f47(y)"
      ]
    },
    {
      "cell_type": "code",
      "execution_count": 21,
      "metadata": {
        "colab": {
          "base_uri": "https://localhost:8080/"
        },
        "id": "0s32Pkr0-CaJ",
        "outputId": "4c7300ed-afdf-49ce-8683-4c7a8a58c4e8"
      },
      "outputs": [
        {
          "output_type": "stream",
          "name": "stdout",
          "text": [
            "Executing\n"
          ]
        },
        {
          "output_type": "execute_result",
          "data": {
            "text/plain": [
              "<tf.Tensor: shape=(), dtype=float32, numpy=171.36000061035156>"
            ]
          },
          "metadata": {},
          "execution_count": 21
        }
      ],
      "source": [
        "f47(x)"
      ]
    },
    {
      "cell_type": "code",
      "execution_count": 21,
      "metadata": {
        "id": "RHlA8jxW-CaJ"
      },
      "outputs": [],
      "source": []
    },
    {
      "cell_type": "code",
      "execution_count": 22,
      "metadata": {
        "colab": {
          "base_uri": "https://localhost:8080/"
        },
        "id": "ovw5LGb--CaJ",
        "outputId": "172dc7ec-d87d-4fc5-d469-6912f91a32e8"
      },
      "outputs": [
        {
          "output_type": "stream",
          "name": "stdout",
          "text": [
            "Tracing!\n",
            "Executing\n"
          ]
        },
        {
          "output_type": "execute_result",
          "data": {
            "text/plain": [
              "<tf.Tensor: shape=(), dtype=int32, numpy=150>"
            ]
          },
          "metadata": {},
          "execution_count": 22
        }
      ],
      "source": [
        "x = tf.Variable(3, dtype=tf.int32)\n",
        "f47(x)"
      ]
    },
    {
      "cell_type": "code",
      "execution_count": 23,
      "metadata": {
        "colab": {
          "base_uri": "https://localhost:8080/"
        },
        "id": "zjw_F-fD-CaK",
        "outputId": "e0af7748-fe3b-4fa7-9dbd-8ceaa561c519"
      },
      "outputs": [
        {
          "output_type": "stream",
          "name": "stdout",
          "text": [
            "Executing\n"
          ]
        },
        {
          "output_type": "execute_result",
          "data": {
            "text/plain": [
              "<tf.Tensor: shape=(), dtype=int32, numpy=504>"
            ]
          },
          "metadata": {},
          "execution_count": 23
        }
      ],
      "source": [
        "x.assign(9)\n",
        "f47(x)"
      ]
    },
    {
      "cell_type": "code",
      "execution_count": 24,
      "metadata": {
        "colab": {
          "base_uri": "https://localhost:8080/"
        },
        "id": "_IJtAjOk-CaK",
        "outputId": "727c395d-ff08-4406-ede2-68747671aef0"
      },
      "outputs": [
        {
          "output_type": "stream",
          "name": "stdout",
          "text": [
            "Input Parameters:\n",
            "  t (POSITIONAL_OR_KEYWORD): Literal[2]\n",
            "Output Type:\n",
            "  TensorSpec(shape=(), dtype=tf.int32, name=None)\n",
            "Captures:\n",
            "  None\n",
            "\n",
            "Input Parameters:\n",
            "  t (POSITIONAL_OR_KEYWORD): VariableSpec(shape=(), dtype=tf.float32, trainable=True, alias_id=0)\n",
            "Output Type:\n",
            "  TensorSpec(shape=(), dtype=tf.float32, name=None)\n",
            "Captures:\n",
            "  None\n",
            "\n",
            "Input Parameters:\n",
            "  t (POSITIONAL_OR_KEYWORD): VariableSpec(shape=(), dtype=tf.int32, trainable=True, alias_id=0)\n",
            "Output Type:\n",
            "  TensorSpec(shape=(), dtype=tf.int32, name=None)\n",
            "Captures:\n",
            "  None\n"
          ]
        }
      ],
      "source": [
        "print (f47.pretty_printed_concrete_signatures())"
      ]
    },
    {
      "cell_type": "code",
      "execution_count": 24,
      "metadata": {
        "id": "Yo-PUNyu-CaL"
      },
      "outputs": [],
      "source": []
    },
    {
      "cell_type": "code",
      "execution_count": 24,
      "metadata": {
        "id": "RCyE0lQ5-CaL"
      },
      "outputs": [],
      "source": []
    },
    {
      "cell_type": "markdown",
      "metadata": {
        "id": "9ZAkOzbQ-CaL"
      },
      "source": [
        "observe the actual generated code by `tf.autograph`"
      ]
    },
    {
      "cell_type": "code",
      "execution_count": 25,
      "metadata": {
        "scrolled": true,
        "colab": {
          "base_uri": "https://localhost:8080/"
        },
        "id": "tM0bGViO-CaL",
        "outputId": "005e297a-963a-4f37-a24d-45ffc9919db0"
      },
      "outputs": [
        {
          "output_type": "stream",
          "name": "stdout",
          "text": [
            "def tf__f47(t):\n",
            "    with ag__.FunctionScope('f47', 'fscope', ag__.ConversionOptions(recursive=True, user_requested=True, optional_features=(), internal_convert_user_code=True)) as fscope:\n",
            "        do_return = False\n",
            "        retval_ = ag__.UndefinedReturnValue()\n",
            "        ag__.ld(print)('Tracing!')\n",
            "        ag__.converted_call(ag__.ld(tf).print, ('Executing',), None, fscope)\n",
            "        try:\n",
            "            do_return = True\n",
            "            retval_ = ag__.ld(t) ** 2 + ag__.ld(t) * 47\n",
            "        except:\n",
            "            do_return = False\n",
            "            raise\n",
            "        return fscope.ret(retval_, do_return)\n",
            "\n"
          ]
        }
      ],
      "source": [
        "print(tf.autograph.to_code(f47.python_function))"
      ]
    },
    {
      "cell_type": "markdown",
      "metadata": {
        "id": "fb2zJkLW-CaM"
      },
      "source": [
        "## performance of `tf.function`"
      ]
    },
    {
      "cell_type": "code",
      "execution_count": 26,
      "metadata": {
        "id": "8glWSZnB-CaM"
      },
      "outputs": [],
      "source": [
        "def f1(x):\n",
        "    return np.mean(x**2 + x*3)\n",
        "\n",
        "def f11(x):\n",
        "    return x**2 + x*3\n",
        "\n",
        "@tf.function\n",
        "def f2(x):\n",
        "    return np.mean(x**2+x*3)\n",
        "\n",
        "def f3(x):\n",
        "    return tf.reduce_mean(x**2+x**3)\n",
        "\n",
        "@tf.function\n",
        "def f4(x):\n",
        "    return tf.reduce_mean(x**2+x**3)\n",
        "\n",
        "@tf.function\n",
        "def f5(x):\n",
        "    return f3(x)"
      ]
    },
    {
      "cell_type": "code",
      "execution_count": 27,
      "metadata": {
        "id": "STK1KN_7-CaM"
      },
      "outputs": [],
      "source": [
        "X = np.random.random(size=(1000,20)).astype(np.float32)\n",
        "tX = tf.Variable(X, dtype=tf.float32)"
      ]
    },
    {
      "cell_type": "code",
      "execution_count": 28,
      "metadata": {
        "colab": {
          "base_uri": "https://localhost:8080/"
        },
        "id": "FP5NGJ3r-CaM",
        "outputId": "9b77724e-b50e-4cac-affa-0c50b328d2bf"
      },
      "outputs": [
        {
          "output_type": "execute_result",
          "data": {
            "text/plain": [
              "(np.float32(1.8400924),\n",
              " <tf.Tensor: shape=(), dtype=float32, numpy=0.5865188837051392>,\n",
              " <tf.Tensor: shape=(), dtype=float32, numpy=0.5865188837051392>,\n",
              " <tf.Tensor: shape=(), dtype=float32, numpy=0.5865188837051392>)"
            ]
          },
          "metadata": {},
          "execution_count": 28
        }
      ],
      "source": [
        "# f2(X) --> error, why?\n",
        "f1(X), f3(X), f4(X), f5(X)"
      ]
    },
    {
      "cell_type": "code",
      "execution_count": 29,
      "metadata": {
        "colab": {
          "base_uri": "https://localhost:8080/"
        },
        "id": "MZRd8cIJ-CaN",
        "outputId": "2bc98b93-04bd-4307-e2be-610df5b52ea2"
      },
      "outputs": [
        {
          "output_type": "execute_result",
          "data": {
            "text/plain": [
              "(np.float32(1.8400924),\n",
              " <tf.Tensor: shape=(), dtype=float32, numpy=0.5865188837051392>,\n",
              " <tf.Tensor: shape=(), dtype=float32, numpy=0.5865188837051392>,\n",
              " <tf.Tensor: shape=(), dtype=float32, numpy=0.5865188837051392>)"
            ]
          },
          "metadata": {},
          "execution_count": 29
        }
      ],
      "source": [
        "f1(tX), f3(tX), f4(tX), f5(tX)"
      ]
    },
    {
      "cell_type": "code",
      "execution_count": 30,
      "metadata": {
        "colab": {
          "base_uri": "https://localhost:8080/"
        },
        "id": "o5m-rmx_-CaN",
        "outputId": "cca2f94d-bb0d-4ddf-8869-c5ec4ef9fffa"
      },
      "outputs": [
        {
          "output_type": "execute_result",
          "data": {
            "text/plain": [
              "<tf.Tensor: shape=(1000, 20), dtype=float32, numpy=\n",
              "array([[2.5066283 , 3.566715  , 0.21405369, ..., 1.1387894 , 0.21747205,\n",
              "        0.5582415 ],\n",
              "       [0.8427817 , 2.307036  , 2.4168954 , ..., 1.2836732 , 1.1275133 ,\n",
              "        2.156976  ],\n",
              "       [3.8027775 , 0.8254186 , 2.5732207 , ..., 1.3825173 , 3.4700062 ,\n",
              "        2.5409565 ],\n",
              "       ...,\n",
              "       [0.8170469 , 3.4651794 , 1.0635482 , ..., 0.04916687, 0.48021984,\n",
              "        2.854732  ],\n",
              "       [0.7078032 , 1.1500525 , 3.8444602 , ..., 3.0917153 , 0.8404596 ,\n",
              "        3.0876915 ],\n",
              "       [2.2794511 , 2.3670022 , 3.5228426 , ..., 0.56031686, 3.0963511 ,\n",
              "        0.1286898 ]], dtype=float32)>"
            ]
          },
          "metadata": {},
          "execution_count": 30
        }
      ],
      "source": [
        "# but\n",
        "f11(tX)"
      ]
    },
    {
      "cell_type": "code",
      "execution_count": 31,
      "metadata": {
        "colab": {
          "base_uri": "https://localhost:8080/"
        },
        "id": "yXzimN5t-CaO",
        "outputId": "1ada1ee0-7a47-4d92-e311-322c31003b9d"
      },
      "outputs": [
        {
          "output_type": "stream",
          "name": "stdout",
          "text": [
            "33 µs ± 995 ns per loop (mean ± std. dev. of 7 runs, 10000 loops each)\n"
          ]
        }
      ],
      "source": [
        "def f1(x):\n",
        "    return np.mean(x**2 + x*3)\n",
        "\n",
        "%timeit f1(X)"
      ]
    },
    {
      "cell_type": "code",
      "execution_count": 32,
      "metadata": {
        "colab": {
          "base_uri": "https://localhost:8080/"
        },
        "id": "SMKil-7M-CaO",
        "outputId": "565ccaef-07c2-4728-d5a8-69f38eef4dd0"
      },
      "outputs": [
        {
          "output_type": "stream",
          "name": "stdout",
          "text": [
            "1.19 ms ± 152 µs per loop (mean ± std. dev. of 7 runs, 1000 loops each)\n"
          ]
        }
      ],
      "source": [
        "%timeit f1(tX)"
      ]
    },
    {
      "cell_type": "code",
      "execution_count": 33,
      "metadata": {
        "colab": {
          "base_uri": "https://localhost:8080/"
        },
        "id": "m-03kKhs-CaO",
        "outputId": "4a4fe328-b19b-4366-e971-ced012349b3c"
      },
      "outputs": [
        {
          "output_type": "stream",
          "name": "stdout",
          "text": [
            "1.87 ms ± 153 µs per loop (mean ± std. dev. of 7 runs, 1000 loops each)\n"
          ]
        }
      ],
      "source": [
        "def f3(x):\n",
        "    return tf.reduce_mean(x**2+x**3)\n",
        "\n",
        "%timeit f3(tX)"
      ]
    },
    {
      "cell_type": "code",
      "execution_count": 34,
      "metadata": {
        "colab": {
          "base_uri": "https://localhost:8080/"
        },
        "id": "Xnv5qoGy-CaP",
        "outputId": "8f27cecd-fd5e-4425-cee1-0156399e62f1"
      },
      "outputs": [
        {
          "output_type": "stream",
          "name": "stdout",
          "text": [
            "461 µs ± 10.4 µs per loop (mean ± std. dev. of 7 runs, 1000 loops each)\n"
          ]
        }
      ],
      "source": [
        "@tf.function\n",
        "def f4(x):\n",
        "    return tf.reduce_mean(x**2+x**3)\n",
        "\n",
        "%timeit f4(tX)"
      ]
    },
    {
      "cell_type": "code",
      "execution_count": 35,
      "metadata": {
        "colab": {
          "base_uri": "https://localhost:8080/"
        },
        "id": "7Btt52dO-CaP",
        "outputId": "46ab4af6-b3cf-45d0-8a3f-3ab633a1b166"
      },
      "outputs": [
        {
          "output_type": "stream",
          "name": "stdout",
          "text": [
            "2.14 ms ± 85.3 µs per loop (mean ± std. dev. of 7 runs, 100 loops each)\n"
          ]
        }
      ],
      "source": [
        "%timeit f4.python_function(tX)"
      ]
    },
    {
      "cell_type": "code",
      "execution_count": 36,
      "metadata": {
        "colab": {
          "base_uri": "https://localhost:8080/"
        },
        "id": "dSTZuexP-CaQ",
        "outputId": "217628f7-6b2d-4daa-b9c2-d3f98ce8eb60"
      },
      "outputs": [
        {
          "output_type": "stream",
          "name": "stdout",
          "text": [
            "451 µs ± 9.2 µs per loop (mean ± std. dev. of 7 runs, 1000 loops each)\n"
          ]
        }
      ],
      "source": [
        "@tf.function\n",
        "def f5(x):\n",
        "    return f3(x)\n",
        "\n",
        "%timeit f5(tX)"
      ]
    },
    {
      "cell_type": "markdown",
      "metadata": {
        "id": "pRofHliM-CaQ"
      },
      "source": [
        "## Underlying `concrete` functions are actual TF graphs with no polymorphism, tied to specific input types\n",
        "\n",
        "`tf.function` maps python polymorphism to a set of different underlying concrete functions"
      ]
    },
    {
      "cell_type": "code",
      "execution_count": 37,
      "metadata": {
        "id": "QZzjBJmy-CaR"
      },
      "outputs": [],
      "source": [
        "@tf.function\n",
        "def f(x):\n",
        "    return x+x"
      ]
    },
    {
      "cell_type": "code",
      "execution_count": 38,
      "metadata": {
        "colab": {
          "base_uri": "https://localhost:8080/"
        },
        "id": "-QXnKG_A-CaR",
        "outputId": "7b380e60-d917-4f26-f8c8-fb021be61b86"
      },
      "outputs": [
        {
          "output_type": "execute_result",
          "data": {
            "text/plain": [
              "(<tf.Tensor: shape=(), dtype=int32, numpy=20>,\n",
              " <tf.Tensor: shape=(), dtype=int32, numpy=20>,\n",
              " <tf.Tensor: shape=(), dtype=string, numpy=b'aa'>)"
            ]
          },
          "metadata": {},
          "execution_count": 38
        }
      ],
      "source": [
        "f(10), f(10.), f(\"a\")"
      ]
    },
    {
      "cell_type": "markdown",
      "metadata": {
        "id": "eXvb_Isf-CaR"
      },
      "source": [
        "observe different hash codes for each concrete function"
      ]
    },
    {
      "cell_type": "code",
      "execution_count": 39,
      "metadata": {
        "colab": {
          "base_uri": "https://localhost:8080/"
        },
        "id": "1dgpTWNc-CaR",
        "outputId": "94799495-9465-48b2-fd8e-7d62f76ea26a"
      },
      "outputs": [
        {
          "output_type": "execute_result",
          "data": {
            "text/plain": [
              "(<ConcreteFunction (x: TensorSpec(shape=<unknown>, dtype=tf.string, name=None)) -> TensorSpec(shape=<unknown>, dtype=tf.string, name=None) at 0x7F406A8BA660>,\n",
              " <tf.Tensor: shape=(), dtype=string, numpy=b'aaaa'>)"
            ]
          },
          "metadata": {},
          "execution_count": 39
        }
      ],
      "source": [
        "fs = f.get_concrete_function(tf.TensorSpec(shape=None, dtype=tf.string))\n",
        "fs, fs(tf.constant(\"aa\"))"
      ]
    },
    {
      "cell_type": "code",
      "execution_count": 40,
      "metadata": {
        "colab": {
          "base_uri": "https://localhost:8080/"
        },
        "id": "XytcraOH-CaS",
        "outputId": "e4651b87-3e52-4c83-8a8a-67732785893d"
      },
      "outputs": [
        {
          "output_type": "execute_result",
          "data": {
            "text/plain": [
              "(<ConcreteFunction (x: TensorSpec(shape=<unknown>, dtype=tf.int32, name=None)) -> TensorSpec(shape=<unknown>, dtype=tf.int32, name=None) at 0x7F406A8BB7D0>,\n",
              " <tf.Tensor: shape=(), dtype=int32, numpy=2>)"
            ]
          },
          "metadata": {},
          "execution_count": 40
        }
      ],
      "source": [
        "fi = f.get_concrete_function(tf.TensorSpec(shape=None, dtype=tf.int32))\n",
        "fi, fi(tf.constant(1))"
      ]
    },
    {
      "cell_type": "code",
      "execution_count": 41,
      "metadata": {
        "colab": {
          "base_uri": "https://localhost:8080/"
        },
        "id": "Fi-1s44p-CaS",
        "outputId": "15989b5e-ec80-497f-9ed7-2b4e6b8cab45"
      },
      "outputs": [
        {
          "output_type": "execute_result",
          "data": {
            "text/plain": [
              "(<ConcreteFunction (x: TensorSpec(shape=<unknown>, dtype=tf.float32, name=None)) -> TensorSpec(shape=<unknown>, dtype=tf.float32, name=None) at 0x7F406B9E01D0>,\n",
              " <tf.Tensor: shape=(), dtype=float32, numpy=2.0>)"
            ]
          },
          "metadata": {},
          "execution_count": 41
        }
      ],
      "source": [
        "ff = f.get_concrete_function(tf.TensorSpec(shape=None, dtype=tf.float32))\n",
        "ff, ff(tf.constant(1.))"
      ]
    },
    {
      "cell_type": "markdown",
      "metadata": {
        "id": "z7Wf5HeF-CaS"
      },
      "source": [
        "## `tf.function` with `keras` layers"
      ]
    },
    {
      "cell_type": "code",
      "execution_count": 42,
      "metadata": {
        "colab": {
          "base_uri": "https://localhost:8080/"
        },
        "id": "1PU8MqEy-CaT",
        "outputId": "298bc56f-9533-4fdc-e163-1ec7fd2f4e57"
      },
      "outputs": [
        {
          "output_type": "execute_result",
          "data": {
            "text/plain": [
              "array([[ 1.76405235,  0.40015721],\n",
              "       [ 0.97873798,  2.2408932 ],\n",
              "       [ 1.86755799, -0.97727788]])"
            ]
          },
          "metadata": {},
          "execution_count": 42
        }
      ],
      "source": [
        "import numpy as np\n",
        "np.random.seed(0)\n",
        "data = np.random.randn(3, 2)\n",
        "data"
      ]
    },
    {
      "cell_type": "code",
      "execution_count": 70,
      "metadata": {
        "id": "hKZBT10g-CaT"
      },
      "outputs": [],
      "source": [
        "denser1 = tf.keras.layers.Dense(4, activation='relu')\n",
        "denser2 = tf.keras.layers.Dense(1, activation='sigmoid')"
      ]
    },
    {
      "cell_type": "markdown",
      "metadata": {
        "id": "VMmKxiZ5-CaU"
      },
      "source": [
        "observe that, in eager mode, layers graphs are created as their code is being executed"
      ]
    },
    {
      "cell_type": "code",
      "execution_count": 72,
      "metadata": {
        "colab": {
          "base_uri": "https://localhost:8080/"
        },
        "id": "Sl7Vc1jc-CaU",
        "outputId": "b985edac-5fc4-4ff9-cc49-7c962bf54dce"
      },
      "outputs": [
        {
          "output_type": "stream",
          "name": "stdout",
          "text": [
            "After the first layer: tf.Tensor(\n",
            "[[0.         0.         0.36905685 0.        ]\n",
            " [1.3161621  1.5016826  0.8457896  0.20686978]\n",
            " [0.         0.         0.         0.        ]], shape=(3, 4), dtype=float32)\n",
            "After the second layer: tf.Tensor(\n",
            "[[0.4046358]\n",
            " [0.5677154]\n",
            " [0.5      ]], shape=(3, 1), dtype=float32)\n",
            "Model output:\n",
            " tf.Tensor(\n",
            "[[0.4046358]\n",
            " [0.5677154]\n",
            " [0.5      ]], shape=(3, 1), dtype=float32)\n",
            "--\n",
            "After the first layer: tf.Tensor(\n",
            "[[0.         0.         0.82375824 0.        ]\n",
            " [1.3717937  1.9063075  1.3004911  0.        ]\n",
            " [0.         0.         0.40059814 0.        ]], shape=(3, 4), dtype=float32)\n",
            "After the second layer: tf.Tensor(\n",
            "[[0.29692343]\n",
            " [0.5237631 ]\n",
            " [0.3967103 ]], shape=(3, 1), dtype=float32)\n",
            "Model output:\n",
            " tf.Tensor(\n",
            "[[0.29692343]\n",
            " [0.5237631 ]\n",
            " [0.3967103 ]], shape=(3, 1), dtype=float32)\n"
          ]
        }
      ],
      "source": [
        "def model_1(data):\n",
        "    x = denser1(data)\n",
        "    print('After the first layer:', x)\n",
        "    out = denser2(x)\n",
        "    print('After the second layer:', out)\n",
        "    return out\n",
        "\n",
        "print('Model output:\\n', model_1(data))\n",
        "print(\"--\")\n",
        "print('Model output:\\n', model_1(data+1))"
      ]
    },
    {
      "cell_type": "markdown",
      "metadata": {
        "id": "ED_vuyug-CaU"
      },
      "source": [
        "however, with `tf.function`, **FIRST** the function is **traced** resulting in a computational graph, which is what is **THEN** used in subsequent calls"
      ]
    },
    {
      "cell_type": "code",
      "execution_count": 73,
      "metadata": {
        "colab": {
          "base_uri": "https://localhost:8080/"
        },
        "id": "r-KO8Fw--CaU",
        "outputId": "414cc6d5-7462-49de-e0e2-afe772308413"
      },
      "outputs": [
        {
          "output_type": "stream",
          "name": "stdout",
          "text": [
            "After the first layer: Tensor(\"dense_3_1/Relu:0\", shape=(3, 4), dtype=float32)\n",
            "After the second layer: Tensor(\"dense_4_1/Sigmoid:0\", shape=(3, 1), dtype=float32)\n",
            "Model's output: tf.Tensor(\n",
            "[[0.4046358]\n",
            " [0.5677154]\n",
            " [0.5      ]], shape=(3, 1), dtype=float32)\n",
            "--\n",
            "Model's output: tf.Tensor(\n",
            "[[0.29692343]\n",
            " [0.5237631 ]\n",
            " [0.3967103 ]], shape=(3, 1), dtype=float32)\n"
          ]
        }
      ],
      "source": [
        "@tf.function\n",
        "def model_2(data):\n",
        "    x = denser1(data)\n",
        "    print('After the first layer:', x)\n",
        "    out = denser2(x)\n",
        "    print('After the second layer:', out)\n",
        "    return out\n",
        "\n",
        "\n",
        "print('Model\\'s output:', model_2(data))\n",
        "print('--')\n",
        "print('Model\\'s output:', model_2(data+1))"
      ]
    },
    {
      "cell_type": "markdown",
      "metadata": {
        "id": "lcnoYiJd-CaV"
      },
      "source": [
        "`tf.function` usually requires less compute time, since in eager mode, everytime the function is called the graph is created"
      ]
    },
    {
      "cell_type": "code",
      "execution_count": 74,
      "metadata": {
        "id": "QFUbim68-CaV"
      },
      "outputs": [],
      "source": [
        "def model_1(data):\n",
        "    x = denser1(data)\n",
        "    out = denser2(x)\n",
        "    return out\n",
        "\n",
        "@tf.function\n",
        "def model_2(data):\n",
        "    x = denser1(data)\n",
        "    out = denser2(x)\n",
        "    return out"
      ]
    },
    {
      "cell_type": "code",
      "execution_count": 75,
      "metadata": {
        "colab": {
          "base_uri": "https://localhost:8080/"
        },
        "id": "U6k6mq5A-CaV",
        "outputId": "9e47864c-30af-4da1-d169-0d2190eec9fd"
      },
      "outputs": [
        {
          "output_type": "stream",
          "name": "stdout",
          "text": [
            "2.87 ms ± 652 µs per loop (mean ± std. dev. of 7 runs, 100 loops each)\n"
          ]
        }
      ],
      "source": [
        "%timeit model_1(data)"
      ]
    },
    {
      "cell_type": "code",
      "execution_count": 76,
      "metadata": {
        "colab": {
          "base_uri": "https://localhost:8080/"
        },
        "id": "U0CI1g6u-CaW",
        "outputId": "68ea1aa3-592f-45d0-c904-2064eb07bbcd"
      },
      "outputs": [
        {
          "output_type": "stream",
          "name": "stdout",
          "text": [
            "618 µs ± 10.1 µs per loop (mean ± std. dev. of 7 runs, 1000 loops each)\n"
          ]
        }
      ],
      "source": [
        "%timeit model_2(data)"
      ]
    },
    {
      "cell_type": "markdown",
      "metadata": {
        "id": "bBJ6Hq5L-CaW"
      },
      "source": [
        "### including graphs in upstream functions.\n",
        "\n",
        "observe how we compute the gradient of a computational graph:\n",
        "\n",
        "- with `model_1` the graph is generated eagerly each time the function is called\n",
        "- with `model_2` the graph is only generated in the first call"
      ]
    },
    {
      "cell_type": "code",
      "execution_count": 77,
      "metadata": {
        "colab": {
          "base_uri": "https://localhost:8080/"
        },
        "id": "tvg0Dznb-CaW",
        "outputId": "1cf1c3b8-70ee-4eea-aacd-bc5a9284e083"
      },
      "outputs": [
        {
          "output_type": "execute_result",
          "data": {
            "text/plain": [
              "([<tf.Tensor: shape=(2, 4), dtype=float32, numpy=\n",
              "  array([[ 0.1410127 ,  0.08198048, -0.69603944, -0.1481947 ],\n",
              "         [ 0.322859  ,  0.18770038, -0.67634726, -0.33930275]],\n",
              "        dtype=float32)>,\n",
              "  <tf.Tensor: shape=(4,), dtype=float32, numpy=array([ 0.14407603,  0.08376142, -0.50889206, -0.15141407], dtype=float32)>],\n",
              " [<tf.Tensor: shape=(2, 4), dtype=float32, numpy=\n",
              "  array([[ 0.1410127 ,  0.08198048, -0.69603944, -0.1481947 ],\n",
              "         [ 0.322859  ,  0.18770038, -0.67634726, -0.33930275]],\n",
              "        dtype=float32)>,\n",
              "  <tf.Tensor: shape=(4,), dtype=float32, numpy=array([ 0.14407603,  0.08376142, -0.50889206, -0.15141407], dtype=float32)>])"
            ]
          },
          "metadata": {},
          "execution_count": 77
        }
      ],
      "source": [
        "def g1(data):\n",
        "    with tf.GradientTape() as t:\n",
        "        y = model_1(data)\n",
        "\n",
        "    return t.gradient(y, denser1.variables)\n",
        "\n",
        "def g2(data):\n",
        "    with tf.GradientTape() as t:\n",
        "        y = model_2(data)\n",
        "\n",
        "    return t.gradient(y, denser1.variables)\n",
        "\n",
        "g2(data), g1(data)\n",
        "\n"
      ]
    },
    {
      "cell_type": "code",
      "execution_count": 78,
      "metadata": {
        "colab": {
          "base_uri": "https://localhost:8080/"
        },
        "id": "pkt5PBqm-CaX",
        "outputId": "8f57354b-ed0b-4287-f864-4c034c1a7547"
      },
      "outputs": [
        {
          "output_type": "stream",
          "name": "stdout",
          "text": [
            "5.2 ms ± 1.07 ms per loop (mean ± std. dev. of 7 runs, 100 loops each)\n"
          ]
        }
      ],
      "source": [
        "%timeit g1(data)"
      ]
    },
    {
      "cell_type": "code",
      "execution_count": 79,
      "metadata": {
        "colab": {
          "base_uri": "https://localhost:8080/"
        },
        "id": "16CKWq22-CaX",
        "outputId": "12b993fa-8508-41e0-9c4d-1c765f6685b4"
      },
      "outputs": [
        {
          "output_type": "stream",
          "name": "stdout",
          "text": [
            "1.8 ms ± 301 µs per loop (mean ± std. dev. of 7 runs, 1000 loops each)\n"
          ]
        }
      ],
      "source": [
        "%timeit g2(data)"
      ]
    },
    {
      "cell_type": "markdown",
      "metadata": {
        "id": "9wU2PWCU-CaX"
      },
      "source": [
        "however, even in `g2` the gradient graph is still computed eagerly.\n",
        "\n",
        "if we wrap either function, now everything is a cached computational graph."
      ]
    },
    {
      "cell_type": "code",
      "execution_count": 80,
      "metadata": {
        "colab": {
          "base_uri": "https://localhost:8080/"
        },
        "id": "mqjbXrzK-CaY",
        "outputId": "587e54aa-0070-4832-fb7f-33686caf95c8"
      },
      "outputs": [
        {
          "output_type": "stream",
          "name": "stdout",
          "text": [
            "650 µs ± 10.3 µs per loop (mean ± std. dev. of 7 runs, 1000 loops each)\n"
          ]
        }
      ],
      "source": [
        "fg1 = tf.function(g1)\n",
        "%timeit fg1(data)"
      ]
    },
    {
      "cell_type": "code",
      "execution_count": 81,
      "metadata": {
        "colab": {
          "base_uri": "https://localhost:8080/"
        },
        "id": "GiAvQn00-CaY",
        "outputId": "c66f9006-7835-4ded-8d50-18d004661f85"
      },
      "outputs": [
        {
          "output_type": "stream",
          "name": "stdout",
          "text": [
            "711 µs ± 98.6 µs per loop (mean ± std. dev. of 7 runs, 1000 loops each)\n"
          ]
        }
      ],
      "source": [
        "fg2 = tf.function(g2)\n",
        "%timeit fg2(data)"
      ]
    },
    {
      "cell_type": "code",
      "execution_count": null,
      "metadata": {
        "id": "mVkXWgeb-CaY"
      },
      "outputs": [],
      "source": []
    },
    {
      "cell_type": "code",
      "execution_count": null,
      "metadata": {
        "id": "wqj-ASdF-CaZ"
      },
      "outputs": [],
      "source": []
    }
  ],
  "metadata": {
    "kernelspec": {
      "display_name": "p38",
      "language": "python",
      "name": "p38"
    },
    "language_info": {
      "codemirror_mode": {
        "name": "ipython",
        "version": 3
      },
      "file_extension": ".py",
      "mimetype": "text/x-python",
      "name": "python",
      "nbconvert_exporter": "python",
      "pygments_lexer": "ipython3",
      "version": "3.8.3"
    },
    "colab": {
      "provenance": []
    }
  },
  "nbformat": 4,
  "nbformat_minor": 0
}