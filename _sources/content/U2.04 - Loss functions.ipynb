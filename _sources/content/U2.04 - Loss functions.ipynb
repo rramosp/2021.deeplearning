{
 "cells": [
  {
   "cell_type": "markdown",
   "metadata": {},
   "source": [
    "# 2.4 - Loss functions in Tensorflow"
   ]
  },
  {
   "cell_type": "markdown",
   "metadata": {},
   "source": [
    "Course's material requires a `tensorflow` version lower than the default one used in Google Colab. Run the following cell to downgrade TensorFlow accordingly."
   ]
  },
  {
   "cell_type": "code",
   "execution_count": null,
   "metadata": {},
   "outputs": [],
   "source": [
    "import os\n",
    "def downgrade_tf_version():\n",
    "    os.system(\"!yes | pip uninstall -y tensorflow\")\n",
    "    os.system(\"!yes | pip install tensorflow==2.12.0\")\n",
    "    os.kill(os.getpid(), 9)\n",
    "downgrade_tf_version()"
   ]
  },
  {
   "cell_type": "code",
   "execution_count": 1,
   "metadata": {},
   "outputs": [],
   "source": [
    "!wget -nc --no-cache -O init.py -q https://raw.githubusercontent.com/rramosp/2021.deeplearning/main/content/init.py\n",
    "import init; init.init(force_download=False); "
   ]
  },
  {
   "cell_type": "code",
   "execution_count": 2,
   "metadata": {},
   "outputs": [
    {
     "data": {
      "text/plain": [
       "'2.4.0'"
      ]
     },
     "execution_count": 2,
     "metadata": {},
     "output_type": "execute_result"
    }
   ],
   "source": [
    "import numpy as np\n",
    "import matplotlib.pyplot as plt\n",
    "import pandas as pd\n",
    "import tensorflow as tf\n",
    "%matplotlib inline\n",
    "\n",
    "from tensorflow.keras import Sequential\n",
    "from tensorflow.keras.layers import Dense, Input\n",
    "from tensorflow.keras import Model\n",
    "    \n",
    "tf.__version__"
   ]
  },
  {
   "cell_type": "markdown",
   "metadata": {},
   "source": [
    "### A sample dataset\n",
    "\n",
    "A very simple regression task, with one input and one output"
   ]
  },
  {
   "cell_type": "code",
   "execution_count": 3,
   "metadata": {},
   "outputs": [
    {
     "data": {
      "text/plain": [
       "((150, 1), (150,))"
      ]
     },
     "execution_count": 3,
     "metadata": {},
     "output_type": "execute_result"
    }
   ],
   "source": [
    "d = pd.read_csv(\"local/data/trilotropicos.csv\")\n",
    "y = d.densidad_escamas.values.astype(np.float32)\n",
    "X = np.r_[[d.longitud.values]].T.astype(np.float32)\n",
    "X.shape, y.shape"
   ]
  },
  {
   "cell_type": "code",
   "execution_count": 4,
   "metadata": {},
   "outputs": [
    {
     "data": {
      "text/plain": [
       "<matplotlib.collections.PathCollection at 0x7f12414d1640>"
      ]
     },
     "execution_count": 4,
     "metadata": {},
     "output_type": "execute_result"
    },
    {
     "data": {
      "image/png": "[encoded data removed]",
      "text/plain": [
       "<Figure size 432x288 with 1 Axes>"
      ]
     },
     "metadata": {
      "needs_background": "light"
     },
     "output_type": "display_data"
    }
   ],
   "source": [
    "plt.scatter(X, y)"
   ]
  },
  {
   "cell_type": "markdown",
   "metadata": {},
   "source": [
    "### Linear regression with Tensorflow Sequential API\n",
    "\n",
    "Observe how we implement a standard **Linear Regression** model with Tensorflow **Sequential** model."
   ]
  },
  {
   "cell_type": "code",
   "execution_count": 5,
   "metadata": {},
   "outputs": [],
   "source": [
    "\n",
    "def get_model_sequential(loss):\n",
    "    model = Sequential()\n",
    "    model.add(Dense(1, input_shape=(X.shape[-1],), activation=\"linear\"))\n",
    "    model.compile(optimizer=tf.keras.optimizers.SGD(learning_rate=0.01), loss=loss)\n",
    "    return model  \n"
   ]
  },
  {
   "cell_type": "code",
   "execution_count": 6,
   "metadata": {},
   "outputs": [
    {
     "data": {
      "text/plain": [
       "[array([[-0.7696493]], dtype=float32), array([12.655966], dtype=float32)]"
      ]
     },
     "execution_count": 6,
     "metadata": {},
     "output_type": "execute_result"
    }
   ],
   "source": [
    "model = get_model_sequential(loss=\"mse\")\n",
    "model.fit(X,y, epochs=400, batch_size=16, verbose=0);\n",
    "model.get_weights()"
   ]
  },
  {
   "cell_type": "markdown",
   "metadata": {},
   "source": [
    "and we can always call the trained model on any input data to make new predictions"
   ]
  },
  {
   "cell_type": "code",
   "execution_count": 7,
   "metadata": {},
   "outputs": [
    {
     "data": {
      "text/plain": [
       "array([[8.807719 ],\n",
       "       [8.03807  ],\n",
       "       [7.2684207]], dtype=float32)"
      ]
     },
     "execution_count": 7,
     "metadata": {},
     "output_type": "execute_result"
    }
   ],
   "source": [
    "model(np.r_[[[5],[6],[7]]]).numpy()"
   ]
  },
  {
   "cell_type": "code",
   "execution_count": 8,
   "metadata": {},
   "outputs": [
    {
     "data": {
      "text/plain": [
       "array([[8.807719 ],\n",
       "       [8.03807  ],\n",
       "       [7.2684207]], dtype=float32)"
      ]
     },
     "execution_count": 8,
     "metadata": {},
     "output_type": "execute_result"
    }
   ],
   "source": [
    "model.predict(np.r_[[[5],[6],[7]]])"
   ]
  },
  {
   "cell_type": "markdown",
   "metadata": {},
   "source": [
    "the weights obtained are quite similar with the standard `scikit-learn` implementation"
   ]
  },
  {
   "cell_type": "code",
   "execution_count": 9,
   "metadata": {},
   "outputs": [
    {
     "data": {
      "text/plain": [
       "(array([-0.71805906], dtype=float32), 12.689999)"
      ]
     },
     "execution_count": 9,
     "metadata": {},
     "output_type": "execute_result"
    }
   ],
   "source": [
    "from sklearn.linear_model import LinearRegression\n",
    "\n",
    "lr = LinearRegression()\n",
    "lr.fit(X,y)\n",
    "lr.coef_, lr.intercept_"
   ]
  },
  {
   "cell_type": "markdown",
   "metadata": {},
   "source": [
    "note we are using the **predefined Mean Squared Error** loss function in Tensorflow"
   ]
  },
  {
   "cell_type": "code",
   "execution_count": 10,
   "metadata": {},
   "outputs": [
    {
     "data": {
      "text/plain": [
       "[array([[-0.72692335]], dtype=float32), array([12.650194], dtype=float32)]"
      ]
     },
     "execution_count": 10,
     "metadata": {},
     "output_type": "execute_result"
    }
   ],
   "source": [
    "model = get_model_sequential(loss=tf.keras.losses.MSE)\n",
    "model.fit(X,y, epochs=400, batch_size=16, verbose=0);\n",
    "model.get_weights()"
   ]
  },
  {
   "cell_type": "code",
   "execution_count": 11,
   "metadata": {},
   "outputs": [
    {
     "data": {
      "text/plain": [
       "array([[9.015577],\n",
       "       [8.288654],\n",
       "       [7.561731]], dtype=float32)"
      ]
     },
     "execution_count": 11,
     "metadata": {},
     "output_type": "execute_result"
    }
   ],
   "source": [
    "model(np.r_[[[5],[6],[7]]]).numpy()"
   ]
  },
  {
   "cell_type": "markdown",
   "metadata": {},
   "source": [
    "We could have implemented ourselves. Recall we **MUST USE** Tensorflow operations."
   ]
  },
  {
   "cell_type": "code",
   "execution_count": 12,
   "metadata": {},
   "outputs": [],
   "source": [
    "def mse_loss(y_true, y_pred):\n",
    "    return tf.reduce_mean((y_true-y_pred)**2, axis=-1)"
   ]
  },
  {
   "cell_type": "code",
   "execution_count": 13,
   "metadata": {},
   "outputs": [
    {
     "data": {
      "text/plain": [
       "[array([[-0.6994947]], dtype=float32), array([12.679553], dtype=float32)]"
      ]
     },
     "execution_count": 13,
     "metadata": {},
     "output_type": "execute_result"
    }
   ],
   "source": [
    "model = get_model_sequential(loss=mse_loss)\n",
    "model.fit(X,y, epochs=400, batch_size=16, verbose=0);\n",
    "model.get_weights()"
   ]
  },
  {
   "cell_type": "code",
   "execution_count": 14,
   "metadata": {},
   "outputs": [
    {
     "data": {
      "text/plain": [
       "array([[9.182079],\n",
       "       [8.482585],\n",
       "       [7.78309 ]], dtype=float32)"
      ]
     },
     "execution_count": 14,
     "metadata": {},
     "output_type": "execute_result"
    }
   ],
   "source": [
    "model(np.r_[[[5],[6],[7]]]).numpy()"
   ]
  },
  {
   "cell_type": "markdown",
   "metadata": {},
   "source": [
    "You can even explicitly call the functions and check how they work"
   ]
  },
  {
   "cell_type": "code",
   "execution_count": 15,
   "metadata": {},
   "outputs": [
    {
     "data": {
      "text/plain": [
       "(array([0.9562911 , 0.07832308, 0.70414816, 0.91567686, 0.23363904]),\n",
       " array([0.63817035, 0.97924217, 0.4115003 , 0.55839522, 0.13775806]))"
      ]
     },
     "execution_count": 15,
     "metadata": {},
     "output_type": "execute_result"
    }
   ],
   "source": [
    "y_true  = np.random.random(size=5)\n",
    "y_preds = np.random.random(size=y_true.shape)\n",
    "y_true, y_preds"
   ]
  },
  {
   "cell_type": "code",
   "execution_count": 16,
   "metadata": {},
   "outputs": [
    {
     "data": {
      "text/plain": [
       "0.22706842585597964"
      ]
     },
     "execution_count": 16,
     "metadata": {},
     "output_type": "execute_result"
    }
   ],
   "source": [
    "# numpy MSE\n",
    "np.mean((y_true-y_preds)**2)"
   ]
  },
  {
   "cell_type": "code",
   "execution_count": 17,
   "metadata": {},
   "outputs": [
    {
     "data": {
      "text/plain": [
       "<tf.Tensor: shape=(), dtype=float64, numpy=0.22706842585597964>"
      ]
     },
     "execution_count": 17,
     "metadata": {},
     "output_type": "execute_result"
    }
   ],
   "source": [
    "# tf.keras MSE\n",
    "tf.keras.losses.MSE(y_true, y_preds)"
   ]
  },
  {
   "cell_type": "code",
   "execution_count": 18,
   "metadata": {},
   "outputs": [
    {
     "data": {
      "text/plain": [
       "<tf.Tensor: shape=(), dtype=float64, numpy=0.22706842585597964>"
      ]
     },
     "execution_count": 18,
     "metadata": {},
     "output_type": "execute_result"
    }
   ],
   "source": [
    "# our implementation\n",
    "mse_loss(y_true, y_preds)"
   ]
  },
  {
   "cell_type": "markdown",
   "metadata": {},
   "source": [
    "### Linear regression with Tensorflow Functional API\n",
    "\n",
    "We can use the same mechanism with the Functional API"
   ]
  },
  {
   "cell_type": "code",
   "execution_count": 19,
   "metadata": {},
   "outputs": [],
   "source": [
    "def get_model_functional_1(loss):\n",
    "    inputs = Input(shape=(X.shape[-1],), name=\"input\")\n",
    "    outputs = Dense(1, activation='linear', name=\"output\")(inputs)\n",
    "    model = Model([inputs], [outputs])    \n",
    "    model.compile(optimizer=tf.keras.optimizers.SGD(learning_rate=0.01), loss=loss)\n",
    "    return model  \n"
   ]
  },
  {
   "cell_type": "code",
   "execution_count": 20,
   "metadata": {},
   "outputs": [
    {
     "data": {
      "text/plain": [
       "[array([[-0.7317973]], dtype=float32), array([12.652348], dtype=float32)]"
      ]
     },
     "execution_count": 20,
     "metadata": {},
     "output_type": "execute_result"
    }
   ],
   "source": [
    "\n",
    "model = get_model_functional_1(loss=\"mse\")\n",
    "model.fit(X,y, epochs=400, batch_size=16, verbose=0);\n",
    "model.get_weights()"
   ]
  },
  {
   "cell_type": "code",
   "execution_count": 21,
   "metadata": {},
   "outputs": [
    {
     "data": {
      "text/plain": [
       "array([[8.993361 ],\n",
       "       [8.261564 ],\n",
       "       [7.5297666]], dtype=float32)"
      ]
     },
     "execution_count": 21,
     "metadata": {},
     "output_type": "execute_result"
    }
   ],
   "source": [
    "model(np.r_[[[5],[6],[7]]]).numpy()"
   ]
  },
  {
   "cell_type": "code",
   "execution_count": 22,
   "metadata": {},
   "outputs": [
    {
     "data": {
      "text/plain": [
       "[array([[-0.7890887]], dtype=float32), array([12.644999], dtype=float32)]"
      ]
     },
     "execution_count": 22,
     "metadata": {},
     "output_type": "execute_result"
    }
   ],
   "source": [
    "model = get_model_functional_1(loss=tf.keras.losses.MSE)\n",
    "model.fit(X,y, epochs=400, batch_size=16, verbose=0);\n",
    "model.get_weights()"
   ]
  },
  {
   "cell_type": "code",
   "execution_count": 23,
   "metadata": {},
   "outputs": [
    {
     "data": {
      "text/plain": [
       "array([[8.699554 ],\n",
       "       [7.910466 ],\n",
       "       [7.1213775]], dtype=float32)"
      ]
     },
     "execution_count": 23,
     "metadata": {},
     "output_type": "execute_result"
    }
   ],
   "source": [
    "model(np.r_[[[5],[6],[7]]]).numpy()"
   ]
  },
  {
   "cell_type": "code",
   "execution_count": 24,
   "metadata": {},
   "outputs": [
    {
     "data": {
      "text/plain": [
       "[array([[-0.7223748]], dtype=float32), array([12.674201], dtype=float32)]"
      ]
     },
     "execution_count": 24,
     "metadata": {},
     "output_type": "execute_result"
    }
   ],
   "source": [
    "model = get_model_functional_1(loss=mse_loss)\n",
    "model.fit(X,y, epochs=400, batch_size=16, verbose=0);\n",
    "model.get_weights()"
   ]
  },
  {
   "cell_type": "code",
   "execution_count": 25,
   "metadata": {},
   "outputs": [
    {
     "data": {
      "text/plain": [
       "array([[9.062326 ],\n",
       "       [8.339952 ],\n",
       "       [7.6175776]], dtype=float32)"
      ]
     },
     "execution_count": 25,
     "metadata": {},
     "output_type": "execute_result"
    }
   ],
   "source": [
    "model(np.r_[[[5],[6],[7]]]).numpy()"
   ]
  },
  {
   "cell_type": "markdown",
   "metadata": {},
   "source": [
    "However, when using the Functional API we have more flexibility. The following code is **an orthodox** way\n",
    "of defining a supervised model, but it will be useful when dealing with Autoencoders later on to use them in an unsupervised manner. \n",
    "\n",
    "Observe the following aspects:\n",
    "\n",
    "- We **DEFINE** our model to have two inputs: $X$ (on layer `inputs`) and $y$ (on layer `targets`).\n",
    "- We **DEFINE** our model to have one output on layer `outputs` just like before. Observe that the new layer `targets` does not participate in producing this output.\n",
    "- We **INTEGRATE** the loss into the model by using directly **the model layers** and the `model.add_loss` method.\n",
    "- We **DO NOT** need to specify the `loss` when compiling the model.\n",
    "- The `targets` layer only participates in computing the `loss` and, thus, it is only used during **TRAINING**, not on inference."
   ]
  },
  {
   "cell_type": "code",
   "execution_count": 26,
   "metadata": {},
   "outputs": [],
   "source": [
    "def get_model_functional_2():\n",
    "    inputs  = Input(shape=(X.shape[-1],), name=\"inputs\")\n",
    "    targets = Input(shape=(1,), name=\"targets\")\n",
    "    \n",
    "    outputs = Dense(1, activation='linear', name=\"outputs\")(inputs)\n",
    "    model = Model([inputs, targets], [outputs])    \n",
    "    \n",
    "    loss = tf.reduce_mean((outputs-targets)**2)\n",
    "    model.add_loss(loss)\n",
    "\n",
    "    model.compile(optimizer=tf.keras.optimizers.SGD(learning_rate=0.01))\n",
    "    return model  \n"
   ]
  },
  {
   "cell_type": "markdown",
   "metadata": {},
   "source": [
    "observe how, due to this new architecture, the call to the `.fit` method now changes, although the results are the same."
   ]
  },
  {
   "cell_type": "code",
   "execution_count": 27,
   "metadata": {},
   "outputs": [
    {
     "data": {
      "text/plain": [
       "[array([[-0.7307422]], dtype=float32), array([12.66002], dtype=float32)]"
      ]
     },
     "execution_count": 27,
     "metadata": {},
     "output_type": "execute_result"
    }
   ],
   "source": [
    "model = get_model_functional_2()\n",
    "model.fit([X,y], epochs=400, batch_size=16, verbose=0);\n",
    "model.get_weights()"
   ]
  },
  {
   "cell_type": "markdown",
   "metadata": {},
   "source": [
    "**HOWEVER** when calling the model (inference) we **MUST** provide both $X$ and $y$, even if we know that $y$ will not be used (it is only used when training). Observe how the following call always yields the same result regardless the values of $y$. \n",
    "\n",
    "This is **INCONVENIENT** for a supervised model, but illustrates the flexibility of the functional API."
   ]
  },
  {
   "cell_type": "code",
   "execution_count": 30,
   "metadata": {},
   "outputs": [
    {
     "name": "stdout",
     "output_type": "stream",
     "text": [
      "[[0.58962311]\n",
      " [0.48533767]\n",
      " [0.14276567]]\n"
     ]
    },
    {
     "data": {
      "text/plain": [
       "array([[9.006309 ],\n",
       "       [8.275566 ],\n",
       "       [7.5448246]], dtype=float32)"
      ]
     },
     "execution_count": 30,
     "metadata": {},
     "output_type": "execute_result"
    }
   ],
   "source": [
    "X = np.r_[[[5],[6],[7]]]\n",
    "y = np.random.random(size=(3,1))\n",
    "print (y)\n",
    "model([X, y]).numpy()"
   ]
  },
  {
   "cell_type": "code",
   "execution_count": null,
   "metadata": {},
   "outputs": [],
   "source": []
  },
  {
   "cell_type": "code",
   "execution_count": null,
   "metadata": {},
   "outputs": [],
   "source": []
  }
 ],
 "metadata": {
  "kernelspec": {
   "display_name": "Python 3 (ipykernel)",
   "language": "python",
   "name": "python3"
  },
  "language_info": {
   "codemirror_mode": {
    "name": "ipython",
    "version": 3
   },
   "file_extension": ".py",
   "mimetype": "text/x-python",
   "name": "python",
   "nbconvert_exporter": "python",
   "pygments_lexer": "ipython3",
   "version": "3.9.15"
  }
 },
 "nbformat": 4,
 "nbformat_minor": 4
}
