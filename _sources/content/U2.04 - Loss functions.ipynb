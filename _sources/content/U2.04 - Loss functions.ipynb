{
 "cells": [
  {
   "cell_type": "markdown",
   "metadata": {},
   "source": [
    "# 2.4 - Loss functions in Tensorflow"
   ]
  },
  {
   "cell_type": "code",
   "execution_count": 1,
   "metadata": {},
   "outputs": [],
   "source": [
    "!wget -nc --no-cache -O init.py -q https://raw.githubusercontent.com/rramosp/2021.deeplearning/main/content/init.py\n",
    "import init; init.init(force_download=False); "
   ]
  },
  {
   "cell_type": "code",
   "execution_count": null,
   "metadata": {},
   "outputs": [],
   "source": [
    "import numpy as np\n",
    "import matplotlib.pyplot as plt\n",
    "import pandas as pd\n",
    "import tensorflow as tf\n",
    "%matplotlib inline\n",
    "\n",
    "from keras import Sequential\n",
    "from keras.layers import Dense, Input\n",
    "from keras import Model\n",
    "    \n",
    "tf.__version__"
   ]
  },
  {
   "cell_type": "markdown",
   "metadata": {},
   "source": [
    "### A sample dataset\n",
    "\n",
    "A very simple regression task, with one input and one output"
   ]
  },
  {
   "cell_type": "code",
   "execution_count": 2,
   "metadata": {},
   "outputs": [
    {
     "data": {
      "text/plain": [
       "((150, 1), (150,))"
      ]
     },
     "execution_count": 2,
     "metadata": {},
     "output_type": "execute_result"
    }
   ],
   "source": [
    "d = pd.read_csv(\"local/data/trilotropicos.csv\")\n",
    "y = d.densidad_escamas.values.astype(np.float32)\n",
    "X = np.r_[[d.longitud.values]].T.astype(np.float32)\n",
    "X.shape, y.shape"
   ]
  },
  {
   "cell_type": "code",
   "execution_count": 3,
   "metadata": {},
   "outputs": [
    {
     "data": {
      "image/png": "[encoded data removed]",
      "text/plain": [
       "<Figure size 640x480 with 1 Axes>"
      ]
     },
     "metadata": {},
     "output_type": "display_data"
    }
   ],
   "source": [
    "plt.scatter(X, y)\n",
    "plt.show()"
   ]
  },
  {
   "cell_type": "markdown",
   "metadata": {},
   "source": [
    "### Linear regression with Tensorflow Sequential API\n",
    "\n",
    "Observe how we implement a standard **Linear Regression** model with Tensorflow **Sequential** model."
   ]
  },
  {
   "cell_type": "code",
   "execution_count": 4,
   "metadata": {},
   "outputs": [],
   "source": [
    "\n",
    "def get_model_sequential(loss):\n",
    "    model = Sequential()\n",
    "    model.add(Input(shape=(X.shape[-1],)))\n",
    "    model.add(Dense(1, activation=\"linear\"))\n",
    "    model.compile(optimizer=tf.keras.optimizers.SGD(learning_rate=0.01), loss=loss)\n",
    "    return model  \n"
   ]
  },
  {
   "cell_type": "code",
   "execution_count": 5,
   "metadata": {},
   "outputs": [
    {
     "data": {
      "text/plain": [
       "[array([[-0.7891946]], dtype=float32), array([12.6691], dtype=float32)]"
      ]
     },
     "execution_count": 5,
     "metadata": {},
     "output_type": "execute_result"
    }
   ],
   "source": [
    "model = get_model_sequential(loss=\"mse\")\n",
    "model.fit(X,y, epochs=400, batch_size=16, verbose=0);\n",
    "model.get_weights()"
   ]
  },
  {
   "cell_type": "markdown",
   "metadata": {},
   "source": [
    "and we can always call the trained model on any input data to make new predictions"
   ]
  },
  {
   "cell_type": "code",
   "execution_count": 6,
   "metadata": {},
   "outputs": [
    {
     "data": {
      "text/plain": [
       "array([[8.723127 ],\n",
       "       [7.9339323],\n",
       "       [7.1447377]], dtype=float32)"
      ]
     },
     "execution_count": 6,
     "metadata": {},
     "output_type": "execute_result"
    }
   ],
   "source": [
    "model(np.r_[[[5],[6],[7]]]).numpy()"
   ]
  },
  {
   "cell_type": "code",
   "execution_count": 7,
   "metadata": {},
   "outputs": [
    {
     "name": "stdout",
     "output_type": "stream",
     "text": [
      "\u001b[1m1/1\u001b[0m \u001b[32m━━━━━━━━━━━━━━━━━━━━\u001b[0m\u001b[37m\u001b[0m \u001b[1m0s\u001b[0m 17ms/step\n"
     ]
    },
    {
     "data": {
      "text/plain": [
       "array([[8.723127 ],\n",
       "       [7.9339323],\n",
       "       [7.1447377]], dtype=float32)"
      ]
     },
     "execution_count": 7,
     "metadata": {},
     "output_type": "execute_result"
    }
   ],
   "source": [
    "model.predict(np.r_[[[5],[6],[7]]])"
   ]
  },
  {
   "cell_type": "markdown",
   "metadata": {},
   "source": [
    "the weights obtained are quite similar with the standard `scikit-learn` implementation"
   ]
  },
  {
   "cell_type": "code",
   "execution_count": 8,
   "metadata": {},
   "outputs": [
    {
     "data": {
      "text/plain": [
       "(array([-0.7180587], dtype=float32), np.float32(12.689997))"
      ]
     },
     "execution_count": 8,
     "metadata": {},
     "output_type": "execute_result"
    }
   ],
   "source": [
    "from sklearn.linear_model import LinearRegression\n",
    "\n",
    "lr = LinearRegression()\n",
    "lr.fit(X,y)\n",
    "lr.coef_, lr.intercept_"
   ]
  },
  {
   "cell_type": "markdown",
   "metadata": {},
   "source": [
    "note we are using the **predefined Mean Squared Error** loss function in Tensorflow"
   ]
  },
  {
   "cell_type": "code",
   "execution_count": 9,
   "metadata": {},
   "outputs": [
    {
     "data": {
      "text/plain": [
       "[array([[-0.66506994]], dtype=float32), array([12.68266], dtype=float32)]"
      ]
     },
     "execution_count": 9,
     "metadata": {},
     "output_type": "execute_result"
    }
   ],
   "source": [
    "model = get_model_sequential(loss=tf.keras.losses.MSE)\n",
    "model.fit(X,y, epochs=400, batch_size=16, verbose=0);\n",
    "model.get_weights()"
   ]
  },
  {
   "cell_type": "code",
   "execution_count": 10,
   "metadata": {},
   "outputs": [
    {
     "data": {
      "text/plain": [
       "array([[9.35731 ],\n",
       "       [8.692241],\n",
       "       [8.02717 ]], dtype=float32)"
      ]
     },
     "execution_count": 10,
     "metadata": {},
     "output_type": "execute_result"
    }
   ],
   "source": [
    "model(np.r_[[[5],[6],[7]]]).numpy()"
   ]
  },
  {
   "cell_type": "markdown",
   "metadata": {},
   "source": [
    "We could have implemented ourselves. Recall we **MUST USE** Tensorflow operations."
   ]
  },
  {
   "cell_type": "code",
   "execution_count": 11,
   "metadata": {},
   "outputs": [],
   "source": [
    "def mse_loss(y_true, y_pred):\n",
    "    return tf.reduce_mean((y_true-y_pred)**2, axis=-1)"
   ]
  },
  {
   "cell_type": "code",
   "execution_count": 12,
   "metadata": {},
   "outputs": [
    {
     "data": {
      "text/plain": [
       "[array([[-0.70704436]], dtype=float32), array([12.656386], dtype=float32)]"
      ]
     },
     "execution_count": 12,
     "metadata": {},
     "output_type": "execute_result"
    }
   ],
   "source": [
    "model = get_model_sequential(loss=mse_loss)\n",
    "model.fit(X,y, epochs=400, batch_size=16, verbose=0);\n",
    "model.get_weights()"
   ]
  },
  {
   "cell_type": "code",
   "execution_count": 13,
   "metadata": {},
   "outputs": [
    {
     "data": {
      "text/plain": [
       "array([[9.121164],\n",
       "       [8.41412 ],\n",
       "       [7.707076]], dtype=float32)"
      ]
     },
     "execution_count": 13,
     "metadata": {},
     "output_type": "execute_result"
    }
   ],
   "source": [
    "model(np.r_[[[5],[6],[7]]]).numpy()"
   ]
  },
  {
   "cell_type": "markdown",
   "metadata": {},
   "source": [
    "You can even explicitly call the functions and check how they work"
   ]
  },
  {
   "cell_type": "code",
   "execution_count": 14,
   "metadata": {},
   "outputs": [
    {
     "data": {
      "text/plain": [
       "(array([0.50731617, 0.87191101, 0.48191568, 0.59040517, 0.83341053]),\n",
       " array([0.29028185, 0.48533997, 0.33551139, 0.54182448, 0.43307521]))"
      ]
     },
     "execution_count": 14,
     "metadata": {},
     "output_type": "execute_result"
    }
   ],
   "source": [
    "y_true  = np.random.random(size=5)\n",
    "y_preds = np.random.random(size=y_true.shape)\n",
    "y_true, y_preds"
   ]
  },
  {
   "cell_type": "code",
   "execution_count": 15,
   "metadata": {},
   "outputs": [
    {
     "data": {
      "text/plain": [
       "np.float64(0.07612074421712434)"
      ]
     },
     "execution_count": 15,
     "metadata": {},
     "output_type": "execute_result"
    }
   ],
   "source": [
    "# numpy MSE\n",
    "np.mean((y_true-y_preds)**2)"
   ]
  },
  {
   "cell_type": "code",
   "execution_count": 16,
   "metadata": {},
   "outputs": [
    {
     "data": {
      "text/plain": [
       "<tf.Tensor: shape=(), dtype=float64, numpy=0.07612074421712434>"
      ]
     },
     "execution_count": 16,
     "metadata": {},
     "output_type": "execute_result"
    }
   ],
   "source": [
    "# tf.keras MSE\n",
    "tf.keras.losses.MSE(y_true, y_preds)"
   ]
  },
  {
   "cell_type": "code",
   "execution_count": 17,
   "metadata": {},
   "outputs": [
    {
     "data": {
      "text/plain": [
       "<tf.Tensor: shape=(), dtype=float64, numpy=0.07612074421712434>"
      ]
     },
     "execution_count": 17,
     "metadata": {},
     "output_type": "execute_result"
    }
   ],
   "source": [
    "# our implementation\n",
    "mse_loss(y_true, y_preds)"
   ]
  },
  {
   "cell_type": "markdown",
   "metadata": {},
   "source": [
    "### Linear regression with Tensorflow Functional API\n",
    "\n",
    "We can use the same mechanism with the Functional API"
   ]
  },
  {
   "cell_type": "code",
   "execution_count": 18,
   "metadata": {},
   "outputs": [],
   "source": [
    "def get_model_functional_1(loss):\n",
    "    inputs = Input(shape=(X.shape[-1],), name=\"input\")\n",
    "    outputs = Dense(1, activation='linear', name=\"output\")(inputs)\n",
    "    model = Model(inputs, outputs)    \n",
    "    model.compile(optimizer=tf.keras.optimizers.SGD(learning_rate=0.01), loss=loss)\n",
    "    return model  \n"
   ]
  },
  {
   "cell_type": "code",
   "execution_count": 19,
   "metadata": {},
   "outputs": [
    {
     "data": {
      "text/plain": [
       "[array([[-0.8316052]], dtype=float32), array([12.640781], dtype=float32)]"
      ]
     },
     "execution_count": 19,
     "metadata": {},
     "output_type": "execute_result"
    }
   ],
   "source": [
    "\n",
    "model = get_model_functional_1(loss=\"mse\")\n",
    "model.fit(X,y, epochs=400, batch_size=16, verbose=0);\n",
    "model.get_weights()"
   ]
  },
  {
   "cell_type": "code",
   "execution_count": 20,
   "metadata": {},
   "outputs": [
    {
     "data": {
      "text/plain": [
       "array([[8.482756],\n",
       "       [7.65115 ],\n",
       "       [6.819545]], dtype=float32)"
      ]
     },
     "execution_count": 20,
     "metadata": {},
     "output_type": "execute_result"
    }
   ],
   "source": [
    "model(np.r_[[[5],[6],[7]]]).numpy()"
   ]
  },
  {
   "cell_type": "code",
   "execution_count": 21,
   "metadata": {},
   "outputs": [
    {
     "data": {
      "text/plain": [
       "[array([[-0.67224115]], dtype=float32), array([12.704618], dtype=float32)]"
      ]
     },
     "execution_count": 21,
     "metadata": {},
     "output_type": "execute_result"
    }
   ],
   "source": [
    "model = get_model_functional_1(loss=tf.keras.losses.MSE)\n",
    "model.fit(X,y, epochs=400, batch_size=16, verbose=0);\n",
    "model.get_weights()"
   ]
  },
  {
   "cell_type": "code",
   "execution_count": 22,
   "metadata": {},
   "outputs": [
    {
     "data": {
      "text/plain": [
       "array([[9.343412 ],\n",
       "       [8.671171 ],\n",
       "       [7.9989305]], dtype=float32)"
      ]
     },
     "execution_count": 22,
     "metadata": {},
     "output_type": "execute_result"
    }
   ],
   "source": [
    "model(np.r_[[[5],[6],[7]]]).numpy()"
   ]
  },
  {
   "cell_type": "code",
   "execution_count": 23,
   "metadata": {},
   "outputs": [
    {
     "data": {
      "text/plain": [
       "[array([[-0.7458604]], dtype=float32), array([12.664248], dtype=float32)]"
      ]
     },
     "execution_count": 23,
     "metadata": {},
     "output_type": "execute_result"
    }
   ],
   "source": [
    "model = get_model_functional_1(loss=mse_loss)\n",
    "model.fit(X,y, epochs=400, batch_size=16, verbose=0);\n",
    "model.get_weights()"
   ]
  },
  {
   "cell_type": "code",
   "execution_count": 24,
   "metadata": {},
   "outputs": [
    {
     "data": {
      "text/plain": [
       "array([[8.934946],\n",
       "       [8.189086],\n",
       "       [7.443226]], dtype=float32)"
      ]
     },
     "execution_count": 24,
     "metadata": {},
     "output_type": "execute_result"
    }
   ],
   "source": [
    "model(np.r_[[[5],[6],[7]]]).numpy()"
   ]
  },
  {
   "cell_type": "markdown",
   "metadata": {},
   "source": [
    "However, when using the Functional API we have more flexibility. The following code is **an orthodox** way\n",
    "of defining a supervised model, but it will be useful when dealing with Autoencoders later on to use them in an unsupervised manner. \n",
    "\n",
    "Observe the following aspects:\n",
    "\n",
    "- We **DEFINE** our model to have two inputs: $X$ (on layer `inputs`) and $y$ (on layer `targets`).\n",
    "- We **DEFINE** our model to have one output on layer `outputs` just like before. Observe that the new layer `targets` does not participate in producing this output.\n",
    "- The `targets` layer only participates in computing the `loss` and, thus, it is only used during **TRAINING**, not on inference."
   ]
  },
  {
   "cell_type": "code",
   "execution_count": 25,
   "metadata": {},
   "outputs": [],
   "source": [
    "from keras.losses import Loss\n",
    "def get_model_functional_2():\n",
    "    inputs  = Input(shape=(X.shape[-1],), name=\"inputs\")\n",
    "    targets = Input(shape=(1,), name=\"targets\")\n",
    "    \n",
    "    outputs = Dense(1, activation='linear', name=\"outputs\")(inputs)\n",
    "    model = Model([inputs, targets], [outputs])\n",
    "    \n",
    "    class my_loss(Loss):\n",
    "        def call(self, outputs, targets):\n",
    "            return tf.reduce_mean((outputs-targets)**2)\n",
    "    \n",
    "    loss = my_loss()\n",
    "    model.compile(loss=loss,optimizer=tf.keras.optimizers.SGD(learning_rate=0.01))\n",
    "    return model  \n"
   ]
  },
  {
   "cell_type": "markdown",
   "metadata": {},
   "source": [
    "observe how, due to this new architecture, the call to the `.fit` method now changes, although the results are the same."
   ]
  },
  {
   "cell_type": "code",
   "execution_count": 26,
   "metadata": {},
   "outputs": [
    {
     "data": {
      "text/plain": [
       "[array([[-0.08140875]], dtype=float32), array([9.577485], dtype=float32)]"
      ]
     },
     "execution_count": 26,
     "metadata": {},
     "output_type": "execute_result"
    }
   ],
   "source": [
    "model = get_model_functional_2()\n",
    "model.fit([X,y],y, epochs=400, batch_size=16, verbose=0);\n",
    "model.get_weights()"
   ]
  },
  {
   "cell_type": "markdown",
   "metadata": {},
   "source": [
    "**HOWEVER** when calling the model (inference) we **MUST** provide both $X$ and $y$, even if we know that $y$ will not be used (it is only used when training). Observe how the following call always yields the same result regardless the values of $y$. \n",
    "\n",
    "This is **INCONVENIENT** for a supervised model, but illustrates the flexibility of the functional API."
   ]
  },
  {
   "cell_type": "code",
   "execution_count": 27,
   "metadata": {},
   "outputs": [
    {
     "name": "stdout",
     "output_type": "stream",
     "text": [
      "[[0.48821399]\n",
      " [0.80019156]\n",
      " [0.63432008]]\n"
     ]
    },
    {
     "data": {
      "text/plain": [
       "array([[9.170442],\n",
       "       [9.089032],\n",
       "       [9.007624]], dtype=float32)"
      ]
     },
     "execution_count": 27,
     "metadata": {},
     "output_type": "execute_result"
    }
   ],
   "source": [
    "X = np.r_[[[5],[6],[7]]]\n",
    "y = np.random.random(size=(3,1))\n",
    "print (y)\n",
    "model([X, y]).numpy()"
   ]
  },
  {
   "cell_type": "markdown",
   "metadata": {},
   "source": [
    "**ADVANCED METHODS**\n",
    "\n",
    "When we want to add additional terms to the loss functions that depend on the activation of a layer, we have multiple choices:\n",
    "- We can **INTEGRATE** the loss into the model by using directly **the model layers** and the `model.add_loss` method.\n",
    "- We can use the [`activity_regulizer`](https://keras.io/api/layers/regularizers/) attribute of the layer when defining it."
   ]
  },
  {
   "cell_type": "code",
   "execution_count": 33,
   "metadata": {},
   "outputs": [
    {
     "data": {
      "text/plain": [
       "[array([[-0.42082405]], dtype=float32), array([0.3484329], dtype=float32)]"
      ]
     },
     "execution_count": 33,
     "metadata": {},
     "output_type": "execute_result"
    }
   ],
   "source": [
    "class MyModel(Model):\n",
    "    def __init__(self,alpha=0.1):\n",
    "        super(MyModel, self).__init__()\n",
    "        self.dense1 = Dense(1, activation='linear')\n",
    "        self.alpha=tf.constant(alpha, dtype=tf.float32)\n",
    "        \n",
    "    def call(self, inputs):\n",
    "        inputs = tf.cast(inputs, tf.float32)\n",
    "        self.add_loss(self.alpha*tf.reduce_mean(tf.square(inputs)))#inputs could be the output of a layer\n",
    "        x = self.dense1(inputs)\n",
    "        return x\n",
    "\n",
    "model = MyModel()\n",
    "model.compile(optimizer=\"adam\", loss=\"mse\")\n",
    "model.fit(X,y, epochs=400, batch_size=16, verbose=0);\n",
    "model.get_weights()"
   ]
  },
  {
   "cell_type": "code",
   "execution_count": 34,
   "metadata": {},
   "outputs": [
    {
     "data": {
      "text/plain": [
       "array([[-1.7556874],\n",
       "       [-2.1765113],\n",
       "       [-2.5973353]], dtype=float32)"
      ]
     },
     "execution_count": 34,
     "metadata": {},
     "output_type": "execute_result"
    }
   ],
   "source": [
    "model(X).numpy()"
   ]
  },
  {
   "cell_type": "markdown",
   "metadata": {},
   "source": [
    "If the loss function we want to implement contains several terms and requires access to targets and activations of inner layers, we can define our own train step, and also define our own training loop:"
   ]
  },
  {
   "cell_type": "code",
   "execution_count": 43,
   "metadata": {},
   "outputs": [],
   "source": [
    "import keras\n",
    "from keras import ops\n",
    "\n",
    "# Your custom loss function\n",
    "def custom_loss(y_true, y_pred, delta=1.0):\n",
    "    error = y_true - y_pred\n",
    "    small_error = ops.abs(error) <= delta\n",
    "    squared_loss = 0.5 * ops.square(error)\n",
    "    linear_loss = delta * (ops.abs(error) - 0.5 * delta)\n",
    "    return ops.mean(ops.where(small_error, squared_loss, linear_loss))\n",
    "\n",
    "# Your new custom Model class\n",
    "class CustomModel(keras.Model):\n",
    "    def __init__(self, **kwargs):\n",
    "        super().__init__(**kwargs)\n",
    "        self.dense1 = Dense(1,activation='linear')\n",
    "        self.loss_tracker = keras.metrics.Mean(name=\"loss\")\n",
    "\n",
    "    def call(self, inputs):\n",
    "        return self.dense1(inputs)\n",
    "\n",
    "    def train_step(self, data):\n",
    "        x, y = data\n",
    "        with tf.GradientTape() as tape:\n",
    "            y_pred = self(x, training=True)\n",
    "            loss = custom_loss(y, y_pred, delta=0.5)\n",
    "            \n",
    "        trainable_vars = self.trainable_variables\n",
    "        gradients = tape.gradient(loss, trainable_vars)\n",
    "        \n",
    "        self.optimizer.apply_gradients(zip(gradients, trainable_vars))\n",
    "        self.loss_tracker.update_state(loss)\n",
    "        \n",
    "        return {\"loss\": self.loss_tracker.result()}\n",
    "\n",
    "    @property\n",
    "    def metrics(self):\n",
    "        # We need to list our metrics here so the `reset_states()` method works\n",
    "        return [self.loss_tracker]"
   ]
  },
  {
   "cell_type": "code",
   "execution_count": 44,
   "metadata": {},
   "outputs": [
    {
     "data": {
      "text/plain": [
       "[array([[0.11249518]], dtype=float32), array([-0.03780845], dtype=float32)]"
      ]
     },
     "execution_count": 44,
     "metadata": {},
     "output_type": "execute_result"
    }
   ],
   "source": [
    "model = CustomModel()\n",
    "model.compile(optimizer=\"adam\", loss=\"mse\")\n",
    "model.fit(X,y, epochs=400, batch_size=16, verbose=0);\n",
    "model.get_weights()"
   ]
  },
  {
   "cell_type": "code",
   "execution_count": 45,
   "metadata": {},
   "outputs": [
    {
     "data": {
      "text/plain": [
       "array([[0.5246674 ],\n",
       "       [0.63716257],\n",
       "       [0.74965775]], dtype=float32)"
      ]
     },
     "execution_count": 45,
     "metadata": {},
     "output_type": "execute_result"
    }
   ],
   "source": [
    "model(X).numpy()"
   ]
  },
  {
   "cell_type": "code",
   "execution_count": null,
   "metadata": {},
   "outputs": [],
   "source": []
  }
 ],
 "metadata": {
  "kernelspec": {
   "display_name": "Python 3 (ipykernel)",
   "language": "python",
   "name": "python3"
  },
  "language_info": {
   "codemirror_mode": {
    "name": "ipython",
    "version": 3
   },
   "file_extension": ".py",
   "mimetype": "text/x-python",
   "name": "python",
   "nbconvert_exporter": "python",
   "pygments_lexer": "ipython3",
   "version": "3.9.6"
  }
 },
 "nbformat": 4,
 "nbformat_minor": 4
}
