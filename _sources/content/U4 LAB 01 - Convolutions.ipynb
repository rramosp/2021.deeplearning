{
  "cells": [
    {
      "cell_type": "markdown",
      "metadata": {
        "id": "E1CnXm3yNyxe"
      },
      "source": [
        "# LAB 4.1 - Convolutions"
      ]
    },
    {
      "cell_type": "markdown",
      "metadata": {
        "id": "BR9kXux2Nyxf"
      },
      "source": [
        "The labs require a `tensorflow` version lower than the default one used in Google Colab. Run the following cell to downgrade TensorFlow accordingly."
      ]
    },
    {
      "cell_type": "code",
      "execution_count": 1,
      "metadata": {
        "id": "UKNUOXurNyxh",
        "outputId": "181751c8-c553-4ede-d051-cff51b2c8bd7",
        "colab": {
          "base_uri": "https://localhost:8080/",
          "height": 71
        }
      },
      "outputs": [
        {
          "output_type": "stream",
          "name": "stderr",
          "text": [
            "/content/init.py:2: SyntaxWarning: invalid escape sequence '\\S'\n",
            "  course_id = '\\S*deeplearning\\S*'\n"
          ]
        },
        {
          "output_type": "display_data",
          "data": {
            "text/plain": [
              "<IPython.core.display.HTML object>"
            ],
            "text/html": [
              "\n",
              "<meta name=\"google-signin-client_id\"\n",
              "      content=\"461673936472-kdjosv61up3ac1ajeuq6qqu72upilmls.apps.googleusercontent.com\"/>\n",
              "<script src=\"https://apis.google.com/js/client:platform.js?onload=google_button_start\"></script>\n",
              "    "
            ]
          },
          "metadata": {}
        },
        {
          "output_type": "stream",
          "name": "stdout",
          "text": [
            "replicating local resources\n"
          ]
        }
      ],
      "source": [
        "!wget -nc --no-cache -O init.py -q https://raw.githubusercontent.com/rramosp/2021.deeplearning/main/content/init.py\n",
        "import init; init.init(force_download=False);"
      ]
    },
    {
      "cell_type": "code",
      "execution_count": null,
      "metadata": {
        "scrolled": true,
        "id": "hH0O5I_WNyxj"
      },
      "outputs": [],
      "source": [
        "from local.lib.rlxmoocapi import submit, session\n",
        "session.LoginSequence(endpoint=init.endpoint, course_id=init.course_id, lab_id=\"L04.01\", varname=\"student\");"
      ]
    },
    {
      "cell_type": "code",
      "execution_count": 5,
      "metadata": {
        "id": "NjzOO933Nyxj",
        "outputId": "51ac6db6-705f-438c-d6ef-60a4cf6b98bf",
        "colab": {
          "base_uri": "https://localhost:8080/",
          "height": 35
        }
      },
      "outputs": [
        {
          "output_type": "execute_result",
          "data": {
            "text/plain": [
              "'2.19.0'"
            ],
            "application/vnd.google.colaboratory.intrinsic+json": {
              "type": "string"
            }
          },
          "metadata": {},
          "execution_count": 5
        }
      ],
      "source": [
        "import numpy as np\n",
        "import os\n",
        "import tensorflow as tf\n",
        "import matplotlib.pyplot as plt\n",
        "%matplotlib inline\n",
        "tf.__version__"
      ]
    },
    {
      "cell_type": "markdown",
      "metadata": {
        "id": "47eGpA6HNyxj"
      },
      "source": [
        "## TASK 1: Implement convolutions\n",
        "\n",
        "Complete the following function so that it implements a convolution in a set of `for` loops. **YOU CANNOT USE TENSORFLOW**\n",
        "\n",
        "The parameters of the function are as follow:\n",
        "\n",
        "- `img`: the images, an array of size [1,y,x,k], where:\n",
        "    - `1`: you will be receiving only one image\n",
        "    - `x`, `y`: the size of the image\n",
        "    - `k` : the number of channels\n",
        "    \n",
        "- `f`: the filters, an array of size [fy,fx,k,n], where:\n",
        "    - `fx`, `fy`: the size of the filters\n",
        "    - `k` : the number of channels (**must be the same as in images**)\n",
        "    - `n`: the number of filters\n",
        "- `activation`: the activation function to use (such as `sigmoid` or `linear` as shown below)\n",
        "\n",
        "\n",
        "the resulting activation map must be of shape `[1, x-fx+1, y-fy+1, n]` which is equivalent to a `Conv2D`  Keras layer with `padding='VALID'`"
      ]
    },
    {
      "cell_type": "code",
      "execution_count": 6,
      "metadata": {
        "id": "bYFrTxxgNyxk"
      },
      "outputs": [],
      "source": [
        "sigmoid = lambda x: 1/(1+np.exp(-x))\n",
        "linear  = lambda x: x\n",
        "\n",
        "def convolution_byhand(img, f, activation=sigmoid):\n",
        "    assert f.shape[2]==img.shape[3]\n",
        "    fy = f.shape[0]\n",
        "    fx = f.shape[1]\n",
        "    r = np.zeros( (1, img.shape[1]-fy+1, img.shape[2]-fx+1, f.shape[3] ))\n",
        "    for filter_nb in range(f.shape[3]):\n",
        "        for y in range(... # YOUR CODE HERE):\n",
        "            for x in range(... # YOUR CODE HERE):\n",
        "                r[0,y,x,filter_nb] = ... # YOUR CODE HERE\n",
        "    return r"
      ]
    },
    {
      "cell_type": "markdown",
      "metadata": {
        "id": "yo0hxNCGNyxl"
      },
      "source": [
        "with the following 5x5x1 image and 2 filters of size 3x3x1 you should get this result\n",
        "\n",
        "        >> convolution_byhand(img, f, activation=sigmoid)\n",
        "        array([[[[0.7109495 , 0.37754067],\n",
        "                 [0.40131234, 0.35434369],\n",
        "                 [0.40131234, 0.40131234]],\n",
        "\n",
        "                [[0.450166  , 0.5       ],\n",
        "                 [0.59868766, 0.40131234],\n",
        "                 [0.2890505 , 0.42555748]],\n",
        "\n",
        "                [[0.19781611, 0.64565631],\n",
        "                 [0.81757448, 0.75026011],\n",
        "                 [0.2890505 , 0.66818777]]]])"
      ]
    },
    {
      "cell_type": "code",
      "execution_count": null,
      "metadata": {
        "id": "zbBfmsj7Nyxm"
      },
      "outputs": [],
      "source": [
        "img = np.r_[[[0, 8, 5, 9, 7],\n",
        "             [0, 6, 4, 6, 9],\n",
        "             [6, 3, 8, 4, 5],\n",
        "             [8, 7, 7, 4, 5],\n",
        "             [7, 2, 5, 0, 2]]].reshape((1,5,5,1))/10 - 0.5\n",
        "f = np.r_[[-1., -1.,  1., -1., -1., -1., -1.,  1.,  1.],\n",
        "          [ 1., -1.,  1., -1., -1.,  1., -1., -1., -1.]].reshape(3,3,1,2)\n",
        "\n",
        "convolution_byhand(img, f, activation=sigmoid)"
      ]
    },
    {
      "cell_type": "markdown",
      "metadata": {
        "id": "pxBh5_XyNyxn"
      },
      "source": [
        "which should yield the same result as simply applying a keras `Conv2D` layer"
      ]
    },
    {
      "cell_type": "code",
      "execution_count": null,
      "metadata": {
        "id": "z2ud-OsKNyxn"
      },
      "outputs": [],
      "source": [
        "c = tf.keras.layers.Conv2D(filters=f.shape[-1], kernel_size=f.shape[:2], activation=\"sigmoid\", padding='VALID', dtype=tf.float64)\n",
        "c.build(input_shape=(1,7,7,f.shape[2]))   # any shape would do here, just initializing weights\n",
        "c.set_weights([f, np.zeros(2)])\n",
        "c(img).numpy()"
      ]
    },
    {
      "cell_type": "markdown",
      "metadata": {
        "id": "OigLqmwONyxo"
      },
      "source": [
        "you can also check the effect of the filters in a sample image"
      ]
    },
    {
      "cell_type": "code",
      "execution_count": 9,
      "metadata": {
        "id": "v2X9hsQ6Nyxo",
        "outputId": "274a301d-31db-4339-98bb-8f9aa526d88e",
        "colab": {
          "base_uri": "https://localhost:8080/",
          "height": 521
        }
      },
      "outputs": [
        {
          "output_type": "display_data",
          "data": {
            "text/plain": [
              "<Figure size 1000x600 with 5 Axes>"
            ],
            "image/png": "[encoded data removed]"
          },
          "metadata": {}
        }
      ],
      "source": [
        "\n",
        "from skimage import io\n",
        "img = io.imread(\"local/imgs/sample_img.png\")\n",
        "img = img.reshape(1,*img.shape, 1)\n",
        "img = (img-np.min(img))/(np.max(img)-np.min(img))\n",
        "\n",
        "a1 = convolution_byhand(img, f)\n",
        "a2 = c(img).numpy()\n",
        "\n",
        "plt.figure(figsize=(10,6))\n",
        "plt.subplot(231); plt.imshow(img[0,:,:,0], cmap=plt.cm.Greys_r); plt.axis(\"off\"); plt.title(\"original\")\n",
        "plt.subplot(232); plt.imshow(a1[0,:,:,0], cmap=plt.cm.Greys_r); plt.axis(\"off\"); plt.title(\"your conv filter 0\")\n",
        "plt.subplot(233); plt.imshow(a2[0,:,:,0], cmap=plt.cm.Greys_r); plt.axis(\"off\"); plt.title(\"keras conv2D filter 0\")\n",
        "plt.subplot(235); plt.imshow(a1[0,:,:,1], cmap=plt.cm.Greys_r); plt.axis(\"off\"); plt.title(\"your conv filter 1\")\n",
        "plt.subplot(236); plt.imshow(a2[0,:,:,1], cmap=plt.cm.Greys_r); plt.axis(\"off\"); plt.title(\"keras conv2D filter 1\");\n"
      ]
    },
    {
      "cell_type": "markdown",
      "metadata": {
        "id": "czWaQaobNyxo"
      },
      "source": [
        "**Registra tu solución en linea**"
      ]
    },
    {
      "cell_type": "code",
      "execution_count": null,
      "metadata": {
        "scrolled": false,
        "id": "LasYnYuRNyxp"
      },
      "outputs": [],
      "source": [
        "student.submit_task(namespace=globals(), task_id='T1');"
      ]
    },
    {
      "cell_type": "code",
      "execution_count": null,
      "metadata": {
        "id": "xoi4Ic0lNyxp"
      },
      "outputs": [],
      "source": []
    },
    {
      "cell_type": "code",
      "execution_count": null,
      "metadata": {
        "id": "MCDDg00UNyxp"
      },
      "outputs": [],
      "source": []
    },
    {
      "cell_type": "code",
      "execution_count": null,
      "metadata": {
        "id": "cwySPO7oNyxp"
      },
      "outputs": [],
      "source": []
    },
    {
      "cell_type": "code",
      "execution_count": null,
      "metadata": {
        "id": "4kdL5AExNyxp"
      },
      "outputs": [],
      "source": []
    },
    {
      "cell_type": "markdown",
      "metadata": {
        "id": "Y0KY-32bNyxp"
      },
      "source": [
        "## TASK 2: Prepare image for one-shot convolution\n",
        "\n",
        "We will prepare images to do the convolution with one dot product operation for each filter and each image. This will use more memory but will increase performance, specially if we have many filters.\n",
        "\n",
        "For instance, assume we have the following 1x8x6x1 images (only one image, one channel) and 2x3x1x2 filters (one channel, two filters)"
      ]
    },
    {
      "cell_type": "code",
      "execution_count": null,
      "metadata": {
        "id": "_f6aTrgzNyxq"
      },
      "outputs": [],
      "source": [
        "img = np.r_[[9, 4, 9, 6, 7, 1, 2, 2, 8, 0, 8, 6, 8, 6, 5, 5, 1, 4, 3, 4, 4, 4,\n",
        "             3, 6, 5, 1, 7, 9, 1, 4, 0, 3, 1, 4, 3, 5, 1, 5, 5, 4, 9, 6, 3, 2,\n",
        "             8, 9, 0, 6]].reshape(1,8,6,1)\n",
        "f = np.r_[[6, 7, 8, 5, 2, 9, 6, 4, 9, 7, 9, 7]].reshape(2,3,1,2)\n",
        "print (\"images\", img.shape)\n",
        "print (img[0,:,:,0])\n",
        "print (\"--\")\n",
        "print (\"filters\", f.shape)\n",
        "print (f[:,:,0,0])\n",
        "print (f[:,:,0,1])"
      ]
    },
    {
      "cell_type": "markdown",
      "metadata": {
        "id": "M8zV181cNyxq"
      },
      "source": [
        "observe that if we repeat and rearrange `img` in the following way"
      ]
    },
    {
      "cell_type": "code",
      "execution_count": 12,
      "metadata": {
        "id": "Aa-ZuDH7Nyxq"
      },
      "outputs": [],
      "source": [
        "pimg = np.array([[[[9., 4., 9., 2., 2., 8.],\n",
        "         [4., 9., 6., 2., 8., 0.],\n",
        "         [9., 6., 7., 8., 0., 8.],\n",
        "         [6., 7., 1., 0., 8., 6.]],\n",
        "\n",
        "        [[2., 2., 8., 8., 6., 5.],\n",
        "         [2., 8., 0., 6., 5., 5.],\n",
        "         [8., 0., 8., 5., 5., 1.],\n",
        "         [0., 8., 6., 5., 1., 4.]],\n",
        "\n",
        "        [[8., 6., 5., 3., 4., 4.],\n",
        "         [6., 5., 5., 4., 4., 4.],\n",
        "         [5., 5., 1., 4., 4., 3.],\n",
        "         [5., 1., 4., 4., 3., 6.]],\n",
        "\n",
        "        [[3., 4., 4., 5., 1., 7.],\n",
        "         [4., 4., 4., 1., 7., 9.],\n",
        "         [4., 4., 3., 7., 9., 1.],\n",
        "         [4., 3., 6., 9., 1., 4.]],\n",
        "\n",
        "        [[5., 1., 7., 0., 3., 1.],\n",
        "         [1., 7., 9., 3., 1., 4.],\n",
        "         [7., 9., 1., 1., 4., 3.],\n",
        "         [9., 1., 4., 4., 3., 5.]],\n",
        "\n",
        "        [[0., 3., 1., 1., 5., 5.],\n",
        "         [3., 1., 4., 5., 5., 4.],\n",
        "         [1., 4., 3., 5., 4., 9.],\n",
        "         [4., 3., 5., 4., 9., 6.]],\n",
        "\n",
        "        [[1., 5., 5., 3., 2., 8.],\n",
        "         [5., 5., 4., 2., 8., 9.],\n",
        "         [5., 4., 9., 8., 9., 0.],\n",
        "         [4., 9., 6., 9., 0., 6.]]]])\n"
      ]
    },
    {
      "cell_type": "markdown",
      "metadata": {
        "id": "1fQV4QUHNyxr"
      },
      "source": [
        "we only need one `dot` operation to obtain the convolution"
      ]
    },
    {
      "cell_type": "code",
      "execution_count": null,
      "metadata": {
        "id": "fN90JlKrNyxr"
      },
      "outputs": [],
      "source": [
        "\n",
        "pimg[0].dot(f[:,:,:,0].flatten())\n"
      ]
    },
    {
      "cell_type": "markdown",
      "metadata": {
        "id": "ZR9eUpn4Nyxr"
      },
      "source": [
        "which we can compare with your previous function"
      ]
    },
    {
      "cell_type": "code",
      "execution_count": null,
      "metadata": {
        "id": "PToW_D0zNyxr"
      },
      "outputs": [],
      "source": [
        "\n",
        "convolution_byhand(img, f, activation=linear)[0,:,:,0]\n"
      ]
    },
    {
      "cell_type": "markdown",
      "metadata": {
        "id": "_9BQDCydNyxr"
      },
      "source": [
        "observe that:\n",
        "\n",
        "- resulting images in this example after convolution with any filter will have size 7x4\n",
        "- the resulting structure `pimg` has at each pixel (in the 7x4 grid) a vector of six elements associated with it.\n",
        "- this vector is the flattened contents of 2x3x1 image fragment located at that pixel that would by multiplied element by element by any filter located at that pixel during the convolution.\n",
        "- the first row in `pimg` corresponds to the flattened 2x3 fragment located at the top left corner of `img`\n",
        "- the second row contains the 2x3 fragment after shifting one pixel to the right.\n",
        "- we use the [`np.flatten`](https://docs.scipy.org/doc/numpy/reference/generated/numpy.ndarray.flatten.html) operation.\n",
        "\n",
        "\n",
        "**COMPLETE** the following function such that it prepares an image in this way, so that the convolution with a filter is just a `dot` operation. Where:\n",
        "\n",
        "- `img` is the images array (assume we only have one image)\n",
        "- `fy` and `fx` are the filter dimensions (2,3 in the example just above)\n"
      ]
    },
    {
      "cell_type": "code",
      "execution_count": 17,
      "metadata": {
        "id": "Bxjgo9fWNyxr"
      },
      "outputs": [],
      "source": [
        "def prepare_img(img, fy, fx):\n",
        "    r = np.zeros( (1, img.shape[1]-fy+1, img.shape[2]-fx+1, fy*fx*img.shape[3] ))\n",
        "    for y in range(img.shape[1]-fy+1):\n",
        "        for x in range(img.shape[2]-fx+1):\n",
        "            r[0,y,x,:] = .. # YOUR CODE HERE\n",
        "    return r"
      ]
    },
    {
      "cell_type": "markdown",
      "metadata": {
        "id": "vRdYjkdMNyxs"
      },
      "source": [
        "test your code manually"
      ]
    },
    {
      "cell_type": "code",
      "execution_count": null,
      "metadata": {
        "scrolled": false,
        "id": "ijcB0EPHNyxs"
      },
      "outputs": [],
      "source": [
        "pimg = prepare_img(img, *f.shape[:2])\n",
        "print (pimg.shape)\n",
        "pimg"
      ]
    },
    {
      "cell_type": "code",
      "execution_count": 18,
      "metadata": {
        "id": "XL6LuVfhNyxs"
      },
      "outputs": [],
      "source": []
    },
    {
      "cell_type": "markdown",
      "metadata": {
        "id": "aYC4CcFlNyxs"
      },
      "source": [
        "**Registra tu solución en linea**"
      ]
    },
    {
      "cell_type": "code",
      "execution_count": null,
      "metadata": {
        "scrolled": false,
        "id": "--oJAYCXNyxs"
      },
      "outputs": [],
      "source": [
        "student.submit_task(namespace=globals(), task_id='T2');"
      ]
    },
    {
      "cell_type": "code",
      "execution_count": null,
      "metadata": {
        "id": "6dVCafKxNyxs"
      },
      "outputs": [],
      "source": []
    },
    {
      "cell_type": "code",
      "execution_count": null,
      "metadata": {
        "id": "yqzbjboANyxt"
      },
      "outputs": [],
      "source": []
    },
    {
      "cell_type": "markdown",
      "metadata": {
        "id": "YeAeWwPqNyxt"
      },
      "source": [
        "## TASK 3: Compute number of weights\n",
        "\n",
        "Complete the following function so that it computes the number of weights of a convolutional architecture as specified in the arguments.\n",
        "\n",
        "- `input_shape`:  the shape of the input image\n",
        "- `filters`: a list of dictionaries, with one dictionary per convolutional layer specifying the number and size of the filters of the layer.\n",
        "- `dense_shapes`: a list of integers, with one integer per dense layer specifying the number of neurons of the layer.\n",
        "\n",
        "see the example below. **YOU CANNOT USE TENSORFLOW** in your implementation. Use the function `tf_build_model` below to understand the function arguments and check your implementation.\n",
        "\n",
        "use `VALID` padding for the convolutional layers."
      ]
    },
    {
      "cell_type": "code",
      "execution_count": null,
      "metadata": {
        "id": "TmCC5JgCNyxt"
      },
      "outputs": [],
      "source": [
        "def compute_nb_weights(input_shape, filters, dense_shapes):\n",
        "    # YOUR CODE HERE\n",
        "    r = ...\n",
        "    return r"
      ]
    },
    {
      "cell_type": "code",
      "execution_count": 21,
      "metadata": {
        "id": "6g2PZvhsNyxt"
      },
      "outputs": [],
      "source": [
        "fs = [ {'n_filters': 90, 'size': 5}, {'n_filters': 15, 'size': 4}]\n",
        "ds = [100,20,3]\n",
        "input_shape = (100,100,3)"
      ]
    },
    {
      "cell_type": "code",
      "execution_count": 24,
      "metadata": {
        "id": "Q69uH15ANyxt"
      },
      "outputs": [],
      "source": [
        "from tensorflow.keras.models import Sequential\n",
        "from tensorflow.keras.layers import Dense, Conv2D, Input, Flatten\n",
        "\n",
        "def tf_build_model(input_shape, filters, dense_shapes):\n",
        "\n",
        "    model = Sequential()\n",
        "    model.add(Input(shape=input_shape))  # 250x250 RGB images\n",
        "    for f in filters:\n",
        "        model.add(Conv2D(f['n_filters'], f['size'], strides=1, padding='VALID', activation=\"relu\"))\n",
        "    model.add(Flatten())\n",
        "    for n in dense_shapes:\n",
        "        model.add(Dense(n))\n",
        "\n",
        "    return model"
      ]
    },
    {
      "cell_type": "code",
      "execution_count": 24,
      "metadata": {
        "id": "lshwePr5Nyxu"
      },
      "outputs": [],
      "source": []
    },
    {
      "cell_type": "code",
      "execution_count": null,
      "metadata": {
        "scrolled": true,
        "id": "u7ZK78HDNyxu"
      },
      "outputs": [],
      "source": [
        "m = tf_build_model(input_shape, fs, ds)\n",
        "m.summary()"
      ]
    },
    {
      "cell_type": "markdown",
      "metadata": {
        "id": "_bmf1b-jNyxu"
      },
      "source": [
        "**Registra tu solución en linea**"
      ]
    },
    {
      "cell_type": "code",
      "execution_count": null,
      "metadata": {
        "scrolled": false,
        "id": "y4xo-fdSNyxu"
      },
      "outputs": [],
      "source": [
        "student.submit_task(namespace=globals(), task_id='T3');"
      ]
    },
    {
      "cell_type": "code",
      "execution_count": null,
      "metadata": {
        "id": "_ROs1F-iNyxu"
      },
      "outputs": [],
      "source": []
    }
  ],
  "metadata": {
    "kernelspec": {
      "display_name": "Python 3 (ipykernel)",
      "language": "python",
      "name": "python3"
    },
    "language_info": {
      "codemirror_mode": {
        "name": "ipython",
        "version": 3
      },
      "file_extension": ".py",
      "mimetype": "text/x-python",
      "name": "python",
      "nbconvert_exporter": "python",
      "pygments_lexer": "ipython3",
      "version": "3.9.15"
    },
    "varInspector": {
      "cols": {
        "lenName": 16,
        "lenType": 16,
        "lenVar": 40
      },
      "kernels_config": {
        "python": {
          "delete_cmd_postfix": "",
          "delete_cmd_prefix": "del ",
          "library": "var_list.py",
          "varRefreshCmd": "print(var_dic_list())"
        },
        "r": {
          "delete_cmd_postfix": ") ",
          "delete_cmd_prefix": "rm(",
          "library": "var_list.r",
          "varRefreshCmd": "cat(var_dic_list()) "
        }
      },
      "types_to_exclude": [
        "module",
        "function",
        "builtin_function_or_method",
        "instance",
        "_Feature"
      ],
      "window_display": false
    },
    "colab": {
      "provenance": []
    }
  },
  "nbformat": 4,
  "nbformat_minor": 0
}