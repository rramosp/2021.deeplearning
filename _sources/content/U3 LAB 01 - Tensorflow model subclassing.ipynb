{
  "cells": [
    {
      "cell_type": "markdown",
      "metadata": {
        "id": "SgRlA09GEjYr"
      },
      "source": [
        "# LAB 3.1 - TF model subclassing"
      ]
    },
    {
      "cell_type": "markdown",
      "metadata": {
        "id": "IBXa9T_OEjYt"
      },
      "source": [
        "The labs require a `tensorflow` version lower than the default one used in Google Colab. Run the following cell to downgrade TensorFlow accordingly."
      ]
    },
    {
      "cell_type": "code",
      "execution_count": null,
      "metadata": {
        "id": "q_M-TLIdEjYv"
      },
      "outputs": [],
      "source": [
        "!wget -nc --no-cache -O init.py -q https://raw.githubusercontent.com/rramosp/2021.deeplearning/main/content/init.py\n",
        "import init; init.init(force_download=False);"
      ]
    },
    {
      "cell_type": "code",
      "execution_count": null,
      "metadata": {
        "scrolled": true,
        "id": "IjGUZJIGEjYw"
      },
      "outputs": [],
      "source": [
        "from local.lib.rlxmoocapi import submit, session\n",
        "import inspect\n",
        "session.LoginSequence(endpoint=init.endpoint, course_id=init.course_id, lab_id=\"L03.01\", varname=\"student\");"
      ]
    },
    {
      "cell_type": "code",
      "execution_count": 6,
      "metadata": {
        "id": "xf4qEJ4ZEjYw",
        "outputId": "8c8dcc4d-6863-40f1-aad5-5960bdd9edb2",
        "colab": {
          "base_uri": "https://localhost:8080/",
          "height": 71
        }
      },
      "outputs": [
        {
          "output_type": "stream",
          "name": "stdout",
          "text": [
            "The tensorboard extension is already loaded. To reload it, use:\n",
            "  %reload_ext tensorboard\n"
          ]
        },
        {
          "output_type": "execute_result",
          "data": {
            "text/plain": [
              "'2.19.0'"
            ],
            "application/vnd.google.colaboratory.intrinsic+json": {
              "type": "string"
            }
          },
          "metadata": {},
          "execution_count": 6
        }
      ],
      "source": [
        "import numpy as np\n",
        "import os\n",
        "os.environ['TF_CPP_MIN_LOG_LEVEL'] = '3'\n",
        "import tensorflow as tf\n",
        "import matplotlib.pyplot as plt\n",
        "%matplotlib inline\n",
        "%load_ext tensorboard\n",
        "\n",
        "from sklearn.datasets import *\n",
        "from local.lib import mlutils\n",
        "tf.__version__"
      ]
    },
    {
      "cell_type": "markdown",
      "metadata": {
        "id": "Le3HeZz5EjYx"
      },
      "source": [
        "\n",
        "\n",
        "**A multilayer perceptron**\n",
        "\n",
        "assuming $n$ layers, the output at layer $i$\n",
        "\n",
        "$$\\mathbf{a}_i = \\text{activation}(\\mathbf{a}_{i-1} \\cdot \\mathbf{W}_i + \\mathbf{b}_i)$$\n",
        "\n",
        "at the first layer\n",
        "\n",
        "$$\\mathbf{a}_0 = \\text{activation}(\\mathbf{X} \\cdot \\mathbf{W}_0 + \\mathbf{b}_0)$$\n",
        "\n",
        "and the layer prediction is the output of the last layer:\n",
        "\n",
        "$$\\hat{\\mathbf{y}} = \\mathbf{a}_{n-1}$$\n",
        "\n",
        "with $\\text{activation}$ being an activation function, such as $\\text{sigmoid}(z) = \\frac{1}{1+e^{-z}}$, $\\text{tanh}$, $\\text{ReLU}$, etc.\n",
        "\n",
        "\n",
        "**Cost (with regularization)**\n",
        "\n",
        "\n",
        "$$J(\\mathbf{b}_1, b_2, \\mathbf{W}_1, \\mathbf{W}_2) = \\frac{1}{m}\\sum_{i=0}^{m-1} (\\hat{y}-y)^2 + \\lambda \\sum_{i=0}^{n-1} \\bigg[ \\| \\mathbf{b}_i\\|^2 + \\|\\mathbf{W}_i\\|^2 \\bigg]$$\n",
        "\n",
        "\n",
        "$\\lambda$ regulates the participation of the regularization terms. Given a vector or matrix $\\mathbf{T}$, its squared norm is denoted by $||\\mathbf{T}||^2 \\in \\mathbb{R}$ and it's computed by squaring all its elements and summing them all up.\n"
      ]
    },
    {
      "cell_type": "markdown",
      "metadata": {
        "id": "dJD5Y1XqEjYx"
      },
      "source": [
        "## TASK 1: Model `build`\n",
        "\n",
        "Observe the class template below which is used to build a multilayer perceptron with a specific number of layers. In the constructor.\n",
        "\n",
        "- `neurons` must be a list of integers specifying the number of neurons of each hidden layer and the output layer.\n",
        "- `activations` must be a list of strings specifying  the activations of the neurons of each layer.\n",
        "\n",
        "Both `neurons` and `activations` must have the same number of elements. Observe how in the class constructor (`__init__`) we check for this and transform the list of activation strings to actual TF funcions.\n",
        "\n",
        "**YOU MUST** complete the `build` method in the class below so that `self.W` and `self.b` contain a list of tensors with randomly initialized weights for each layer. Create the weights by calling the `self.add_weights` function for each layer, both for the weights (add them to list `self.W`) and the biases (add them to list `b`). Call `self.add_weights` with parameters `initializer='random_normal', trainable=True, dtype=tf.float32`.\n",
        "\n",
        "Note that the shape of the first layer weights are not known until the `build` method is called which is when the `input_shape` for the input data is known. For instance, the following invokations\n",
        "\n",
        "\n",
        "    >> mlp = MLP_class(neurons=[10,5,1], activations=[\"tanh\",\"tanh\", \"sigmoid\"])\n",
        "    >> mlp.build([None, 2])\n",
        "    >> print (\"W shapes\", [i.shape for i in mlp.W])\n",
        "    \n",
        "should produce the following output\n",
        "    \n",
        "    W shapes [TensorShape([2, 10]), TensorShape([10, 5]), TensorShape([5, 1])]\n",
        "    b shapes [TensorShape([10]), TensorShape([5]), TensorShape([1])]"
      ]
    },
    {
      "cell_type": "code",
      "execution_count": 9,
      "metadata": {
        "id": "IIBe3A--EjYy"
      },
      "outputs": [],
      "source": [
        "def MLP(neurons, activations, reg=0.):\n",
        "\n",
        "    from tensorflow.keras import Model\n",
        "    from tensorflow.keras.activations import relu, sigmoid, tanh, linear\n",
        "    import numpy as np\n",
        "    import tensorflow as tf\n",
        "\n",
        "    class MLP_class(Model):\n",
        "        def __init__(self, neurons, activations, reg=0.):\n",
        "            super().__init__()\n",
        "            self.activation_map = {\"linear\": linear, \"relu\": relu, \"tanh\":tanh, \"sigmoid\": sigmoid}\n",
        "\n",
        "            assert len(neurons)==len(activations), \\\n",
        "                        \"must have the same number of neurons and activations\"\n",
        "\n",
        "            assert np.all([i in self.activation_map.keys() for i in activations]), \\\n",
        "                                \"activation string not recognized\"\n",
        "\n",
        "            self.neurons = neurons\n",
        "            self.reg = reg\n",
        "            self.activations = [self.activation_map[i] for i in activations]\n",
        "\n",
        "            super().__init__()\n",
        "\n",
        "        def build(self, input_shape):\n",
        "            self.W = []\n",
        "            self.b = []\n",
        "\n",
        "            ... # YOUR CODE HERE\n",
        "\n",
        "\n",
        "    return MLP_class(neurons, activations, reg)\n"
      ]
    },
    {
      "cell_type": "markdown",
      "metadata": {
        "id": "E9sx4N0uEjY0"
      },
      "source": [
        "test manually your code"
      ]
    },
    {
      "cell_type": "code",
      "execution_count": null,
      "metadata": {
        "id": "utYEFivvEjY0"
      },
      "outputs": [],
      "source": [
        "mlp = MLP(neurons=[10,5,1], activations=[\"tanh\",\"tanh\", \"sigmoid\"])\n",
        "mlp.build([None, 2])\n",
        "print (\"W shapes\", [i.shape for i in mlp.W])\n",
        "print (\"b shapes\", [i.shape for i in mlp.b])"
      ]
    },
    {
      "cell_type": "markdown",
      "metadata": {
        "id": "Lsif1DPkEjY1"
      },
      "source": [
        "**Registra tu solución en linea**"
      ]
    },
    {
      "cell_type": "code",
      "execution_count": null,
      "metadata": {
        "scrolled": false,
        "id": "yg80UdAXEjY1"
      },
      "outputs": [],
      "source": [
        "student.submit_task(namespace=globals(), task_id='T1');"
      ]
    },
    {
      "cell_type": "markdown",
      "metadata": {
        "id": "m5cX-337EjY1"
      },
      "source": [
        "## Task 2: Model `call`\n",
        "\n",
        "Complete the `call` method below so that it computes the output of the configured MLP with the input `X` as\n",
        "\n",
        "$$\\hat{\\mathbf{y}} = \\mathbf{a}_{n-1}$$\n",
        "\n",
        "as described above. Use `self.W`, `self.b` and `self.activations` as constructed previously on the `build` and `__init__` methods."
      ]
    },
    {
      "cell_type": "code",
      "execution_count": null,
      "metadata": {
        "id": "XCXEv7CTEjY2"
      },
      "outputs": [],
      "source": [
        "def MLP2(neurons, activations, reg=0.):\n",
        "\n",
        "    from tensorflow.keras import Model\n",
        "    from tensorflow.keras.activations import relu, sigmoid, tanh, linear\n",
        "\n",
        "    class MLP_class(Model):\n",
        "        def __init__(self, neurons, activations, reg=0.):\n",
        "            super().__init__()\n",
        "            self.activation_map = {\"linear\": linear, \"relu\": relu, \"tanh\":tanh, \"sigmoid\": sigmoid}\n",
        "\n",
        "            assert len(neurons)==len(activations), \\\n",
        "                        \"must have the same number of neurons and activations\"\n",
        "\n",
        "            assert np.all([i in self.activation_map.keys() for i in activations]), \\\n",
        "                                \"activation string not recognized\"\n",
        "\n",
        "            self.neurons = neurons\n",
        "            self.reg = reg\n",
        "            self.activations = [self.activation_map[i] for i in activations]\n",
        "\n",
        "            super().__init__()\n",
        "\n",
        "        def build(self, input_shape):\n",
        "            self.W = []\n",
        "            self.b = []\n",
        "\n",
        "            ... # YOUR CODE HERE (copy from previous task )\n",
        "\n",
        "        @tf.function\n",
        "        def call(self, X):\n",
        "            a = ... # YOUR CODE HERE\n",
        "            return s\n",
        "\n",
        "    return MLP_class(neurons, activations, reg)"
      ]
    },
    {
      "cell_type": "markdown",
      "metadata": {
        "id": "VI0tGqRKEjY2"
      },
      "source": [
        "test manually your code, the following two cells must return the same value everytime you execute them. Observe your MLP will initialize to different random weights each time."
      ]
    },
    {
      "cell_type": "code",
      "execution_count": null,
      "metadata": {
        "id": "oCmr5ZhVEjY2"
      },
      "outputs": [],
      "source": [
        "X = np.random.random(size=(4,2))\n",
        "neurons = [3,2]\n",
        "mlp = MLP2(neurons=[3,2], activations=[\"linear\", \"sigmoid\"])\n",
        "mlp(X)"
      ]
    },
    {
      "cell_type": "code",
      "execution_count": null,
      "metadata": {
        "id": "TwRzibtbEjY3"
      },
      "outputs": [],
      "source": [
        "sigm = lambda x: 1/(1+np.exp(-x))\n",
        "W = [i.numpy() for i in mlp.W]\n",
        "b = [i.numpy() for i in mlp.b]\n",
        "sigm((X.dot(W[0])+b[0]).dot(W[1])+b[1])"
      ]
    },
    {
      "cell_type": "markdown",
      "metadata": {
        "id": "2QKMWjkVEjY3"
      },
      "source": [
        "**Registra tu solución en linea**"
      ]
    },
    {
      "cell_type": "code",
      "execution_count": null,
      "metadata": {
        "scrolled": false,
        "id": "cz_G3kZXEjY3"
      },
      "outputs": [],
      "source": [
        "student.submit_task(namespace=globals(), task_id='T2');"
      ]
    },
    {
      "cell_type": "code",
      "execution_count": null,
      "metadata": {
        "id": "9PzYzNb3EjY4"
      },
      "outputs": [],
      "source": []
    },
    {
      "cell_type": "markdown",
      "metadata": {
        "id": "G9uTNI48EjY4"
      },
      "source": [
        "## Task 3: Loss function\n",
        "\n",
        "Complete the `loss` method below so that it computes the loss of the `MLP` given predictions `y_pred` (as the output of the network) and desired output `y_true`.\n",
        "\n",
        "$$J(\\mathbf{b}_1, b_2, \\mathbf{W}_1, \\mathbf{W}_2) = \\frac{1}{m}\\sum_{i=0}^{m-1} (\\hat{y}-y)^2 + \\lambda \\sum_{i=0}^{n-1} \\bigg[ \\| \\mathbf{b}_i\\|^2_{mean} + \\|\\mathbf{W}_i\\|^2_{mean} \\bigg]$$\n",
        "\n",
        "\n",
        "observe the regularization term $\\lambda$ which is stored as `self.reg` in your class.\n",
        "\n",
        "For any weight or bias $\\mathbf{k}$, the expression $\\| \\mathbf{k}\\|^2_{mean}$ is the mean of all its elements squared."
      ]
    },
    {
      "cell_type": "code",
      "execution_count": null,
      "metadata": {
        "id": "cTFfcrBVEjY4"
      },
      "outputs": [],
      "source": [
        "def MLP3(neurons, activations, reg=0.):\n",
        "\n",
        "    from tensorflow.keras import Model\n",
        "    from tensorflow.keras.activations import relu, sigmoid, tanh, linear\n",
        "\n",
        "    class MLP_class(Model):\n",
        "        def __init__(self, neurons, activations, reg=0.):\n",
        "            super().__init__()\n",
        "            self.activation_map = {\"linear\": linear, \"relu\": relu, \"tanh\":tanh, \"sigmoid\": sigmoid}\n",
        "\n",
        "            assert len(neurons)==len(activations), \\\n",
        "                        \"must have the same number of neurons and activations\"\n",
        "\n",
        "            assert np.all([i in self.activation_map.keys() for i in activations]), \\\n",
        "                                \"activation string not recognized\"\n",
        "\n",
        "            self.neurons = neurons\n",
        "            self.reg = reg\n",
        "            self.activations = [self.activation_map[i] for i in activations]\n",
        "\n",
        "            super().__init__()\n",
        "\n",
        "        def build(self, input_shape):\n",
        "            self.W = []\n",
        "            self.b = []\n",
        "\n",
        "            ... # YOUR CODE HERE (copy from previous task)\n",
        "\n",
        "        @tf.function\n",
        "        def call(self, X):\n",
        "            a = ... # YOUR CODE HERE (copy from previous task)\n",
        "            return s\n",
        "\n",
        "\n",
        "        @tf.function\n",
        "        def custom_loss(self, y_true, y_pred):\n",
        "            r = ... # YOUR CODE HERE\n",
        "            return ...\n",
        "\n",
        "    return MLP_class(neurons, activations, reg)"
      ]
    },
    {
      "cell_type": "markdown",
      "metadata": {
        "id": "_EeQilgHEjY4"
      },
      "source": [
        "test manually your code, the following two cells must return the same value everytime you execute them. Observe your MLP will initialize to different random weights each time."
      ]
    },
    {
      "cell_type": "code",
      "execution_count": 46,
      "metadata": {
        "id": "gSkquVhzEjY6",
        "outputId": "05bff992-62cd-4bdb-d5b6-bd767d1ac576",
        "colab": {
          "base_uri": "https://localhost:8080/"
        }
      },
      "outputs": [
        {
          "output_type": "stream",
          "name": "stderr",
          "text": [
            "WARNING:tensorflow:5 out of the last 6 calls to <function MLP3.<locals>.MLP_class.call at 0x7d11dcfabba0> triggered tf.function retracing. Tracing is expensive and the excessive number of tracings could be due to (1) creating @tf.function repeatedly in a loop, (2) passing tensors with different shapes, (3) passing Python objects instead of tensors. For (1), please define your @tf.function outside of the loop. For (2), @tf.function has reduce_retracing=True option that can avoid unnecessary retracing. For (3), please refer to https://www.tensorflow.org/guide/function#controlling_retracing and https://www.tensorflow.org/api_docs/python/tf/function for  more details.\n"
          ]
        },
        {
          "output_type": "execute_result",
          "data": {
            "text/plain": [
              "np.float32(0.25332093)"
            ]
          },
          "metadata": {},
          "execution_count": 46
        }
      ],
      "source": [
        "X = np.random.random(size=(4,2)).astype(np.float32)\n",
        "y_true = np.random.randint(2, size=(len(X),1)).astype(np.float32)\n",
        "neurons = [3,2]\n",
        "mlp = MLP3(neurons=[3,1], activations=[\"linear\", \"sigmoid\"], reg=0.2)\n",
        "mlp.custom_loss(mlp(X), y_true).numpy()"
      ]
    },
    {
      "cell_type": "code",
      "execution_count": 47,
      "metadata": {
        "id": "3ijVRE7JEjY6",
        "outputId": "dd74f269-4551-4d37-d09c-76e60b985bbf",
        "colab": {
          "base_uri": "https://localhost:8080/"
        }
      },
      "outputs": [
        {
          "output_type": "execute_result",
          "data": {
            "text/plain": [
              "np.float32(0.25332093)"
            ]
          },
          "metadata": {},
          "execution_count": 47
        }
      ],
      "source": [
        "sigm = lambda x: 1/(1+np.exp(-x))\n",
        "W = [i.numpy() for i in mlp.W]\n",
        "b = [i.numpy() for i in mlp.b]\n",
        "y_pred = sigm((X.dot(W[0])+b[0]).dot(W[1])+b[1])\n",
        "((y_pred-y_true)**2).mean() + mlp.reg * np.sum([(i**2).numpy().mean() for i in mlp.W+mlp.b])"
      ]
    },
    {
      "cell_type": "markdown",
      "metadata": {
        "id": "sFGbXizbEjY6"
      },
      "source": [
        "**Registra tu solución en linea**"
      ]
    },
    {
      "cell_type": "code",
      "execution_count": null,
      "metadata": {
        "scrolled": true,
        "id": "OJZZcTFGEjY6"
      },
      "outputs": [],
      "source": [
        "student.submit_task(namespace=globals(), task_id='T3');"
      ]
    },
    {
      "cell_type": "markdown",
      "metadata": {
        "id": "kcRrj3z5EjY6"
      },
      "source": [
        "## Done!!\n",
        "\n",
        "now you can try your class with synthetic data"
      ]
    },
    {
      "cell_type": "code",
      "execution_count": 52,
      "metadata": {
        "id": "wtYujZAuEjY6",
        "outputId": "ada98147-fe79-4f7e-a7b6-e7dae4bd0c74",
        "colab": {
          "base_uri": "https://localhost:8080/",
          "height": 448
        }
      },
      "outputs": [
        {
          "output_type": "execute_result",
          "data": {
            "text/plain": [
              "<matplotlib.collections.PathCollection at 0x7d11c3910830>"
            ]
          },
          "metadata": {},
          "execution_count": 52
        },
        {
          "output_type": "display_data",
          "data": {
            "text/plain": [
              "<Figure size 640x480 with 1 Axes>"
            ],
            "image/png": "[encoded data removed]"
          },
          "metadata": {}
        }
      ],
      "source": [
        "X, y = make_moons(200, noise=.35)\n",
        "X, y = X.astype(np.float32), y.astype(np.float32).reshape(-1,1)\n",
        "plt.scatter(X[:,0][y[:,0]==0], X[:,1][y[:,0]==0], color=\"red\", label=\"class 0\")\n",
        "plt.scatter(X[:,0][y[:,0]==1], X[:,1][y[:,0]==1], color=\"blue\", label=\"class 1\")"
      ]
    },
    {
      "cell_type": "markdown",
      "metadata": {
        "id": "gWmgAB7cEjY6"
      },
      "source": [
        "create MLP and train!!"
      ]
    },
    {
      "cell_type": "code",
      "execution_count": 53,
      "metadata": {
        "id": "2M2RpYu_EjY8"
      },
      "outputs": [],
      "source": [
        "mlp = MLP3(neurons=[10,1], activations=[\"tanh\",\"sigmoid\"], reg=0.0)\n",
        "mlp.compile(optimizer=tf.keras.optimizers.Adam(learning_rate=0.1), loss=mlp.custom_loss,\n",
        "           metrics=[tf.keras.metrics.mae, tf.keras.metrics.binary_accuracy])"
      ]
    },
    {
      "cell_type": "code",
      "execution_count": 54,
      "metadata": {
        "id": "DpqW3hE2EjY8",
        "outputId": "a05fd313-0bf9-476e-c35f-8e3d4200abee",
        "colab": {
          "base_uri": "https://localhost:8080/"
        }
      },
      "outputs": [
        {
          "output_type": "execute_result",
          "data": {
            "text/plain": [
              "<keras.src.callbacks.history.History at 0x7d11c3910530>"
            ]
          },
          "metadata": {},
          "execution_count": 54
        }
      ],
      "source": [
        "!rm -rf logs\n",
        "tensorboard_callback = tf.keras.callbacks.TensorBoard(log_dir=\"logs/no_regularization\")\n",
        "mlp.fit(X,y, epochs=400, batch_size=16, verbose=0,\n",
        "        callbacks=[tensorboard_callback])"
      ]
    },
    {
      "cell_type": "markdown",
      "metadata": {
        "id": "nXzIbW2fEjY8"
      },
      "source": [
        "observe the accuracy and classification frontier"
      ]
    },
    {
      "cell_type": "code",
      "execution_count": 55,
      "metadata": {
        "id": "KjvlUmwmEjY8",
        "outputId": "c8d5a3be-ba5f-4c10-cb93-80dc909018ec",
        "colab": {
          "base_uri": "https://localhost:8080/",
          "height": 488
        }
      },
      "outputs": [
        {
          "output_type": "stream",
          "name": "stdout",
          "text": [
            "\u001b[1m1250/1250\u001b[0m \u001b[32m━━━━━━━━━━━━━━━━━━━━\u001b[0m\u001b[37m\u001b[0m \u001b[1m1s\u001b[0m 667us/step\n",
            "\u001b[1m7/7\u001b[0m \u001b[32m━━━━━━━━━━━━━━━━━━━━\u001b[0m\u001b[37m\u001b[0m \u001b[1m0s\u001b[0m 8ms/step \n"
          ]
        },
        {
          "output_type": "display_data",
          "data": {
            "text/plain": [
              "<Figure size 640x480 with 1 Axes>"
            ],
            "image/png": "[encoded data removed]"
          },
          "metadata": {}
        }
      ],
      "source": [
        "predict = lambda X: (mlp.predict(X)[:,0]>0.5).astype(int)\n",
        "mlutils.plot_2Ddata_with_boundary(predict, X, y.reshape(-1));\n",
        "plt.title(\"accuracy %.2f\"%np.mean(predict(X)==y.reshape(-1)));"
      ]
    },
    {
      "cell_type": "markdown",
      "metadata": {
        "id": "xZeMVaEhEjY9"
      },
      "source": [
        "regularization must work!!!"
      ]
    },
    {
      "cell_type": "code",
      "execution_count": 56,
      "metadata": {
        "id": "O2nexdS4EjY9",
        "outputId": "a04038bc-554d-4905-97a1-7d1b576b8ed0",
        "colab": {
          "base_uri": "https://localhost:8080/",
          "height": 488
        }
      },
      "outputs": [
        {
          "output_type": "stream",
          "name": "stdout",
          "text": [
            "\u001b[1m1250/1250\u001b[0m \u001b[32m━━━━━━━━━━━━━━━━━━━━\u001b[0m\u001b[37m\u001b[0m \u001b[1m1s\u001b[0m 670us/step\n",
            "\u001b[1m7/7\u001b[0m \u001b[32m━━━━━━━━━━━━━━━━━━━━\u001b[0m\u001b[37m\u001b[0m \u001b[1m0s\u001b[0m 8ms/step \n"
          ]
        },
        {
          "output_type": "display_data",
          "data": {
            "text/plain": [
              "<Figure size 640x480 with 1 Axes>"
            ],
            "image/png": "[encoded data removed]"
          },
          "metadata": {}
        }
      ],
      "source": [
        "tensorboard_callback = tf.keras.callbacks.TensorBoard(log_dir=\"logs/with_regularization\")\n",
        "mlp = MLP3(neurons=[10,1], activations=[\"tanh\",\"sigmoid\"], reg=0.005)\n",
        "\n",
        "mlp.compile(optimizer=tf.keras.optimizers.Adam(learning_rate=0.1), loss=mlp.custom_loss,\n",
        "           metrics=[tf.keras.metrics.mae, tf.keras.metrics.binary_accuracy])\n",
        "\n",
        "mlp.fit(X,y, epochs=400, batch_size=10, verbose=0, callbacks=[tensorboard_callback])\n",
        "mlutils.plot_2Ddata_with_boundary(predict, X, y.reshape(-1))\n",
        "plt.title(\"accuracy %.2f\"%np.mean(predict(X)==y.reshape(-1)));"
      ]
    },
    {
      "cell_type": "markdown",
      "metadata": {
        "id": "tpQsAr7hEjY9"
      },
      "source": [
        "and inspect tensorboard"
      ]
    },
    {
      "cell_type": "code",
      "execution_count": null,
      "metadata": {
        "id": "0fOFiRHQEjY9"
      },
      "outputs": [],
      "source": [
        "%load_ext tensorboard\n",
        "%tensorboard --logdir logs\n"
      ]
    },
    {
      "cell_type": "code",
      "execution_count": null,
      "metadata": {
        "id": "w-3Iq_vgEjY-"
      },
      "outputs": [],
      "source": []
    }
  ],
  "metadata": {
    "kernelspec": {
      "display_name": "Python 3 (ipykernel)",
      "language": "python",
      "name": "python3"
    },
    "language_info": {
      "codemirror_mode": {
        "name": "ipython",
        "version": 3
      },
      "file_extension": ".py",
      "mimetype": "text/x-python",
      "name": "python",
      "nbconvert_exporter": "python",
      "pygments_lexer": "ipython3",
      "version": "3.9.15"
    },
    "colab": {
      "provenance": []
    }
  },
  "nbformat": 4,
  "nbformat_minor": 0
}
