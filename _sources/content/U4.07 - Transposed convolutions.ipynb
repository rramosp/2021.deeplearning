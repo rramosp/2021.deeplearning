{
  "cells": [
    {
      "cell_type": "markdown",
      "metadata": {
        "id": "ESs7OzLABWmq"
      },
      "source": [
        "# 4.7 - Transposed convolutions"
      ]
    },
    {
      "cell_type": "code",
      "execution_count": 1,
      "metadata": {
        "id": "iPsrB8UvBWmr",
        "outputId": "60f3e767-132b-4845-acfa-e945c41960fc",
        "colab": {
          "base_uri": "https://localhost:8080/",
          "height": 71
        }
      },
      "outputs": [
        {
          "output_type": "stream",
          "name": "stderr",
          "text": [
            "/content/init.py:2: SyntaxWarning: invalid escape sequence '\\S'\n",
            "  course_id = '\\S*deeplearning\\S*'\n"
          ]
        },
        {
          "output_type": "display_data",
          "data": {
            "text/plain": [
              "<IPython.core.display.HTML object>"
            ],
            "text/html": [
              "\n",
              "<meta name=\"google-signin-client_id\"\n",
              "      content=\"461673936472-kdjosv61up3ac1ajeuq6qqu72upilmls.apps.googleusercontent.com\"/>\n",
              "<script src=\"https://apis.google.com/js/client:platform.js?onload=google_button_start\"></script>\n",
              "    "
            ]
          },
          "metadata": {}
        },
        {
          "output_type": "stream",
          "name": "stdout",
          "text": [
            "replicating local resources\n"
          ]
        }
      ],
      "source": [
        "!wget -nc --no-cache -O init.py -q https://raw.githubusercontent.com/rramosp/2021.deeplearning/main/content/init.py\n",
        "import init; init.init(force_download=False);"
      ]
    },
    {
      "cell_type": "code",
      "execution_count": 2,
      "metadata": {
        "id": "DjT-pFrNBWms",
        "outputId": "b6566211-8c52-4a18-d74b-6f50aa8e2992",
        "colab": {
          "base_uri": "https://localhost:8080/",
          "height": 35
        }
      },
      "outputs": [
        {
          "output_type": "execute_result",
          "data": {
            "text/plain": [
              "'2.19.0'"
            ],
            "application/vnd.google.colaboratory.intrinsic+json": {
              "type": "string"
            }
          },
          "metadata": {},
          "execution_count": 2
        }
      ],
      "source": [
        "import numpy as np\n",
        "import tensorflow as tf\n",
        "import matplotlib.pyplot as plt\n",
        "import pandas as pd\n",
        "%matplotlib inline\n",
        "%load_ext tensorboard\n",
        "from time import time\n",
        "tf.__version__"
      ]
    },
    {
      "cell_type": "markdown",
      "metadata": {
        "id": "a5D7Akh0BWmt"
      },
      "source": [
        "## Types of convolutions\n",
        "\n",
        "See [Types of convolutions](https://medium.com/hitchhikers-guide-to-deep-learning/10-introduction-to-deep-learning-with-computer-vision-types-of-convolutions-atrous-convolutions-3cf142f77bc0) for a global view of how convolutions can be made in different ways.\n",
        "\n",
        "Complementary refs:\n",
        "\n",
        "- [Up-sampling with Transposed Convolution](https://towardsdatascience.com/up-sampling-with-transposed-convolution-9ae4f2df52d0)\n",
        "- [A guide to convolution arithmetic for deep learning](https://arxiv.org/abs/1603.07285)\n",
        "- [Deconvolution and Checkerboard Artifacts](https://distill.pub/2016/deconv-checkerboard/)\n",
        "\n",
        "\n",
        "## Architectures:\n",
        "\n",
        "- UNet: [https://towardsdatascience.com/understanding-semantic-segmentation-with-unet-6be4f42d4b47](https://towardsdatascience.com/understanding-semantic-segmentation-with-unet-6be4f42d4b47)\n",
        "- DeepLab: [https://developers.arcgis.com/python/guide/how-deeplabv3-works/](https://developers.arcgis.com/python/guide/how-deeplabv3-works/)\n",
        "- Mask R-CNN: [https://towardsdatascience.com/computer-vision-instance-segmentation-with-mask-r-cnn-7983502fcad1](https://towardsdatascience.com/computer-vision-instance-segmentation-with-mask-r-cnn-7983502fcad1)"
      ]
    },
    {
      "cell_type": "markdown",
      "metadata": {
        "id": "5Bxwz8j2BWmu"
      },
      "source": [
        "## Convolution matrix\n",
        "\n",
        "we have the following (very small) image and filter"
      ]
    },
    {
      "cell_type": "code",
      "execution_count": 3,
      "metadata": {
        "id": "RL6oQjRmBWmv",
        "outputId": "9301034d-f463-4168-9968-0b7c9682dc6c",
        "colab": {
          "base_uri": "https://localhost:8080/"
        }
      },
      "outputs": [
        {
          "output_type": "stream",
          "name": "stdout",
          "text": [
            "image\n",
            " [[4. 5. 8. 7.]\n",
            " [1. 8. 8. 8.]\n",
            " [3. 6. 6. 4.]\n",
            " [6. 5. 7. 8.]]\n",
            "--\n",
            "filter\n",
            " [[10 -4 10]\n",
            " [10  0 30]\n",
            " [30 30 -1]]\n"
          ]
        }
      ],
      "source": [
        "simg = np.r_[[[4,5,8,7],[1,8,8,8],[3,6,6,4],[6,5,7,8]]].astype(np.float32)\n",
        "akernel = np.r_[[[10,-4,10],[10,4-4,30],[30,30,-1]]]\n",
        "print (\"image\\n\", simg)\n",
        "print (\"--\\nfilter\\n\", akernel)"
      ]
    },
    {
      "cell_type": "markdown",
      "metadata": {
        "id": "Zci5c6LDBWmv"
      },
      "source": [
        "and a VALID convolution (with TF and by hand)"
      ]
    },
    {
      "cell_type": "code",
      "execution_count": 4,
      "metadata": {
        "id": "MhzRgxwJBWmw",
        "outputId": "7f547138-efd4-4909-e7a7-4ea3d348504d",
        "colab": {
          "base_uri": "https://localhost:8080/"
        }
      },
      "outputs": [
        {
          "output_type": "stream",
          "name": "stdout",
          "text": [
            "[[614. 764.]\n",
            " [591. 660.]]\n"
          ]
        }
      ],
      "source": [
        "c1 = tf.keras.layers.Conv2D(filters=1, kernel_size=akernel.shape, padding=\"VALID\", activation=\"linear\")\n",
        "c1.build(input_shape=[None, *simg[:,:,None].shape])\n",
        "c1.set_weights([akernel[:,:,None, None], np.r_[0]])\n",
        "\n",
        "routput = c1(simg[None, :, :, None]).numpy()\n",
        "print(routput[0,:,:,0])"
      ]
    },
    {
      "cell_type": "code",
      "execution_count": 5,
      "metadata": {
        "id": "A0dIkMiVBWmw",
        "outputId": "d18fd618-6819-4305-f87c-08a27b17a539",
        "colab": {
          "base_uri": "https://localhost:8080/"
        }
      },
      "outputs": [
        {
          "output_type": "execute_result",
          "data": {
            "text/plain": [
              "array([[614., 764.],\n",
              "       [591., 660.]])"
            ]
          },
          "metadata": {},
          "execution_count": 5
        }
      ],
      "source": [
        "np.r_[[[(simg[:3,:3]*akernel).sum(), (simg[:3,1:]*akernel).sum()],\\\n",
        "       [(simg[1:,:3]*akernel).sum(), (simg[1:,1:]*akernel).sum()]]]"
      ]
    },
    {
      "cell_type": "markdown",
      "metadata": {
        "id": "S6aKvTTMBWmw"
      },
      "source": [
        "observe we can arrange the filter into a **convolutional matrix**, so that a `.dot` operation gets the same result.\n",
        "\n",
        "\n",
        "$$a_m = c_m \\times img$$\n",
        "\n",
        "with\n",
        "\n",
        "- $am \\in \\mathbb{R}^{4}$, that can be reshaped into $\\mathbb{R}^{2\\times 2}$\n",
        "- $cm \\in \\mathbb{R}^{4\\times 16}$\n",
        "- $img \\in \\mathbb{R}^{16}$, reshaped from $\\mathbb{R}^{4\\times 4}$\n"
      ]
    },
    {
      "cell_type": "code",
      "execution_count": 6,
      "metadata": {
        "id": "PXIKczYEBWmy",
        "outputId": "9434ecd9-941f-4a7d-e84d-20c4eea43a1c",
        "colab": {
          "base_uri": "https://localhost:8080/"
        }
      },
      "outputs": [
        {
          "output_type": "execute_result",
          "data": {
            "text/plain": [
              "array([[614., 764.],\n",
              "       [591., 660.]])"
            ]
          },
          "metadata": {},
          "execution_count": 6
        }
      ],
      "source": [
        "cm = np.array([[10., -4., 10.,  0., 10.,  0., 30.,  0., 30., 30., -1.,  0.,  0., 0.,  0.,   0.],\n",
        "               [ 0., 10., -4., 10.,  0., 10.,  0., 30.,  0., 30., 30., -1.,  0., 0.,  0.,   0.],\n",
        "               [ 0.,  0.,  0.,  0., 10., -4., 10.,  0., 10.,  0., 30.,  0., 30., 30., -1.,  0.],\n",
        "               [ 0.,  0.,  0.,  0.,  0., 10., -4., 10.,  0., 10.,  0., 30.,  0., 30., 30., -1.]])\n",
        "\n",
        "dx, dy = np.r_[simg.shape[0] - akernel.shape[0]+1, simg.shape[1] - akernel.shape[1]+1]\n",
        "am = cm.dot(simg.flatten()).reshape(dx,dy)\n",
        "am"
      ]
    },
    {
      "cell_type": "markdown",
      "metadata": {
        "id": "QmwFHrAFBWmy"
      },
      "source": [
        "observe that `cm` is just the same `akernel` replicated and re-arranged"
      ]
    },
    {
      "cell_type": "code",
      "execution_count": 7,
      "metadata": {
        "id": "nqe1qkOBBWmy",
        "outputId": "8261583b-81cd-4260-876c-8ba63491d1ff",
        "colab": {
          "base_uri": "https://localhost:8080/",
          "height": 412
        }
      },
      "outputs": [
        {
          "output_type": "display_data",
          "data": {
            "text/plain": [
              "<Figure size 640x480 with 2 Axes>"
            ],
            "image/png": "[encoded data removed]"
          },
          "metadata": {}
        }
      ],
      "source": [
        "plt.imshow(akernel); plt.axis(\"off\")\n",
        "plt.colorbar();"
      ]
    },
    {
      "cell_type": "code",
      "execution_count": 8,
      "metadata": {
        "id": "c1zlEbo8BWmy",
        "outputId": "f3699606-ee8a-42e1-b091-6dc496cd1111",
        "colab": {
          "base_uri": "https://localhost:8080/",
          "height": 412
        }
      },
      "outputs": [
        {
          "output_type": "display_data",
          "data": {
            "text/plain": [
              "<Figure size 640x480 with 2 Axes>"
            ],
            "image/png": "[encoded data removed]"
          },
          "metadata": {}
        }
      ],
      "source": [
        "plt.imshow(cm); plt.axis(\"off\")\n",
        "plt.colorbar();"
      ]
    },
    {
      "cell_type": "markdown",
      "metadata": {
        "id": "gyQeYyNgBWmy"
      },
      "source": [
        "## Transposed convolutions\n",
        "\n",
        "we can turn the `.dot` product around by using `cm`´s transpose matrix. This **IS NOT** in general an inverse operation, but the dimensions are kept and can be used to recover reduced dimensions.\n",
        "\n",
        "$$img´ = c_m^T \\times c_m$$\n",
        "\n",
        "with\n",
        "\n",
        "- $img´ \\in \\mathbb{R}^{16}$, that can be reshaped from $\\mathbb{R}^{4\\times 4}$\n",
        "- $cm \\in \\mathbb{R}^{16\\times 4}$\n",
        "- $am \\in \\mathbb{R}^{4}$, reshaped into $\\mathbb{R}^{2\\times 2}$\n"
      ]
    },
    {
      "cell_type": "code",
      "execution_count": 9,
      "metadata": {
        "id": "nIWqJawsBWmy",
        "outputId": "e6f02dd1-601c-40aa-f8de-efc86e736c76",
        "colab": {
          "base_uri": "https://localhost:8080/"
        }
      },
      "outputs": [
        {
          "output_type": "execute_result",
          "data": {
            "text/plain": [
              "array([[ 6140.,  5184.,  3084.,  7640.],\n",
              "       [12050., 11876., 21690., 29520.],\n",
              "       [24330., 47940., 40036., 19036.],\n",
              "       [17730., 37530., 19209.,  -660.]])"
            ]
          },
          "metadata": {},
          "execution_count": 9
        }
      ],
      "source": [
        "cm.T.dot(am.flatten()).reshape(simg.shape)"
      ]
    },
    {
      "cell_type": "markdown",
      "metadata": {
        "id": "8ABdoNEMBWmz"
      },
      "source": [
        "which is implemented as a [`Conv2DTransposed`](https://www.tensorflow.org/api_docs/python/tf/keras/layers/Conv2DTranspose) Keras layer"
      ]
    },
    {
      "cell_type": "code",
      "execution_count": 10,
      "metadata": {
        "id": "XlK7lTPYBWmz",
        "outputId": "5b5e1e74-a1bb-47d0-c23d-439a73ca1f79",
        "colab": {
          "base_uri": "https://localhost:8080/"
        }
      },
      "outputs": [
        {
          "output_type": "execute_result",
          "data": {
            "text/plain": [
              "array([[ 6140.,  5184.,  3084.,  7640.],\n",
              "       [12050., 11876., 21690., 29520.],\n",
              "       [24330., 47940., 40036., 19036.],\n",
              "       [17730., 37530., 19209.,  -660.]], dtype=float32)"
            ]
          },
          "metadata": {},
          "execution_count": 10
        }
      ],
      "source": [
        "ct = tf.keras.layers.Conv2DTranspose(filters=1, kernel_size=akernel.shape, activation=\"linear\")\n",
        "ct.build(input_shape=[None, *am[:,:,None].shape])\n",
        "ct.set_weights((akernel[:,:, None, None], np.r_[0]))\n",
        "ct(am[None, :, :, None]).numpy()[0,:,:,0]"
      ]
    },
    {
      "cell_type": "markdown",
      "metadata": {
        "id": "G7s2UqXbBWm0"
      },
      "source": [
        "observe how a transposed convolution is simply a convolution with a padded and dilated input img"
      ]
    },
    {
      "cell_type": "code",
      "execution_count": 11,
      "metadata": {
        "id": "7Z0Oa7t3BWm0"
      },
      "outputs": [],
      "source": [
        "def dilate(simg):\n",
        "    k = simg.copy()\n",
        "    for i in range(k.shape[1]-1):\n",
        "        k = np.insert(k, 1+2*i, values=0, axis=1)\n",
        "    for i in range(k.shape[0]-1):\n",
        "        k = np.insert(k, 1+2*i, values=0, axis=0)\n",
        "    return k\n",
        "\n",
        "def pad(am, n):\n",
        "    k = np.append(am,np.zeros((n,am.shape[1])), axis=0)\n",
        "    k = np.append(k,np.zeros((k.shape[0],n)), axis=1)\n",
        "    k = np.append(np.zeros((k.shape[0],n)), k, axis=1)\n",
        "    k = np.append(np.zeros((n, k.shape[1])), k, axis=0)\n",
        "    return k"
      ]
    },
    {
      "cell_type": "code",
      "execution_count": 12,
      "metadata": {
        "id": "gRLFZ5qvBWm0",
        "outputId": "ed75cc71-fa10-460b-b4a9-c88d7cdf47bd",
        "colab": {
          "base_uri": "https://localhost:8080/"
        }
      },
      "outputs": [
        {
          "output_type": "execute_result",
          "data": {
            "text/plain": [
              "array([[  0.,   0.,   0.,   0.,   0.,   0.],\n",
              "       [  0.,   0.,   0.,   0.,   0.,   0.],\n",
              "       [  0.,   0., 614., 764.,   0.,   0.],\n",
              "       [  0.,   0., 591., 660.,   0.,   0.],\n",
              "       [  0.,   0.,   0.,   0.,   0.,   0.],\n",
              "       [  0.,   0.,   0.,   0.,   0.,   0.]])"
            ]
          },
          "metadata": {},
          "execution_count": 12
        }
      ],
      "source": [
        "dam = pad(am, 2)\n",
        "dam"
      ]
    },
    {
      "cell_type": "markdown",
      "metadata": {
        "id": "F--2CPo0BWm0"
      },
      "source": [
        "a transposed convolution implemented with a regular convolution"
      ]
    },
    {
      "cell_type": "code",
      "execution_count": 13,
      "metadata": {
        "id": "PKHwldrCBWm1",
        "outputId": "a1998753-ba2c-46b9-99fa-627b056a5abd",
        "colab": {
          "base_uri": "https://localhost:8080/"
        }
      },
      "outputs": [
        {
          "output_type": "stream",
          "name": "stdout",
          "text": [
            "[[ 6140.  5184.  3084.  7640.]\n",
            " [12050. 11876. 21690. 29520.]\n",
            " [24330. 47940. 40036. 19036.]\n",
            " [17730. 37530. 19209.  -660.]]\n"
          ]
        }
      ],
      "source": [
        "dkernel = akernel[::-1,::-1] # hacking to conform to TF\n",
        "\n",
        "c1 = tf.keras.layers.Conv2D(filters=1, kernel_size=dkernel.shape, padding=\"VALID\", activation=\"linear\")\n",
        "c1.build(input_shape=[None, *simg[:,:,None].shape])\n",
        "c1.set_weights([dkernel.T[:,:,None, None], np.r_[0]])\n",
        "\n",
        "routput = c1(dam.T[None, :, :, None]).numpy().T\n",
        "print(routput[0,:,:,0])"
      ]
    },
    {
      "cell_type": "markdown",
      "metadata": {
        "id": "7ueMGeebBWm1"
      },
      "source": [
        "the same transposed convolution with a `Conv2DTranspose` layer"
      ]
    },
    {
      "cell_type": "code",
      "execution_count": 14,
      "metadata": {
        "id": "38oALSExBWm5",
        "outputId": "6f919ac3-3da2-4b9a-8677-c490b16c08d1",
        "colab": {
          "base_uri": "https://localhost:8080/"
        }
      },
      "outputs": [
        {
          "output_type": "execute_result",
          "data": {
            "text/plain": [
              "array([[ 6140.,  5184.,  3084.,  7640.],\n",
              "       [12050., 11876., 21690., 29520.],\n",
              "       [24330., 47940., 40036., 19036.],\n",
              "       [17730., 37530., 19209.,  -660.]], dtype=float32)"
            ]
          },
          "metadata": {},
          "execution_count": 14
        }
      ],
      "source": [
        "ct = tf.keras.layers.Conv2DTranspose(filters=1, kernel_size=akernel.shape, activation=\"linear\")\n",
        "ct.build(input_shape=[None, *am[:,:,None].shape])\n",
        "ct.set_weights((akernel[:,:, None, None], np.r_[0]))\n",
        "ct(am[None, :, :, None]).numpy()[0,:,:,0]"
      ]
    },
    {
      "cell_type": "code",
      "execution_count": 14,
      "metadata": {
        "id": "K6q-LxUfBWm5"
      },
      "outputs": [],
      "source": []
    },
    {
      "cell_type": "markdown",
      "metadata": {
        "id": "vI1Ib3rLBWm5"
      },
      "source": [
        "now with `stride` (i.e. dilation on the input image)"
      ]
    },
    {
      "cell_type": "code",
      "execution_count": 15,
      "metadata": {
        "id": "h4w8kJgpBWm5",
        "outputId": "2f06d39f-4c4b-422c-b342-80ddbee534cc",
        "colab": {
          "base_uri": "https://localhost:8080/"
        }
      },
      "outputs": [
        {
          "output_type": "execute_result",
          "data": {
            "text/plain": [
              "array([[ 6140., -2456., 13780., -3056.,  7640.],\n",
              "       [ 6140.,     0., 26060.,     0., 22920.],\n",
              "       [24330., 16056., 34816., 20280.,  5836.],\n",
              "       [ 5910.,     0., 24330.,     0., 19800.],\n",
              "       [17730., 17730., 19209., 19800.,  -660.]], dtype=float32)"
            ]
          },
          "metadata": {},
          "execution_count": 15
        }
      ],
      "source": [
        "ct = tf.keras.layers.Conv2DTranspose(filters=1, strides=2, kernel_size=akernel.shape, activation=\"linear\")\n",
        "ct.build(input_shape=[None, *am[:,:,None].shape])\n",
        "ct.set_weights((akernel[:,:, None, None], np.r_[0]))\n",
        "ct(am[None, :, :, None]).numpy()[0,:,:,0]"
      ]
    },
    {
      "cell_type": "markdown",
      "metadata": {
        "id": "a_rUrln4BWm6"
      },
      "source": [
        "which is equivalent to a convolution with dilation on the input image"
      ]
    },
    {
      "cell_type": "code",
      "execution_count": 17,
      "metadata": {
        "id": "bJB7kuH-BWm6",
        "outputId": "c2670b0b-9f98-4775-f574-af35284c2bc9",
        "colab": {
          "base_uri": "https://localhost:8080/"
        }
      },
      "outputs": [
        {
          "output_type": "execute_result",
          "data": {
            "text/plain": [
              "array([[  0.,   0.,   0.,   0.,   0.,   0.,   0.],\n",
              "       [  0.,   0.,   0.,   0.,   0.,   0.,   0.],\n",
              "       [  0.,   0., 614.,   0., 764.,   0.,   0.],\n",
              "       [  0.,   0.,   0.,   0.,   0.,   0.,   0.],\n",
              "       [  0.,   0., 591.,   0., 660.,   0.,   0.],\n",
              "       [  0.,   0.,   0.,   0.,   0.,   0.,   0.],\n",
              "       [  0.,   0.,   0.,   0.,   0.,   0.,   0.]])"
            ]
          },
          "metadata": {},
          "execution_count": 17
        }
      ],
      "source": [
        "# the input image with padding and dilation\n",
        "dam = pad(dilate(am), 2)\n",
        "dam"
      ]
    },
    {
      "cell_type": "code",
      "execution_count": 19,
      "metadata": {
        "id": "f337051DBWm6",
        "outputId": "4a11e9b8-8a76-4ca8-bffc-c543145b7545",
        "colab": {
          "base_uri": "https://localhost:8080/"
        }
      },
      "outputs": [
        {
          "output_type": "stream",
          "name": "stdout",
          "text": [
            "[[ 6140. -2456. 13780. -3056.  7640.]\n",
            " [ 6140.     0. 26060.     0. 22920.]\n",
            " [24330. 16056. 34816. 20280.  5836.]\n",
            " [ 5910.     0. 24330.     0. 19800.]\n",
            " [17730. 17730. 19209. 19800.  -660.]]\n"
          ]
        }
      ],
      "source": [
        "dkernel = akernel[::-1,::-1] # hacking to conform to TF\n",
        "\n",
        "c1 = tf.keras.layers.Conv2D(filters=1, kernel_size=dkernel.shape, padding=\"VALID\", activation=\"linear\")\n",
        "c1.build(input_shape=[None, *simg[:,:,None].shape])\n",
        "c1.set_weights([dkernel.T[:,:,None, None], np.r_[0]])\n",
        "\n",
        "routput = c1(dam.T[None, :, :, None]).numpy().T\n",
        "print(routput[0,:,:,0])"
      ]
    },
    {
      "cell_type": "code",
      "execution_count": 19,
      "metadata": {
        "id": "HS32hkdwBWm6"
      },
      "outputs": [],
      "source": []
    },
    {
      "cell_type": "markdown",
      "metadata": {
        "id": "vwo3n7AkBWm6"
      },
      "source": [
        "for curiosity, can we find any $am$ such that $img \\approx img'$? Observe how\n",
        "\n",
        "- we set the values of a convolutional filter for which  `trainable=False`\n",
        "- we fit the `Conv2DTranspose` parameters so that the output is a similar as possible to the input\n",
        "- we train with the same input-output values\n",
        "\n",
        "This is, somehow, like a **convolutional autoencoder**, where we fix the encoder and what to find out the decoder."
      ]
    },
    {
      "cell_type": "code",
      "execution_count": 20,
      "metadata": {
        "id": "VqsM_3OnBWm7"
      },
      "outputs": [],
      "source": [
        "def get_model(img_size=4, compile=True):\n",
        "    inputs = tf.keras.Input(shape=(img_size,img_size,1), name=\"input_1\")\n",
        "    layers = tf.keras.layers.Conv2D(1,(3,3), activation=\"linear\", padding=\"SAME\", trainable=False)(inputs)\n",
        "    outputs = tf.keras.layers.Conv2DTranspose(1,(3,3), strides=1, activation=\"linear\", padding=\"SAME\")(layers)\n",
        "    model = tf.keras.Model(inputs = inputs, outputs=outputs)\n",
        "    if compile:\n",
        "        model.compile(optimizer='adam',\n",
        "                      loss='mse',\n",
        "                      metrics=['mse'])\n",
        "    return model"
      ]
    },
    {
      "cell_type": "code",
      "execution_count": 21,
      "metadata": {
        "id": "ZD_C-lX6BWm7",
        "outputId": "3bd98856-0d14-4c31-b306-8381ef6f3735",
        "colab": {
          "base_uri": "https://localhost:8080/",
          "height": 255
        }
      },
      "outputs": [
        {
          "output_type": "display_data",
          "data": {
            "text/plain": [
              "\u001b[1mModel: \"functional\"\u001b[0m\n"
            ],
            "text/html": [
              "<pre style=\"white-space:pre;overflow-x:auto;line-height:normal;font-family:Menlo,'DejaVu Sans Mono',consolas,'Courier New',monospace\"><span style=\"font-weight: bold\">Model: \"functional\"</span>\n",
              "</pre>\n"
            ]
          },
          "metadata": {}
        },
        {
          "output_type": "display_data",
          "data": {
            "text/plain": [
              "┏━━━━━━━━━━━━━━━━━━━━━━━━━━━━━━━━━┳━━━━━━━━━━━━━━━━━━━━━━━━┳━━━━━━━━━━━━━━━┓\n",
              "┃\u001b[1m \u001b[0m\u001b[1mLayer (type)                   \u001b[0m\u001b[1m \u001b[0m┃\u001b[1m \u001b[0m\u001b[1mOutput Shape          \u001b[0m\u001b[1m \u001b[0m┃\u001b[1m \u001b[0m\u001b[1m      Param #\u001b[0m\u001b[1m \u001b[0m┃\n",
              "┡━━━━━━━━━━━━━━━━━━━━━━━━━━━━━━━━━╇━━━━━━━━━━━━━━━━━━━━━━━━╇━━━━━━━━━━━━━━━┩\n",
              "│ input_1 (\u001b[38;5;33mInputLayer\u001b[0m)            │ (\u001b[38;5;45mNone\u001b[0m, \u001b[38;5;34m4\u001b[0m, \u001b[38;5;34m4\u001b[0m, \u001b[38;5;34m1\u001b[0m)        │             \u001b[38;5;34m0\u001b[0m │\n",
              "├─────────────────────────────────┼────────────────────────┼───────────────┤\n",
              "│ conv2d_4 (\u001b[38;5;33mConv2D\u001b[0m)               │ (\u001b[38;5;45mNone\u001b[0m, \u001b[38;5;34m4\u001b[0m, \u001b[38;5;34m4\u001b[0m, \u001b[38;5;34m1\u001b[0m)        │            \u001b[38;5;34m10\u001b[0m │\n",
              "├─────────────────────────────────┼────────────────────────┼───────────────┤\n",
              "│ conv2d_transpose_4              │ (\u001b[38;5;45mNone\u001b[0m, \u001b[38;5;34m4\u001b[0m, \u001b[38;5;34m4\u001b[0m, \u001b[38;5;34m1\u001b[0m)        │            \u001b[38;5;34m10\u001b[0m │\n",
              "│ (\u001b[38;5;33mConv2DTranspose\u001b[0m)               │                        │               │\n",
              "└─────────────────────────────────┴────────────────────────┴───────────────┘\n"
            ],
            "text/html": [
              "<pre style=\"white-space:pre;overflow-x:auto;line-height:normal;font-family:Menlo,'DejaVu Sans Mono',consolas,'Courier New',monospace\">┏━━━━━━━━━━━━━━━━━━━━━━━━━━━━━━━━━┳━━━━━━━━━━━━━━━━━━━━━━━━┳━━━━━━━━━━━━━━━┓\n",
              "┃<span style=\"font-weight: bold\"> Layer (type)                    </span>┃<span style=\"font-weight: bold\"> Output Shape           </span>┃<span style=\"font-weight: bold\">       Param # </span>┃\n",
              "┡━━━━━━━━━━━━━━━━━━━━━━━━━━━━━━━━━╇━━━━━━━━━━━━━━━━━━━━━━━━╇━━━━━━━━━━━━━━━┩\n",
              "│ input_1 (<span style=\"color: #0087ff; text-decoration-color: #0087ff\">InputLayer</span>)            │ (<span style=\"color: #00d7ff; text-decoration-color: #00d7ff\">None</span>, <span style=\"color: #00af00; text-decoration-color: #00af00\">4</span>, <span style=\"color: #00af00; text-decoration-color: #00af00\">4</span>, <span style=\"color: #00af00; text-decoration-color: #00af00\">1</span>)        │             <span style=\"color: #00af00; text-decoration-color: #00af00\">0</span> │\n",
              "├─────────────────────────────────┼────────────────────────┼───────────────┤\n",
              "│ conv2d_4 (<span style=\"color: #0087ff; text-decoration-color: #0087ff\">Conv2D</span>)               │ (<span style=\"color: #00d7ff; text-decoration-color: #00d7ff\">None</span>, <span style=\"color: #00af00; text-decoration-color: #00af00\">4</span>, <span style=\"color: #00af00; text-decoration-color: #00af00\">4</span>, <span style=\"color: #00af00; text-decoration-color: #00af00\">1</span>)        │            <span style=\"color: #00af00; text-decoration-color: #00af00\">10</span> │\n",
              "├─────────────────────────────────┼────────────────────────┼───────────────┤\n",
              "│ conv2d_transpose_4              │ (<span style=\"color: #00d7ff; text-decoration-color: #00d7ff\">None</span>, <span style=\"color: #00af00; text-decoration-color: #00af00\">4</span>, <span style=\"color: #00af00; text-decoration-color: #00af00\">4</span>, <span style=\"color: #00af00; text-decoration-color: #00af00\">1</span>)        │            <span style=\"color: #00af00; text-decoration-color: #00af00\">10</span> │\n",
              "│ (<span style=\"color: #0087ff; text-decoration-color: #0087ff\">Conv2DTranspose</span>)               │                        │               │\n",
              "└─────────────────────────────────┴────────────────────────┴───────────────┘\n",
              "</pre>\n"
            ]
          },
          "metadata": {}
        },
        {
          "output_type": "display_data",
          "data": {
            "text/plain": [
              "\u001b[1m Total params: \u001b[0m\u001b[38;5;34m20\u001b[0m (80.00 B)\n"
            ],
            "text/html": [
              "<pre style=\"white-space:pre;overflow-x:auto;line-height:normal;font-family:Menlo,'DejaVu Sans Mono',consolas,'Courier New',monospace\"><span style=\"font-weight: bold\"> Total params: </span><span style=\"color: #00af00; text-decoration-color: #00af00\">20</span> (80.00 B)\n",
              "</pre>\n"
            ]
          },
          "metadata": {}
        },
        {
          "output_type": "display_data",
          "data": {
            "text/plain": [
              "\u001b[1m Trainable params: \u001b[0m\u001b[38;5;34m10\u001b[0m (40.00 B)\n"
            ],
            "text/html": [
              "<pre style=\"white-space:pre;overflow-x:auto;line-height:normal;font-family:Menlo,'DejaVu Sans Mono',consolas,'Courier New',monospace\"><span style=\"font-weight: bold\"> Trainable params: </span><span style=\"color: #00af00; text-decoration-color: #00af00\">10</span> (40.00 B)\n",
              "</pre>\n"
            ]
          },
          "metadata": {}
        },
        {
          "output_type": "display_data",
          "data": {
            "text/plain": [
              "\u001b[1m Non-trainable params: \u001b[0m\u001b[38;5;34m10\u001b[0m (40.00 B)\n"
            ],
            "text/html": [
              "<pre style=\"white-space:pre;overflow-x:auto;line-height:normal;font-family:Menlo,'DejaVu Sans Mono',consolas,'Courier New',monospace\"><span style=\"font-weight: bold\"> Non-trainable params: </span><span style=\"color: #00af00; text-decoration-color: #00af00\">10</span> (40.00 B)\n",
              "</pre>\n"
            ]
          },
          "metadata": {}
        }
      ],
      "source": [
        "m = get_model()\n",
        "m.summary()"
      ]
    },
    {
      "cell_type": "code",
      "execution_count": 22,
      "metadata": {
        "id": "U-EEY57sBWm7"
      },
      "outputs": [],
      "source": [
        "m.build(input_shape=[None, *am[:,:,None].shape])\n",
        "m.layers[1].set_weights((akernel[:,:, None, None], np.r_[0]))"
      ]
    },
    {
      "cell_type": "code",
      "execution_count": 23,
      "metadata": {
        "id": "DcaWt01sBWm8",
        "outputId": "e3684f4f-7f9c-4f3c-ab16-2c242921610c",
        "colab": {
          "base_uri": "https://localhost:8080/"
        }
      },
      "outputs": [
        {
          "output_type": "execute_result",
          "data": {
            "text/plain": [
              "<keras.src.callbacks.history.History at 0x79c5944704d0>"
            ]
          },
          "metadata": {},
          "execution_count": 23
        }
      ],
      "source": [
        "m.fit(simg[None, :,:, None], simg[None, :,:, None], epochs=10000, verbose=False)"
      ]
    },
    {
      "cell_type": "markdown",
      "metadata": {
        "id": "v3nopkvzBWm8"
      },
      "source": [
        "observe that the reconstructed image values are somewhat similar to the input image"
      ]
    },
    {
      "cell_type": "code",
      "execution_count": 24,
      "metadata": {
        "id": "mRvbDAyyBWm8",
        "outputId": "965bd590-3e84-4f0e-bdfc-21bee2a56a8d",
        "colab": {
          "base_uri": "https://localhost:8080/"
        }
      },
      "outputs": [
        {
          "output_type": "execute_result",
          "data": {
            "text/plain": [
              "array([[3.6894827, 4.0357714, 6.010421 , 7.1442747],\n",
              "       [2.2414048, 7.59128  , 8.780073 , 7.7545385],\n",
              "       [3.7473285, 6.9444914, 8.552898 , 4.787974 ],\n",
              "       [4.658065 , 3.4127903, 4.7543545, 6.9866705]], dtype=float32)"
            ]
          },
          "metadata": {},
          "execution_count": 24
        }
      ],
      "source": [
        "m(simg[None, :,:, None])[0,:,:,0].numpy()"
      ]
    },
    {
      "cell_type": "code",
      "execution_count": 25,
      "metadata": {
        "id": "i5NF3zhrBWm8",
        "outputId": "9ec29f8e-8707-4fef-b231-58985e10c23e",
        "colab": {
          "base_uri": "https://localhost:8080/"
        }
      },
      "outputs": [
        {
          "output_type": "execute_result",
          "data": {
            "text/plain": [
              "array([[4., 5., 8., 7.],\n",
              "       [1., 8., 8., 8.],\n",
              "       [3., 6., 6., 4.],\n",
              "       [6., 5., 7., 8.]], dtype=float32)"
            ]
          },
          "metadata": {},
          "execution_count": 25
        }
      ],
      "source": [
        "simg"
      ]
    },
    {
      "cell_type": "markdown",
      "metadata": {
        "id": "E7QUHuz9BWm8"
      },
      "source": [
        "these two filters try to be **convolutional inverses** of each other (this is not a rigorous definition, just an intuition!!)"
      ]
    },
    {
      "cell_type": "code",
      "execution_count": 26,
      "metadata": {
        "id": "WI2exo5ZBWm9",
        "outputId": "654829f7-a150-424a-fe4f-d1a14ca222e2",
        "colab": {
          "base_uri": "https://localhost:8080/"
        }
      },
      "outputs": [
        {
          "output_type": "execute_result",
          "data": {
            "text/plain": [
              "array([[10., -4., 10.],\n",
              "       [10.,  0., 30.],\n",
              "       [30., 30., -1.]], dtype=float32)"
            ]
          },
          "metadata": {},
          "execution_count": 26
        }
      ],
      "source": [
        "m.layers[1].get_weights()[0][:,:,0,0]"
      ]
    },
    {
      "cell_type": "code",
      "execution_count": 27,
      "metadata": {
        "id": "VyNDHbdqBWm9",
        "outputId": "d3747064-c2b8-4052-b7a0-02066d1f9f28",
        "colab": {
          "base_uri": "https://localhost:8080/"
        }
      },
      "outputs": [
        {
          "output_type": "execute_result",
          "data": {
            "text/plain": [
              "array([[ 0.00405932, -0.00111854, -0.00293583],\n",
              "       [ 0.00037578, -0.00354484,  0.01345906],\n",
              "       [-0.00630359,  0.0161382 , -0.01294528]], dtype=float32)"
            ]
          },
          "metadata": {},
          "execution_count": 27
        }
      ],
      "source": [
        "m.layers[2].get_weights()[0][:,:,0,0]"
      ]
    },
    {
      "cell_type": "markdown",
      "metadata": {
        "id": "-E8SnJjlBWm9"
      },
      "source": [
        "## Downsampling and upsampling\n",
        "\n",
        "we use our `mini_cifar`, observe how:\n",
        "\n",
        "- the following models downsize and then upsize the input.\n",
        "- input and output shapes of the models are the same\n",
        "- we set up a loss function to reconstruct the input in the output.\n",
        "- the reconstruction quality with `modelA` with `n_filters=1` and `n_filters=10`, and with `modelB`.\n",
        "- the artifacts that reconstruction generates."
      ]
    },
    {
      "cell_type": "code",
      "execution_count": 28,
      "metadata": {
        "id": "o0zlDD8WBWm9",
        "outputId": "1e9df95a-6cc5-4e6c-ab1f-978c10a31766",
        "colab": {
          "base_uri": "https://localhost:8080/"
        }
      },
      "outputs": [
        {
          "output_type": "execute_result",
          "data": {
            "text/plain": [
              "((1000, 32, 32, 1), (1000,))"
            ]
          },
          "metadata": {},
          "execution_count": 28
        }
      ],
      "source": [
        "import h5py\n",
        "!wget -nc -q https://s3.amazonaws.com/rlx/mini_cifar.h5\n",
        "with h5py.File('mini_cifar.h5','r') as h5f:\n",
        "    x_cifar = h5f[\"x\"][:][:1000]\n",
        "    y_cifar = h5f[\"y\"][:][:1000]\n",
        "x_cifar = x_cifar.mean(axis=3)[:,:,:,None] # observe we convert cifar to grayscale\n",
        "x_cifar.shape, y_cifar.shape"
      ]
    },
    {
      "cell_type": "markdown",
      "metadata": {
        "id": "oibFVzkfBWm9"
      },
      "source": [
        "model A reduces the activation map dimensions with a `MaxPool2D` layer. It only has one `Conv2D` layer"
      ]
    },
    {
      "cell_type": "code",
      "execution_count": 29,
      "metadata": {
        "id": "-f0kHujdBWm-"
      },
      "outputs": [],
      "source": [
        "def get_modelA(img_size=32, compile=True):\n",
        "    inputs = tf.keras.Input(shape=(img_size,img_size,1), name=\"input_1\")\n",
        "    layers = tf.keras.layers.Conv2D(20,(3,3), activation=\"tanh\", padding=\"SAME\", trainable=False)(inputs)\n",
        "    layers = tf.keras.layers.MaxPool2D(2)(layers)\n",
        "    outputs = tf.keras.layers.Conv2DTranspose(1,(3,3), strides=2, activation=\"tanh\", padding=\"SAME\")(layers)\n",
        "    model = tf.keras.Model(inputs = inputs, outputs=outputs)\n",
        "    if compile:\n",
        "        model.compile(optimizer='adam',\n",
        "                      loss='mse',\n",
        "                      metrics=['mse'])\n",
        "    return model"
      ]
    },
    {
      "cell_type": "markdown",
      "metadata": {
        "id": "0mAG7tnYBWm-"
      },
      "source": [
        "model B reduces the activation map dimensions with a `stride=2` on the convolutional layer. It also has 2 `Conv2D` layers"
      ]
    },
    {
      "cell_type": "code",
      "execution_count": 30,
      "metadata": {
        "id": "zrdCQaxwBWm-"
      },
      "outputs": [],
      "source": [
        "def get_modelB(img_size=32, compile=True):\n",
        "    inputs = tf.keras.Input(shape=(img_size,img_size,1), name=\"input_1\")\n",
        "    layers = tf.keras.layers.Conv2D(5,(3,3), activation=\"tanh\", padding=\"SAME\", trainable=False)(inputs)\n",
        "    layers = tf.keras.layers.Conv2D(15,(3,3), strides=2, activation=\"sigmoid\", padding=\"SAME\", trainable=False)(inputs)\n",
        "    outputs = tf.keras.layers.Conv2DTranspose(1,(3,3), strides=2, activation=\"tanh\", padding=\"SAME\")(layers)\n",
        "    model = tf.keras.Model(inputs = inputs, outputs=outputs)\n",
        "    if compile:\n",
        "        model.compile(optimizer='adam',\n",
        "                      loss='mse',\n",
        "                      metrics=['mse'])\n",
        "    return model"
      ]
    },
    {
      "cell_type": "markdown",
      "metadata": {
        "id": "OE7P-jYXBWm-"
      },
      "source": [
        "observe the different artifacts created in each case"
      ]
    },
    {
      "cell_type": "code",
      "execution_count": 31,
      "metadata": {
        "id": "RpOfeVw0BWm-",
        "outputId": "5b31a325-94a4-4136-ddaa-e2728fc8130d",
        "colab": {
          "base_uri": "https://localhost:8080/",
          "height": 255
        }
      },
      "outputs": [
        {
          "output_type": "display_data",
          "data": {
            "text/plain": [
              "\u001b[1mModel: \"functional_1\"\u001b[0m\n"
            ],
            "text/html": [
              "<pre style=\"white-space:pre;overflow-x:auto;line-height:normal;font-family:Menlo,'DejaVu Sans Mono',consolas,'Courier New',monospace\"><span style=\"font-weight: bold\">Model: \"functional_1\"</span>\n",
              "</pre>\n"
            ]
          },
          "metadata": {}
        },
        {
          "output_type": "display_data",
          "data": {
            "text/plain": [
              "┏━━━━━━━━━━━━━━━━━━━━━━━━━━━━━━━━━┳━━━━━━━━━━━━━━━━━━━━━━━━┳━━━━━━━━━━━━━━━┓\n",
              "┃\u001b[1m \u001b[0m\u001b[1mLayer (type)                   \u001b[0m\u001b[1m \u001b[0m┃\u001b[1m \u001b[0m\u001b[1mOutput Shape          \u001b[0m\u001b[1m \u001b[0m┃\u001b[1m \u001b[0m\u001b[1m      Param #\u001b[0m\u001b[1m \u001b[0m┃\n",
              "┡━━━━━━━━━━━━━━━━━━━━━━━━━━━━━━━━━╇━━━━━━━━━━━━━━━━━━━━━━━━╇━━━━━━━━━━━━━━━┩\n",
              "│ input_1 (\u001b[38;5;33mInputLayer\u001b[0m)            │ (\u001b[38;5;45mNone\u001b[0m, \u001b[38;5;34m32\u001b[0m, \u001b[38;5;34m32\u001b[0m, \u001b[38;5;34m1\u001b[0m)      │             \u001b[38;5;34m0\u001b[0m │\n",
              "├─────────────────────────────────┼────────────────────────┼───────────────┤\n",
              "│ conv2d_6 (\u001b[38;5;33mConv2D\u001b[0m)               │ (\u001b[38;5;45mNone\u001b[0m, \u001b[38;5;34m16\u001b[0m, \u001b[38;5;34m16\u001b[0m, \u001b[38;5;34m15\u001b[0m)     │           \u001b[38;5;34m150\u001b[0m │\n",
              "├─────────────────────────────────┼────────────────────────┼───────────────┤\n",
              "│ conv2d_transpose_5              │ (\u001b[38;5;45mNone\u001b[0m, \u001b[38;5;34m32\u001b[0m, \u001b[38;5;34m32\u001b[0m, \u001b[38;5;34m1\u001b[0m)      │           \u001b[38;5;34m136\u001b[0m │\n",
              "│ (\u001b[38;5;33mConv2DTranspose\u001b[0m)               │                        │               │\n",
              "└─────────────────────────────────┴────────────────────────┴───────────────┘\n"
            ],
            "text/html": [
              "<pre style=\"white-space:pre;overflow-x:auto;line-height:normal;font-family:Menlo,'DejaVu Sans Mono',consolas,'Courier New',monospace\">┏━━━━━━━━━━━━━━━━━━━━━━━━━━━━━━━━━┳━━━━━━━━━━━━━━━━━━━━━━━━┳━━━━━━━━━━━━━━━┓\n",
              "┃<span style=\"font-weight: bold\"> Layer (type)                    </span>┃<span style=\"font-weight: bold\"> Output Shape           </span>┃<span style=\"font-weight: bold\">       Param # </span>┃\n",
              "┡━━━━━━━━━━━━━━━━━━━━━━━━━━━━━━━━━╇━━━━━━━━━━━━━━━━━━━━━━━━╇━━━━━━━━━━━━━━━┩\n",
              "│ input_1 (<span style=\"color: #0087ff; text-decoration-color: #0087ff\">InputLayer</span>)            │ (<span style=\"color: #00d7ff; text-decoration-color: #00d7ff\">None</span>, <span style=\"color: #00af00; text-decoration-color: #00af00\">32</span>, <span style=\"color: #00af00; text-decoration-color: #00af00\">32</span>, <span style=\"color: #00af00; text-decoration-color: #00af00\">1</span>)      │             <span style=\"color: #00af00; text-decoration-color: #00af00\">0</span> │\n",
              "├─────────────────────────────────┼────────────────────────┼───────────────┤\n",
              "│ conv2d_6 (<span style=\"color: #0087ff; text-decoration-color: #0087ff\">Conv2D</span>)               │ (<span style=\"color: #00d7ff; text-decoration-color: #00d7ff\">None</span>, <span style=\"color: #00af00; text-decoration-color: #00af00\">16</span>, <span style=\"color: #00af00; text-decoration-color: #00af00\">16</span>, <span style=\"color: #00af00; text-decoration-color: #00af00\">15</span>)     │           <span style=\"color: #00af00; text-decoration-color: #00af00\">150</span> │\n",
              "├─────────────────────────────────┼────────────────────────┼───────────────┤\n",
              "│ conv2d_transpose_5              │ (<span style=\"color: #00d7ff; text-decoration-color: #00d7ff\">None</span>, <span style=\"color: #00af00; text-decoration-color: #00af00\">32</span>, <span style=\"color: #00af00; text-decoration-color: #00af00\">32</span>, <span style=\"color: #00af00; text-decoration-color: #00af00\">1</span>)      │           <span style=\"color: #00af00; text-decoration-color: #00af00\">136</span> │\n",
              "│ (<span style=\"color: #0087ff; text-decoration-color: #0087ff\">Conv2DTranspose</span>)               │                        │               │\n",
              "└─────────────────────────────────┴────────────────────────┴───────────────┘\n",
              "</pre>\n"
            ]
          },
          "metadata": {}
        },
        {
          "output_type": "display_data",
          "data": {
            "text/plain": [
              "\u001b[1m Total params: \u001b[0m\u001b[38;5;34m286\u001b[0m (1.12 KB)\n"
            ],
            "text/html": [
              "<pre style=\"white-space:pre;overflow-x:auto;line-height:normal;font-family:Menlo,'DejaVu Sans Mono',consolas,'Courier New',monospace\"><span style=\"font-weight: bold\"> Total params: </span><span style=\"color: #00af00; text-decoration-color: #00af00\">286</span> (1.12 KB)\n",
              "</pre>\n"
            ]
          },
          "metadata": {}
        },
        {
          "output_type": "display_data",
          "data": {
            "text/plain": [
              "\u001b[1m Trainable params: \u001b[0m\u001b[38;5;34m136\u001b[0m (544.00 B)\n"
            ],
            "text/html": [
              "<pre style=\"white-space:pre;overflow-x:auto;line-height:normal;font-family:Menlo,'DejaVu Sans Mono',consolas,'Courier New',monospace\"><span style=\"font-weight: bold\"> Trainable params: </span><span style=\"color: #00af00; text-decoration-color: #00af00\">136</span> (544.00 B)\n",
              "</pre>\n"
            ]
          },
          "metadata": {}
        },
        {
          "output_type": "display_data",
          "data": {
            "text/plain": [
              "\u001b[1m Non-trainable params: \u001b[0m\u001b[38;5;34m150\u001b[0m (600.00 B)\n"
            ],
            "text/html": [
              "<pre style=\"white-space:pre;overflow-x:auto;line-height:normal;font-family:Menlo,'DejaVu Sans Mono',consolas,'Courier New',monospace\"><span style=\"font-weight: bold\"> Non-trainable params: </span><span style=\"color: #00af00; text-decoration-color: #00af00\">150</span> (600.00 B)\n",
              "</pre>\n"
            ]
          },
          "metadata": {}
        }
      ],
      "source": [
        "#m = get_modelA()\n",
        "m = get_modelB()\n",
        "m.summary()"
      ]
    },
    {
      "cell_type": "code",
      "execution_count": 32,
      "metadata": {
        "id": "QTva31ccBWm_",
        "outputId": "8c0ca26e-76b9-4fce-af28-eb5132322be9",
        "colab": {
          "base_uri": "https://localhost:8080/"
        }
      },
      "outputs": [
        {
          "output_type": "stream",
          "name": "stdout",
          "text": [
            "Epoch 1/20\n",
            "\u001b[1m1000/1000\u001b[0m \u001b[32m━━━━━━━━━━━━━━━━━━━━\u001b[0m\u001b[37m\u001b[0m \u001b[1m2s\u001b[0m 2ms/step - loss: 0.0847 - mse: 0.0847\n",
            "Epoch 2/20\n",
            "\u001b[1m1000/1000\u001b[0m \u001b[32m━━━━━━━━━━━━━━━━━━━━\u001b[0m\u001b[37m\u001b[0m \u001b[1m2s\u001b[0m 2ms/step - loss: 0.0463 - mse: 0.0463\n",
            "Epoch 3/20\n",
            "\u001b[1m1000/1000\u001b[0m \u001b[32m━━━━━━━━━━━━━━━━━━━━\u001b[0m\u001b[37m\u001b[0m \u001b[1m2s\u001b[0m 2ms/step - loss: 0.0368 - mse: 0.0368\n",
            "Epoch 4/20\n",
            "\u001b[1m1000/1000\u001b[0m \u001b[32m━━━━━━━━━━━━━━━━━━━━\u001b[0m\u001b[37m\u001b[0m \u001b[1m3s\u001b[0m 2ms/step - loss: 0.0298 - mse: 0.0298\n",
            "Epoch 5/20\n",
            "\u001b[1m1000/1000\u001b[0m \u001b[32m━━━━━━━━━━━━━━━━━━━━\u001b[0m\u001b[37m\u001b[0m \u001b[1m2s\u001b[0m 2ms/step - loss: 0.0238 - mse: 0.0238\n",
            "Epoch 6/20\n",
            "\u001b[1m1000/1000\u001b[0m \u001b[32m━━━━━━━━━━━━━━━━━━━━\u001b[0m\u001b[37m\u001b[0m \u001b[1m2s\u001b[0m 2ms/step - loss: 0.0197 - mse: 0.0197\n",
            "Epoch 7/20\n",
            "\u001b[1m1000/1000\u001b[0m \u001b[32m━━━━━━━━━━━━━━━━━━━━\u001b[0m\u001b[37m\u001b[0m \u001b[1m3s\u001b[0m 2ms/step - loss: 0.0164 - mse: 0.0164\n",
            "Epoch 8/20\n",
            "\u001b[1m1000/1000\u001b[0m \u001b[32m━━━━━━━━━━━━━━━━━━━━\u001b[0m\u001b[37m\u001b[0m \u001b[1m3s\u001b[0m 2ms/step - loss: 0.0143 - mse: 0.0143\n",
            "Epoch 9/20\n",
            "\u001b[1m1000/1000\u001b[0m \u001b[32m━━━━━━━━━━━━━━━━━━━━\u001b[0m\u001b[37m\u001b[0m \u001b[1m2s\u001b[0m 2ms/step - loss: 0.0127 - mse: 0.0127\n",
            "Epoch 10/20\n",
            "\u001b[1m1000/1000\u001b[0m \u001b[32m━━━━━━━━━━━━━━━━━━━━\u001b[0m\u001b[37m\u001b[0m \u001b[1m2s\u001b[0m 2ms/step - loss: 0.0114 - mse: 0.0114\n",
            "Epoch 11/20\n",
            "\u001b[1m1000/1000\u001b[0m \u001b[32m━━━━━━━━━━━━━━━━━━━━\u001b[0m\u001b[37m\u001b[0m \u001b[1m2s\u001b[0m 2ms/step - loss: 0.0099 - mse: 0.0099\n",
            "Epoch 12/20\n",
            "\u001b[1m1000/1000\u001b[0m \u001b[32m━━━━━━━━━━━━━━━━━━━━\u001b[0m\u001b[37m\u001b[0m \u001b[1m3s\u001b[0m 2ms/step - loss: 0.0097 - mse: 0.0097\n",
            "Epoch 13/20\n",
            "\u001b[1m1000/1000\u001b[0m \u001b[32m━━━━━━━━━━━━━━━━━━━━\u001b[0m\u001b[37m\u001b[0m \u001b[1m2s\u001b[0m 2ms/step - loss: 0.0092 - mse: 0.0092\n",
            "Epoch 14/20\n",
            "\u001b[1m1000/1000\u001b[0m \u001b[32m━━━━━━━━━━━━━━━━━━━━\u001b[0m\u001b[37m\u001b[0m \u001b[1m2s\u001b[0m 2ms/step - loss: 0.0084 - mse: 0.0084\n",
            "Epoch 15/20\n",
            "\u001b[1m1000/1000\u001b[0m \u001b[32m━━━━━━━━━━━━━━━━━━━━\u001b[0m\u001b[37m\u001b[0m \u001b[1m2s\u001b[0m 2ms/step - loss: 0.0080 - mse: 0.0080\n",
            "Epoch 16/20\n",
            "\u001b[1m1000/1000\u001b[0m \u001b[32m━━━━━━━━━━━━━━━━━━━━\u001b[0m\u001b[37m\u001b[0m \u001b[1m2s\u001b[0m 2ms/step - loss: 0.0077 - mse: 0.0077\n",
            "Epoch 17/20\n",
            "\u001b[1m1000/1000\u001b[0m \u001b[32m━━━━━━━━━━━━━━━━━━━━\u001b[0m\u001b[37m\u001b[0m \u001b[1m2s\u001b[0m 2ms/step - loss: 0.0071 - mse: 0.0071\n",
            "Epoch 18/20\n",
            "\u001b[1m1000/1000\u001b[0m \u001b[32m━━━━━━━━━━━━━━━━━━━━\u001b[0m\u001b[37m\u001b[0m \u001b[1m3s\u001b[0m 2ms/step - loss: 0.0068 - mse: 0.0068\n",
            "Epoch 19/20\n",
            "\u001b[1m1000/1000\u001b[0m \u001b[32m━━━━━━━━━━━━━━━━━━━━\u001b[0m\u001b[37m\u001b[0m \u001b[1m2s\u001b[0m 2ms/step - loss: 0.0068 - mse: 0.0068\n",
            "Epoch 20/20\n",
            "\u001b[1m1000/1000\u001b[0m \u001b[32m━━━━━━━━━━━━━━━━━━━━\u001b[0m\u001b[37m\u001b[0m \u001b[1m3s\u001b[0m 2ms/step - loss: 0.0067 - mse: 0.0067\n"
          ]
        },
        {
          "output_type": "execute_result",
          "data": {
            "text/plain": [
              "<keras.src.callbacks.history.History at 0x79c594472fc0>"
            ]
          },
          "metadata": {},
          "execution_count": 32
        }
      ],
      "source": [
        "m.fit(x_cifar, x_cifar, epochs=20, batch_size=1)"
      ]
    },
    {
      "cell_type": "code",
      "execution_count": 33,
      "metadata": {
        "id": "MZEWGEQRBWm_",
        "outputId": "1c5647d7-c9cf-43cd-e779-2fccaabb475a",
        "colab": {
          "base_uri": "https://localhost:8080/"
        }
      },
      "outputs": [
        {
          "output_type": "stream",
          "name": "stdout",
          "text": [
            "\u001b[1m32/32\u001b[0m \u001b[32m━━━━━━━━━━━━━━━━━━━━\u001b[0m\u001b[37m\u001b[0m \u001b[1m0s\u001b[0m 8ms/step\n"
          ]
        }
      ],
      "source": [
        "px_cifar = m.predict(x_cifar)"
      ]
    },
    {
      "cell_type": "code",
      "execution_count": 34,
      "metadata": {
        "id": "bupC-EL_BWm_",
        "outputId": "6fee54d6-a979-44b6-d409-6db19a5bbb57",
        "colab": {
          "base_uri": "https://localhost:8080/",
          "height": 1000
        }
      },
      "outputs": [
        {
          "output_type": "display_data",
          "data": {
            "text/plain": [
              "<Figure size 500x200 with 2 Axes>"
            ],
            "image/png": "[encoded data removed]"
          },
          "metadata": {}
        },
        {
          "output_type": "display_data",
          "data": {
            "text/plain": [
              "<Figure size 500x200 with 2 Axes>"
            ],
            "image/png": "[encoded data removed]"
          },
          "metadata": {}
        },
        {
          "output_type": "display_data",
          "data": {
            "text/plain": [
              "<Figure size 500x200 with 2 Axes>"
            ],
            "image/png": "[encoded data removed]"
          },
          "metadata": {}
        },
        {
          "output_type": "display_data",
          "data": {
            "text/plain": [
              "<Figure size 500x200 with 2 Axes>"
            ],
            "image/png": "[encoded data removed]"
          },
          "metadata": {}
        },
        {
          "output_type": "display_data",
          "data": {
            "text/plain": [
              "<Figure size 500x200 with 2 Axes>"
            ],
            "image/png": "[encoded data removed]"
          },
          "metadata": {}
        },
        {
          "output_type": "display_data",
          "data": {
            "text/plain": [
              "<Figure size 500x200 with 2 Axes>"
            ],
            "image/png": "[encoded data removed]"
          },
          "metadata": {}
        },
        {
          "output_type": "display_data",
          "data": {
            "text/plain": [
              "<Figure size 500x200 with 2 Axes>"
            ],
            "image/png": "[encoded data removed]"
          },
          "metadata": {}
        },
        {
          "output_type": "display_data",
          "data": {
            "text/plain": [
              "<Figure size 500x200 with 2 Axes>"
            ],
            "image/png": "[encoded data removed]"
          },
          "metadata": {}
        },
        {
          "output_type": "display_data",
          "data": {
            "text/plain": [
              "<Figure size 500x200 with 2 Axes>"
            ],
            "image/png": "[encoded data removed]"
          },
          "metadata": {}
        },
        {
          "output_type": "display_data",
          "data": {
            "text/plain": [
              "<Figure size 500x200 with 2 Axes>"
            ],
            "image/png": "[encoded data removed]"
          },
          "metadata": {}
        }
      ],
      "source": [
        "for _ in range(10):\n",
        "    i = np.random.randint(len(x_cifar))\n",
        "    plt.figure(figsize=(5,2))\n",
        "    plt.subplot(121); plt.imshow(x_cifar[i,:,:,0], cmap=plt.cm.Greys_r); plt.axis(\"off\")\n",
        "    plt.subplot(122); plt.imshow(px_cifar[i,:,:,0], cmap=plt.cm.Greys_r); plt.axis(\"off\")"
      ]
    },
    {
      "cell_type": "code",
      "execution_count": null,
      "metadata": {
        "id": "XZd2XX08BWnA"
      },
      "outputs": [],
      "source": []
    }
  ],
  "metadata": {
    "kernelspec": {
      "display_name": "p38",
      "language": "python",
      "name": "p38"
    },
    "language_info": {
      "codemirror_mode": {
        "name": "ipython",
        "version": 3
      },
      "file_extension": ".py",
      "mimetype": "text/x-python",
      "name": "python",
      "nbconvert_exporter": "python",
      "pygments_lexer": "ipython3",
      "version": "3.8.3"
    },
    "colab": {
      "provenance": []
    }
  },
  "nbformat": 4,
  "nbformat_minor": 0
}