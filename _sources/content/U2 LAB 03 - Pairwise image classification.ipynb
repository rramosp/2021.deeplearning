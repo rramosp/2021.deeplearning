{
  "cells": [
    {
      "cell_type": "markdown",
      "metadata": {
        "id": "9yr6k6_mAMVe"
      },
      "source": [
        "# LAB 2.3 - Pairwise classification"
      ]
    },
    {
      "cell_type": "markdown",
      "metadata": {
        "id": "7FUaC4xPAMVf"
      },
      "source": [
        "The labs require a `tensorflow` version lower than the default one used in Google Colab. Run the following cell to downgrade TensorFlow accordingly."
      ]
    },
    {
      "cell_type": "code",
      "execution_count": null,
      "metadata": {
        "id": "8cFVT8H6AMVh"
      },
      "outputs": [],
      "source": [
        "!wget -nc --no-cache -O init.py -q https://raw.githubusercontent.com/rramosp/2021.deeplearning/main/content/init.py\n",
        "import init; init.init(force_download=False); init.get_weblink()"
      ]
    },
    {
      "cell_type": "code",
      "execution_count": null,
      "metadata": {
        "id": "QOd81pR4AMVh"
      },
      "outputs": [],
      "source": [
        "from local.lib.rlxmoocapi import submit, session\n",
        "import inspect\n",
        "session.LoginSequence(endpoint=init.endpoint, course_id=init.course_id, session_id='udea.pre.20252', lab_id=\"L02.03\", varname=\"student\");"
      ]
    },
    {
      "cell_type": "markdown",
      "metadata": {
        "id": "9iSqcR16AMVi"
      },
      "source": [
        "## LAB SUMMARY\n",
        "\n",
        "In this lab we will use define a **slightly different** machine learning task. Given two MNIST images **as input** we want a network with a binary output: `1` if both images belong to the same MNIST class, and `0` otherwise.\n"
      ]
    },
    {
      "cell_type": "code",
      "execution_count": 2,
      "metadata": {
        "id": "ZmIebAjsAMVi"
      },
      "outputs": [],
      "source": [
        "import pandas as pd\n",
        "import numpy as np\n",
        "import matplotlib.pyplot as plt\n",
        "from sklearn.model_selection import train_test_split\n",
        "import tensorflow as tf\n",
        "%matplotlib inline"
      ]
    },
    {
      "cell_type": "code",
      "execution_count": 3,
      "metadata": {
        "colab": {
          "base_uri": "https://localhost:8080/"
        },
        "id": "Y95SesJSAMVi",
        "outputId": "61d4c75f-5823-4857-f9a4-2efead65196e"
      },
      "outputs": [
        {
          "output_type": "stream",
          "name": "stdout",
          "text": [
            "dimension de las imagenes y las clases (1500, 784) (1500,)\n"
          ]
        }
      ],
      "source": [
        "mnist = pd.read_csv(\"local/data/mnist1.5k.csv.gz\", compression=\"gzip\", header=None).values\n",
        "X=(mnist[:,1:785]/255.).astype(np.float32)\n",
        "y=(mnist[:,0]).astype(int)\n",
        "print(\"dimension de las imagenes y las clases\", X.shape, y.shape)"
      ]
    },
    {
      "cell_type": "code",
      "execution_count": 4,
      "metadata": {
        "colab": {
          "base_uri": "https://localhost:8080/"
        },
        "id": "RG3KYEiGAMVj",
        "outputId": "562fefaf-d96b-4b2f-9034-2938f2bc795c"
      },
      "outputs": [
        {
          "output_type": "execute_result",
          "data": {
            "text/plain": [
              "((1050, 784), (1050,), (450, 784), (450,))"
            ]
          },
          "metadata": {},
          "execution_count": 4
        }
      ],
      "source": [
        "Xtr, Xts, ytr, yts = train_test_split(X,y, test_size=0.3)\n",
        "Xtr.shape, ytr.shape, Xts.shape, yts.shape"
      ]
    },
    {
      "cell_type": "markdown",
      "metadata": {
        "id": "5eKAxrNPAMVk"
      },
      "source": [
        "**FIRST**, observe how we build a labelled dataset for this task, so that each training example has:\n",
        "\n",
        "- two images selected randomly from the original dataset\n",
        "- label `0` if they belong to the same class, or `1` otherwise\n",
        "\n",
        "This way, the resulting data structures\n",
        "\n",
        "- `pXtr` and `pXts` contain the paired images, for train and for test\n",
        "- `pytr` and `pyts` contain the labels of the corresponding paired images, for train and for test\n",
        "- `eytr` and `eyts` contain the `0`/`1` new labels, one for each pair."
      ]
    },
    {
      "cell_type": "code",
      "execution_count": 6,
      "metadata": {
        "id": "AucTqIanAMVk"
      },
      "outputs": [],
      "source": [
        "def pairup(X, y, n_pairs_per_class, same_class):\n",
        "\n",
        "    idxs = None\n",
        "    labels = np.unique(y)\n",
        "    for i in labels:\n",
        "        idxs_p1 = np.argwhere(y==i)[:,0] if same_class else np.argwhere(y!=i)[:,0]\n",
        "        idxs_p2 = np.argwhere(y==i)[:,0]\n",
        "        c = np.vstack([\n",
        "                    np.random.choice(idxs_p1, size=n_pairs_per_class, replace=True),\n",
        "                    np.random.choice(idxs_p2, size=n_pairs_per_class, replace=True)\n",
        "            ]).T\n",
        "\n",
        "        idxs = c if idxs is None else np.vstack((idxs,c))\n",
        "\n",
        "    X_pairs = [X[idxs[:,0]],X[idxs[:,1]]]\n",
        "    y_pairs = [y[idxs[:,0]],y[idxs[:,1]]]\n",
        "    y_labels = y[idxs[:,0]]==y[idxs[:,1]]\n",
        "\n",
        "    return idxs, X_pairs, y_pairs, y_labels\n",
        "\n",
        "def build_image_pairs(X,y,n_pairs_per_class):\n",
        "    idxs0, pX0, py0, ey0 = pairup(X, y, n_pairs_per_class, same_class=False)\n",
        "    idxs1, pX1, py1, ey1 = pairup(X, y, n_pairs_per_class, same_class=True)\n",
        "\n",
        "    pX = [np.vstack((i,j)) for i,j in zip(pX0, pX1)]\n",
        "    py = [np.hstack((i,j)) for i,j in zip(py0, py1)]\n",
        "    ey = np.hstack((ey0, ey1))\n",
        "    idxs = np.vstack((idxs0, idxs1))\n",
        "\n",
        "    return idxs, pX, py, ey.astype(int)\n",
        ""
      ]
    },
    {
      "cell_type": "code",
      "execution_count": 7,
      "metadata": {
        "id": "86DabBivAMVl"
      },
      "outputs": [],
      "source": [
        "itr, pXtr, pytr, eytr = build_image_pairs(Xtr, ytr, n_pairs_per_class=100)\n",
        "its, pXts, pyts, eyts = build_image_pairs(Xts, yts, n_pairs_per_class=100)"
      ]
    },
    {
      "cell_type": "markdown",
      "metadata": {
        "id": "iSC3qy1DAMVl"
      },
      "source": [
        "understand and inspect the structures created and observe how the function above creates a **balanced** dataset\n"
      ]
    },
    {
      "cell_type": "code",
      "execution_count": 8,
      "metadata": {
        "colab": {
          "base_uri": "https://localhost:8080/"
        },
        "id": "p1qrGI4kAMVl",
        "outputId": "b00c6256-507b-45b1-af98-e662b2332aa6"
      },
      "outputs": [
        {
          "output_type": "execute_result",
          "data": {
            "text/plain": [
              "([(2000, 784), (2000, 784)], [(2000,), (2000,)], (2000, 2), (2000,))"
            ]
          },
          "metadata": {},
          "execution_count": 8
        }
      ],
      "source": [
        "\n",
        "[i.shape for i in pXtr], [i.shape for i in pytr], itr.shape, eytr.shape\n"
      ]
    },
    {
      "cell_type": "code",
      "execution_count": 9,
      "metadata": {
        "colab": {
          "base_uri": "https://localhost:8080/"
        },
        "id": "j2yeKFx8AMVm",
        "outputId": "c18745cc-c66f-4997-d417-4705aa02cd7e"
      },
      "outputs": [
        {
          "output_type": "execute_result",
          "data": {
            "text/plain": [
              "([(2000, 784), (2000, 784)], [(2000,), (2000,)], (2000, 2), (2000,))"
            ]
          },
          "metadata": {},
          "execution_count": 9
        }
      ],
      "source": [
        "\n",
        "[i.shape for i in pXts], [i.shape for i in pyts], its.shape, eyts.shape\n"
      ]
    },
    {
      "cell_type": "code",
      "execution_count": 10,
      "metadata": {
        "colab": {
          "base_uri": "https://localhost:8080/"
        },
        "id": "JOPiUaNYAMVm",
        "outputId": "78f1051f-4d11-477c-9ef9-1b050304c762"
      },
      "outputs": [
        {
          "output_type": "stream",
          "name": "stdout",
          "text": [
            "class distribution 0.50::0.50\n"
          ]
        }
      ],
      "source": [
        "\n",
        "print (\"class distribution %.2f::%.2f\"%(np.mean(eytr), 1-np.mean(eytr)))\n",
        "\n"
      ]
    },
    {
      "cell_type": "code",
      "execution_count": 11,
      "metadata": {
        "colab": {
          "base_uri": "https://localhost:8080/",
          "height": 932
        },
        "id": "gVJ64pGEAMVn",
        "outputId": "2405a558-c2d3-4496-d9aa-39c063b16cce"
      },
      "outputs": [
        {
          "output_type": "display_data",
          "data": {
            "text/plain": [
              "<Figure size 400x200 with 2 Axes>"
            ],
            "image/png": "[encoded data removed]"
          },
          "metadata": {}
        },
        {
          "output_type": "display_data",
          "data": {
            "text/plain": [
              "<Figure size 400x200 with 2 Axes>"
            ],
            "image/png": "[encoded data removed]"
          },
          "metadata": {}
        },
        {
          "output_type": "display_data",
          "data": {
            "text/plain": [
              "<Figure size 400x200 with 2 Axes>"
            ],
            "image/png": "[encoded data removed]"
          },
          "metadata": {}
        },
        {
          "output_type": "display_data",
          "data": {
            "text/plain": [
              "<Figure size 400x200 with 2 Axes>"
            ],
            "image/png": "[encoded data removed]"
          },
          "metadata": {}
        },
        {
          "output_type": "display_data",
          "data": {
            "text/plain": [
              "<Figure size 400x200 with 2 Axes>"
            ],
            "image/png": "[encoded data removed]"
          },
          "metadata": {}
        }
      ],
      "source": [
        "\n",
        "for _ in range(5):\n",
        "    i = np.random.randint(len(pXtr[0]))\n",
        "    plt.figure(figsize=(4,2))\n",
        "    plt.subplot(121)\n",
        "    plt.imshow(pXtr[0][i].reshape(28,28), cmap=plt.cm.Greys_r);\n",
        "    plt.ylabel(\"CLASS %d\"%(eytr[i]));\n",
        "    plt.title(\"pair_0 :     %d\"%(pytr[0][i])); plt.xticks([],[]); plt.yticks([],[])\n",
        "    plt.subplot(122)\n",
        "    plt.imshow(pXtr[1][i].reshape(28,28), plt.cm.Greys_r);\n",
        "    plt.title(\"pair_1 :     %d\"%pytr[1][i]); plt.xticks([],[]); plt.yticks([],[])\n"
      ]
    },
    {
      "cell_type": "markdown",
      "metadata": {
        "id": "uNRCrgkFAMVn"
      },
      "source": [
        "## TASK 1: Multi-input model\n",
        "\n",
        "Create a model with the architecture depicted in the following figure."
      ]
    },
    {
      "cell_type": "code",
      "execution_count": 12,
      "metadata": {
        "colab": {
          "base_uri": "https://localhost:8080/",
          "height": 595
        },
        "id": "aMCRKQW9AMVn",
        "outputId": "35db2d17-804b-4afc-feb6-9343d45d262c"
      },
      "outputs": [
        {
          "output_type": "execute_result",
          "data": {
            "image/png": "[encoded data removed]",
            "text/plain": [
              "<IPython.core.display.Image object>"
            ]
          },
          "metadata": {
            "image/png": {
              "width": 600
            }
          },
          "execution_count": 12
        }
      ],
      "source": [
        "\n",
        "from IPython.display import Image\n",
        "Image(filename='local/imgs/twoinputs.png', width=600)\n"
      ]
    },
    {
      "cell_type": "markdown",
      "metadata": {
        "id": "XdHgzkqhAMVn"
      },
      "source": [
        "Observe that\n",
        "\n",
        "- it will have **TWO** input layers with `input_dim=784` neurons each.\n",
        "- there is ony **ONE** output neuron.\n",
        "- the model summary should be as follows and **MUST NAME THE LAYERS ACCORDINGLY**. For concatenation just use the class `Concat` provided:\n",
        "\n",
        "```\n",
        "┏━━━━━━━━━━━━━━━━━━━━━┳━━━━━━━━━━━━━━━━━━━┳━━━━━━━━━━━━┳━━━━━━━━━━━━━━━━━━━┓\n",
        "┃ Layer (type)        ┃ Output Shape      ┃    Param # ┃ Connected to      ┃\n",
        "┡━━━━━━━━━━━━━━━━━━━━━╇━━━━━━━━━━━━━━━━━━━╇━━━━━━━━━━━━╇━━━━━━━━━━━━━━━━━━━┩\n",
        "│ input_img0          │ (None, 784)       │          0 │ -                 │\n",
        "│ (InputLayer)        │                   │            │                   │\n",
        "├─────────────────────┼───────────────────┼────────────┼───────────────────┤\n",
        "│ input_img1          │ (None, 784)       │          0 │ -                 │\n",
        "│ (InputLayer)        │                   │            │                   │\n",
        "├─────────────────────┼───────────────────┼────────────┼───────────────────┤\n",
        "│ layer1_img0 (Dense) │ (None, 100)       │     78,500 │ input_img0[0][0]  │\n",
        "├─────────────────────┼───────────────────┼────────────┼───────────────────┤\n",
        "│ layer1_img1 (Dense) │ (None, 100)       │     78,500 │ input_img1[0][0]  │\n",
        "├─────────────────────┼───────────────────┼────────────┼───────────────────┤\n",
        "│ concat (Concat)     │ (None, 200)       │          0 │ layer1_img0[0][0… │\n",
        "│                     │                   │            │ layer1_img1[0][0] │\n",
        "├─────────────────────┼───────────────────┼────────────┼───────────────────┤\n",
        "│ layer2_common       │ (None, 100)       │     20,100 │ concat[0][0]      │\n",
        "│ (Dense)             │                   │            │                   │\n",
        "├─────────────────────┼───────────────────┼────────────┼───────────────────┤\n",
        "│ output (Dense)      │ (None, 1)         │        101 │ layer2_common[0]… │\n",
        "└─────────────────────┴───────────────────┴────────────┴───────────────────┘\n",
        "\n",
        " Total params: 177,201 (692.19 KB)\n",
        " Trainable params: 177,201 (692.19 KB)\n",
        " Non-trainable params: 0 (0.00 B)\n",
        "```\n"
      ]
    },
    {
      "cell_type": "code",
      "execution_count": 76,
      "metadata": {
        "id": "2_ORopjOAMVo"
      },
      "outputs": [],
      "source": [
        "def get_model(input_dim):\n",
        "\n",
        "    class Concat(tf.keras.Layer):\n",
        "        def call(self, layers):\n",
        "            return tf.concat(layers,axis=1)\n",
        "\n",
        "    inputs1  = tf.keras.layers.Input(shape=(input_dim,), name=\"input_img0\")\n",
        "    inputs2  = tf.keras.layers.Input(shape=(input_dim,), name=\"input_img1\")\n",
        "\n",
        "    ...\n",
        "\n",
        "    outputs = ...\n",
        "\n",
        "    model = tf.keras.Model(inputs=[inputs1, inputs2], outputs=outputs)\n",
        "    model.compile(optimizer='adam', loss='mse')\n",
        "    return model\n",
        "\n"
      ]
    },
    {
      "cell_type": "code",
      "execution_count": null,
      "metadata": {
        "id": "qWqMdjOXAMVo"
      },
      "outputs": [],
      "source": [
        "model = get_model(X.shape[1])\n",
        "model.summary()"
      ]
    },
    {
      "cell_type": "code",
      "execution_count": 77,
      "metadata": {
        "id": "dxuJt4r2AMVo"
      },
      "outputs": [],
      "source": []
    },
    {
      "cell_type": "markdown",
      "metadata": {
        "id": "W28PmLkJAMVo"
      },
      "source": [
        "**Registra tu solución en linea**"
      ]
    },
    {
      "cell_type": "code",
      "execution_count": null,
      "metadata": {
        "scrolled": true,
        "id": "2LRqVA5RAMVo"
      },
      "outputs": [],
      "source": [
        "student.submit_task(namespace=globals(), task_id='T1');"
      ]
    },
    {
      "cell_type": "code",
      "source": [],
      "metadata": {
        "id": "nsRAWGlYD59w"
      },
      "execution_count": null,
      "outputs": []
    },
    {
      "cell_type": "code",
      "source": [],
      "metadata": {
        "id": "YB5YAIyFDsz6"
      },
      "execution_count": 40,
      "outputs": []
    },
    {
      "cell_type": "markdown",
      "metadata": {
        "id": "nAZ3UQ5ZAMVo"
      },
      "source": [
        "**test your model**\n",
        "\n",
        "now we can test your model"
      ]
    },
    {
      "cell_type": "code",
      "execution_count": null,
      "metadata": {
        "id": "xMqN8MBpAMVp"
      },
      "outputs": [],
      "source": [
        "model = get_model(X.shape[1])\n",
        "model.fit(pXtr, eytr, batch_size=16, epochs=20)"
      ]
    },
    {
      "cell_type": "code",
      "execution_count": 19,
      "metadata": {
        "id": "7-DtMSlPAMVp"
      },
      "outputs": [],
      "source": []
    },
    {
      "cell_type": "code",
      "execution_count": null,
      "metadata": {
        "id": "fTBKWeZFAMVp"
      },
      "outputs": [],
      "source": [
        "preds_ts = (model.predict(pXts)[:,0]>.5).astype(int)\n",
        "preds_tr = (model.predict(pXtr)[:,0]>.5).astype(int)"
      ]
    },
    {
      "cell_type": "code",
      "execution_count": null,
      "metadata": {
        "id": "qa_xR_CqAMVp"
      },
      "outputs": [],
      "source": [
        "print (\"accuracy in train data %.2f\"%(np.mean(preds_tr==eytr)))\n",
        "print (\"accuracy in test data  %.2f\"%(np.mean(preds_ts==eyts)))"
      ]
    },
    {
      "cell_type": "markdown",
      "metadata": {
        "id": "knhUJfHqAMVq"
      },
      "source": [
        "inspect TEST predictions. Do you see any class getting more confused with others?"
      ]
    },
    {
      "cell_type": "code",
      "execution_count": null,
      "metadata": {
        "id": "0rOBZ_3zAMVq"
      },
      "outputs": [],
      "source": [
        "for _ in range(20):\n",
        "    i = np.random.randint(len(pXts[0]))\n",
        "    plt.figure(figsize=(4,2))\n",
        "    plt.subplot(121)\n",
        "    plt.imshow(pXts[0][i].reshape(28,28), cmap=plt.cm.Greys_r)\n",
        "    plt.ylabel(\"PREDICTION %d\\nTARGET %d\"%(preds_ts[i], eyts[i]))\n",
        "    plt.subplot(122)\n",
        "    plt.imshow(pXts[1][i].reshape(28,28), cmap=plt.cm.Greys_r)"
      ]
    },
    {
      "cell_type": "code",
      "execution_count": null,
      "metadata": {
        "id": "y9_i_-FOAMVq"
      },
      "outputs": [],
      "source": []
    },
    {
      "cell_type": "markdown",
      "metadata": {
        "id": "cIMZYjYdAMVq"
      },
      "source": [
        "## TASK 2: Measure per-class accuracy\n",
        "\n",
        "For each class we want to measure what is the prediction accuracy for the binary task when it participates in a pair. Observe how we gather the labels of each pair together with the binary prediction and the true value."
      ]
    },
    {
      "cell_type": "code",
      "execution_count": 79,
      "metadata": {
        "colab": {
          "base_uri": "https://localhost:8080/",
          "height": 206
        },
        "id": "LO1uQ-VnAMVq",
        "outputId": "c467f274-784e-48e7-dc15-17974b2f43f1"
      },
      "outputs": [
        {
          "output_type": "execute_result",
          "data": {
            "text/plain": [
              "   pair_0  pair_1  true  pred\n",
              "0       6       0     0     1\n",
              "1       7       0     0     0\n",
              "2       5       0     0     1\n",
              "3       4       0     0     0\n",
              "4       7       0     0     0"
            ],
            "text/html": [
              "\n",
              "  <div id=\"df-d5f93e4d-62ba-4919-9ccb-7ac4822e97d6\" class=\"colab-df-container\">\n",
              "    <div>\n",
              "<style scoped>\n",
              "    .dataframe tbody tr th:only-of-type {\n",
              "        vertical-align: middle;\n",
              "    }\n",
              "\n",
              "    .dataframe tbody tr th {\n",
              "        vertical-align: top;\n",
              "    }\n",
              "\n",
              "    .dataframe thead th {\n",
              "        text-align: right;\n",
              "    }\n",
              "</style>\n",
              "<table border=\"1\" class=\"dataframe\">\n",
              "  <thead>\n",
              "    <tr style=\"text-align: right;\">\n",
              "      <th></th>\n",
              "      <th>pair_0</th>\n",
              "      <th>pair_1</th>\n",
              "      <th>true</th>\n",
              "      <th>pred</th>\n",
              "    </tr>\n",
              "  </thead>\n",
              "  <tbody>\n",
              "    <tr>\n",
              "      <th>0</th>\n",
              "      <td>6</td>\n",
              "      <td>0</td>\n",
              "      <td>0</td>\n",
              "      <td>1</td>\n",
              "    </tr>\n",
              "    <tr>\n",
              "      <th>1</th>\n",
              "      <td>7</td>\n",
              "      <td>0</td>\n",
              "      <td>0</td>\n",
              "      <td>0</td>\n",
              "    </tr>\n",
              "    <tr>\n",
              "      <th>2</th>\n",
              "      <td>5</td>\n",
              "      <td>0</td>\n",
              "      <td>0</td>\n",
              "      <td>1</td>\n",
              "    </tr>\n",
              "    <tr>\n",
              "      <th>3</th>\n",
              "      <td>4</td>\n",
              "      <td>0</td>\n",
              "      <td>0</td>\n",
              "      <td>0</td>\n",
              "    </tr>\n",
              "    <tr>\n",
              "      <th>4</th>\n",
              "      <td>7</td>\n",
              "      <td>0</td>\n",
              "      <td>0</td>\n",
              "      <td>0</td>\n",
              "    </tr>\n",
              "  </tbody>\n",
              "</table>\n",
              "</div>\n",
              "    <div class=\"colab-df-buttons\">\n",
              "\n",
              "  <div class=\"colab-df-container\">\n",
              "    <button class=\"colab-df-convert\" onclick=\"convertToInteractive('df-d5f93e4d-62ba-4919-9ccb-7ac4822e97d6')\"\n",
              "            title=\"Convert this dataframe to an interactive table.\"\n",
              "            style=\"display:none;\">\n",
              "\n",
              "  <svg xmlns=\"http://www.w3.org/2000/svg\" height=\"24px\" viewBox=\"0 -960 960 960\">\n",
              "    <path d=\"M120-120v-720h720v720H120Zm60-500h600v-160H180v160Zm220 220h160v-160H400v160Zm0 220h160v-160H400v160ZM180-400h160v-160H180v160Zm440 0h160v-160H620v160ZM180-180h160v-160H180v160Zm440 0h160v-160H620v160Z\"/>\n",
              "  </svg>\n",
              "    </button>\n",
              "\n",
              "  <style>\n",
              "    .colab-df-container {\n",
              "      display:flex;\n",
              "      gap: 12px;\n",
              "    }\n",
              "\n",
              "    .colab-df-convert {\n",
              "      background-color: #E8F0FE;\n",
              "      border: none;\n",
              "      border-radius: 50%;\n",
              "      cursor: pointer;\n",
              "      display: none;\n",
              "      fill: #1967D2;\n",
              "      height: 32px;\n",
              "      padding: 0 0 0 0;\n",
              "      width: 32px;\n",
              "    }\n",
              "\n",
              "    .colab-df-convert:hover {\n",
              "      background-color: #E2EBFA;\n",
              "      box-shadow: 0px 1px 2px rgba(60, 64, 67, 0.3), 0px 1px 3px 1px rgba(60, 64, 67, 0.15);\n",
              "      fill: #174EA6;\n",
              "    }\n",
              "\n",
              "    .colab-df-buttons div {\n",
              "      margin-bottom: 4px;\n",
              "    }\n",
              "\n",
              "    [theme=dark] .colab-df-convert {\n",
              "      background-color: #3B4455;\n",
              "      fill: #D2E3FC;\n",
              "    }\n",
              "\n",
              "    [theme=dark] .colab-df-convert:hover {\n",
              "      background-color: #434B5C;\n",
              "      box-shadow: 0px 1px 3px 1px rgba(0, 0, 0, 0.15);\n",
              "      filter: drop-shadow(0px 1px 2px rgba(0, 0, 0, 0.3));\n",
              "      fill: #FFFFFF;\n",
              "    }\n",
              "  </style>\n",
              "\n",
              "    <script>\n",
              "      const buttonEl =\n",
              "        document.querySelector('#df-d5f93e4d-62ba-4919-9ccb-7ac4822e97d6 button.colab-df-convert');\n",
              "      buttonEl.style.display =\n",
              "        google.colab.kernel.accessAllowed ? 'block' : 'none';\n",
              "\n",
              "      async function convertToInteractive(key) {\n",
              "        const element = document.querySelector('#df-d5f93e4d-62ba-4919-9ccb-7ac4822e97d6');\n",
              "        const dataTable =\n",
              "          await google.colab.kernel.invokeFunction('convertToInteractive',\n",
              "                                                    [key], {});\n",
              "        if (!dataTable) return;\n",
              "\n",
              "        const docLinkHtml = 'Like what you see? Visit the ' +\n",
              "          '<a target=\"_blank\" href=https://colab.research.google.com/notebooks/data_table.ipynb>data table notebook</a>'\n",
              "          + ' to learn more about interactive tables.';\n",
              "        element.innerHTML = '';\n",
              "        dataTable['output_type'] = 'display_data';\n",
              "        await google.colab.output.renderOutput(dataTable, element);\n",
              "        const docLink = document.createElement('div');\n",
              "        docLink.innerHTML = docLinkHtml;\n",
              "        element.appendChild(docLink);\n",
              "      }\n",
              "    </script>\n",
              "  </div>\n",
              "\n",
              "\n",
              "    <div id=\"df-a432bfee-1ead-4697-bd1f-6de353e4c970\">\n",
              "      <button class=\"colab-df-quickchart\" onclick=\"quickchart('df-a432bfee-1ead-4697-bd1f-6de353e4c970')\"\n",
              "                title=\"Suggest charts\"\n",
              "                style=\"display:none;\">\n",
              "\n",
              "<svg xmlns=\"http://www.w3.org/2000/svg\" height=\"24px\"viewBox=\"0 0 24 24\"\n",
              "     width=\"24px\">\n",
              "    <g>\n",
              "        <path d=\"M19 3H5c-1.1 0-2 .9-2 2v14c0 1.1.9 2 2 2h14c1.1 0 2-.9 2-2V5c0-1.1-.9-2-2-2zM9 17H7v-7h2v7zm4 0h-2V7h2v10zm4 0h-2v-4h2v4z\"/>\n",
              "    </g>\n",
              "</svg>\n",
              "      </button>\n",
              "\n",
              "<style>\n",
              "  .colab-df-quickchart {\n",
              "      --bg-color: #E8F0FE;\n",
              "      --fill-color: #1967D2;\n",
              "      --hover-bg-color: #E2EBFA;\n",
              "      --hover-fill-color: #174EA6;\n",
              "      --disabled-fill-color: #AAA;\n",
              "      --disabled-bg-color: #DDD;\n",
              "  }\n",
              "\n",
              "  [theme=dark] .colab-df-quickchart {\n",
              "      --bg-color: #3B4455;\n",
              "      --fill-color: #D2E3FC;\n",
              "      --hover-bg-color: #434B5C;\n",
              "      --hover-fill-color: #FFFFFF;\n",
              "      --disabled-bg-color: #3B4455;\n",
              "      --disabled-fill-color: #666;\n",
              "  }\n",
              "\n",
              "  .colab-df-quickchart {\n",
              "    background-color: var(--bg-color);\n",
              "    border: none;\n",
              "    border-radius: 50%;\n",
              "    cursor: pointer;\n",
              "    display: none;\n",
              "    fill: var(--fill-color);\n",
              "    height: 32px;\n",
              "    padding: 0;\n",
              "    width: 32px;\n",
              "  }\n",
              "\n",
              "  .colab-df-quickchart:hover {\n",
              "    background-color: var(--hover-bg-color);\n",
              "    box-shadow: 0 1px 2px rgba(60, 64, 67, 0.3), 0 1px 3px 1px rgba(60, 64, 67, 0.15);\n",
              "    fill: var(--button-hover-fill-color);\n",
              "  }\n",
              "\n",
              "  .colab-df-quickchart-complete:disabled,\n",
              "  .colab-df-quickchart-complete:disabled:hover {\n",
              "    background-color: var(--disabled-bg-color);\n",
              "    fill: var(--disabled-fill-color);\n",
              "    box-shadow: none;\n",
              "  }\n",
              "\n",
              "  .colab-df-spinner {\n",
              "    border: 2px solid var(--fill-color);\n",
              "    border-color: transparent;\n",
              "    border-bottom-color: var(--fill-color);\n",
              "    animation:\n",
              "      spin 1s steps(1) infinite;\n",
              "  }\n",
              "\n",
              "  @keyframes spin {\n",
              "    0% {\n",
              "      border-color: transparent;\n",
              "      border-bottom-color: var(--fill-color);\n",
              "      border-left-color: var(--fill-color);\n",
              "    }\n",
              "    20% {\n",
              "      border-color: transparent;\n",
              "      border-left-color: var(--fill-color);\n",
              "      border-top-color: var(--fill-color);\n",
              "    }\n",
              "    30% {\n",
              "      border-color: transparent;\n",
              "      border-left-color: var(--fill-color);\n",
              "      border-top-color: var(--fill-color);\n",
              "      border-right-color: var(--fill-color);\n",
              "    }\n",
              "    40% {\n",
              "      border-color: transparent;\n",
              "      border-right-color: var(--fill-color);\n",
              "      border-top-color: var(--fill-color);\n",
              "    }\n",
              "    60% {\n",
              "      border-color: transparent;\n",
              "      border-right-color: var(--fill-color);\n",
              "    }\n",
              "    80% {\n",
              "      border-color: transparent;\n",
              "      border-right-color: var(--fill-color);\n",
              "      border-bottom-color: var(--fill-color);\n",
              "    }\n",
              "    90% {\n",
              "      border-color: transparent;\n",
              "      border-bottom-color: var(--fill-color);\n",
              "    }\n",
              "  }\n",
              "</style>\n",
              "\n",
              "      <script>\n",
              "        async function quickchart(key) {\n",
              "          const quickchartButtonEl =\n",
              "            document.querySelector('#' + key + ' button');\n",
              "          quickchartButtonEl.disabled = true;  // To prevent multiple clicks.\n",
              "          quickchartButtonEl.classList.add('colab-df-spinner');\n",
              "          try {\n",
              "            const charts = await google.colab.kernel.invokeFunction(\n",
              "                'suggestCharts', [key], {});\n",
              "          } catch (error) {\n",
              "            console.error('Error during call to suggestCharts:', error);\n",
              "          }\n",
              "          quickchartButtonEl.classList.remove('colab-df-spinner');\n",
              "          quickchartButtonEl.classList.add('colab-df-quickchart-complete');\n",
              "        }\n",
              "        (() => {\n",
              "          let quickchartButtonEl =\n",
              "            document.querySelector('#df-a432bfee-1ead-4697-bd1f-6de353e4c970 button');\n",
              "          quickchartButtonEl.style.display =\n",
              "            google.colab.kernel.accessAllowed ? 'block' : 'none';\n",
              "        })();\n",
              "      </script>\n",
              "    </div>\n",
              "\n",
              "    </div>\n",
              "  </div>\n"
            ],
            "application/vnd.google.colaboratory.intrinsic+json": {
              "type": "dataframe",
              "variable_name": "ts",
              "summary": "{\n  \"name\": \"ts\",\n  \"rows\": 2000,\n  \"fields\": [\n    {\n      \"column\": \"pair_0\",\n      \"properties\": {\n        \"dtype\": \"number\",\n        \"std\": 2,\n        \"min\": 0,\n        \"max\": 9,\n        \"num_unique_values\": 10,\n        \"samples\": [\n          1,\n          7,\n          3\n        ],\n        \"semantic_type\": \"\",\n        \"description\": \"\"\n      }\n    },\n    {\n      \"column\": \"pair_1\",\n      \"properties\": {\n        \"dtype\": \"number\",\n        \"std\": 2,\n        \"min\": 0,\n        \"max\": 9,\n        \"num_unique_values\": 10,\n        \"samples\": [\n          8,\n          1,\n          5\n        ],\n        \"semantic_type\": \"\",\n        \"description\": \"\"\n      }\n    },\n    {\n      \"column\": \"true\",\n      \"properties\": {\n        \"dtype\": \"number\",\n        \"std\": 0,\n        \"min\": 0,\n        \"max\": 1,\n        \"num_unique_values\": 2,\n        \"samples\": [\n          1,\n          0\n        ],\n        \"semantic_type\": \"\",\n        \"description\": \"\"\n      }\n    },\n    {\n      \"column\": \"pred\",\n      \"properties\": {\n        \"dtype\": \"number\",\n        \"std\": 0,\n        \"min\": 0,\n        \"max\": 1,\n        \"num_unique_values\": 2,\n        \"samples\": [\n          0,\n          1\n        ],\n        \"semantic_type\": \"\",\n        \"description\": \"\"\n      }\n    }\n  ]\n}"
            }
          },
          "metadata": {},
          "execution_count": 79
        }
      ],
      "source": [
        "\n",
        "ts = pd.DataFrame(np.vstack((pyts[0],pyts[1], eyts, preds_ts)).T, columns=[\"pair_0\", \"pair_1\", \"true\", \"pred\"])\n",
        "ts.head()\n"
      ]
    },
    {
      "cell_type": "markdown",
      "metadata": {
        "id": "12j51FxtAMVq"
      },
      "source": [
        "of course, the `true` value coincides with `pair_0` being equal or different from `pair_1`."
      ]
    },
    {
      "cell_type": "code",
      "execution_count": 80,
      "metadata": {
        "colab": {
          "base_uri": "https://localhost:8080/"
        },
        "id": "3O6hJyd4AMVr",
        "outputId": "1772359b-71fc-4dfd-f1c6-1ea032912e90"
      },
      "outputs": [
        {
          "output_type": "execute_result",
          "data": {
            "text/plain": [
              "np.float64(1.0)"
            ]
          },
          "metadata": {},
          "execution_count": 80
        }
      ],
      "source": [
        "\n",
        "np.mean((ts.pair_0==ts.pair_1)==ts.true)\n"
      ]
    },
    {
      "cell_type": "markdown",
      "metadata": {
        "id": "p-pFG29pAMVr"
      },
      "source": [
        "To compute, per-class accuracy in this task, for instance for class 2:\n",
        "\n",
        "- select the rows where `pair_0` or `pair_1` is 2\n",
        "- measure the percentage of time in the selected rows where `true==pred`\n",
        "\n",
        "for instance, for the following DataFrame\n",
        "\n",
        "            pair_0  pair_1  true  pred\n",
        "        0        0       0     1     1\n",
        "        1        0       0     1     1\n",
        "        2        0       0     1     1\n",
        "        3        2       2     1     1\n",
        "        4        1       1     1     1\n",
        "        5        0       2     0     0\n",
        "        6        2       2     1     0\n",
        "        7        2       2     1     1\n",
        "        8        2       2     1     1\n",
        "        9        1       1     1     1\n",
        "        10       1       1     1     1\n",
        "        11       1       1     1     1\n",
        "        12       2       2     1     1\n",
        "        13       0       2     0     1\n",
        "        14       2       2     1     1\n",
        "        15       0       0     1     1\n",
        "        16       2       2     1     1\n",
        "        17       1       1     1     0\n",
        "        18       1       1     1     1\n",
        "        19       1       1     1     1\n",
        "        \n",
        "you must return this accuracies:\n",
        "\n",
        "        {0: 0.8333333333333334, 1: 0.8571428571428571, 2: 0.7777777777777778}\n",
        "\n",
        "\n",
        "the accuracies must be returned as a dictionary such as above. They keys are the original class labels, and the values the accuracy just described.\n",
        "\n",
        "The accuracies must be correct up to 3 decimal values."
      ]
    },
    {
      "cell_type": "code",
      "execution_count": null,
      "metadata": {
        "id": "GKz09XbuAMVr"
      },
      "outputs": [],
      "source": [
        "def perclass_bin_accuracy(ts):\n",
        "\n",
        "    r = {}\n",
        "    for i in np.unique(ts.pair_0.tolist() + ts.pair_1.tolist()):\n",
        "        ...\n",
        "        r[i] = ... # your code here\n",
        "\n",
        "    return r"
      ]
    },
    {
      "cell_type": "markdown",
      "metadata": {
        "id": "30CeJvDIAMVs"
      },
      "source": [
        "test your code with the example above"
      ]
    },
    {
      "cell_type": "code",
      "execution_count": null,
      "metadata": {
        "id": "fPbmF4cpAMVs"
      },
      "outputs": [],
      "source": [
        "t = pd.DataFrame(\n",
        "        np.array([[0, 0, 1, 1],[0, 0, 1, 1],[0, 0, 1, 1],[2, 2, 1, 1],[1, 1, 1, 1],\n",
        "                  [0, 2, 0, 0],[2, 2, 1, 0],[2, 2, 1, 1],[2, 2, 1, 1],[1, 1, 1, 1],[1, 1, 1, 1],[1, 1, 1, 1],\n",
        "                  [2, 2, 1, 1],[0, 2, 0, 1],[2, 2, 1, 1],[0, 0, 1, 1],[2, 2, 1, 1],[1, 1, 1, 0],[1, 1, 1, 1],\n",
        "                  [1, 1, 1, 1]]),\n",
        "    columns=[\"pair_0\", \"pair_1\", \"true\", \"pred\"])\n",
        "perclass_bin_accuracy(t)"
      ]
    },
    {
      "cell_type": "markdown",
      "metadata": {
        "id": "4c7nR3HGAMVs"
      },
      "source": [
        "test your code with other random examples"
      ]
    },
    {
      "cell_type": "code",
      "execution_count": null,
      "metadata": {
        "id": "w7eJpZwAAMVs"
      },
      "outputs": [],
      "source": [
        "n, n_classes = 20, 3\n",
        "p0 = np.random.randint(n_classes, size=n)\n",
        "p1 = np.random.randint(n_classes, size=n)\n",
        "dtrue = (p0==p1).astype(int)\n",
        "preds = np.random.randint(2, size=n)\n",
        "td = pd.DataFrame([p0,p1,dtrue,preds], index=[\"pair_0\", \"pair_1\", \"true\", \"pred\"]).T\n",
        "\n",
        "td"
      ]
    },
    {
      "cell_type": "code",
      "execution_count": null,
      "metadata": {
        "id": "fjeqX4xoAMVs"
      },
      "outputs": [],
      "source": [
        "perclass_bin_accuracy(td)"
      ]
    },
    {
      "cell_type": "code",
      "execution_count": 84,
      "metadata": {
        "id": "_DXEUjrRAMVt"
      },
      "outputs": [],
      "source": []
    },
    {
      "cell_type": "markdown",
      "metadata": {
        "id": "P7O4VTPnAMVt"
      },
      "source": [
        "**Registra tu solución en linea**"
      ]
    },
    {
      "cell_type": "code",
      "execution_count": null,
      "metadata": {
        "scrolled": false,
        "id": "kFC6YNO2AMVt"
      },
      "outputs": [],
      "source": [
        "student.submit_task(namespace=globals(), task_id='T2');"
      ]
    },
    {
      "cell_type": "code",
      "execution_count": null,
      "metadata": {
        "id": "aoearxuNAMVt"
      },
      "outputs": [],
      "source": []
    },
    {
      "cell_type": "code",
      "execution_count": null,
      "metadata": {
        "id": "VF-0keoPAMVt"
      },
      "outputs": [],
      "source": []
    }
  ],
  "metadata": {
    "kernelspec": {
      "display_name": "Python 3 (ipykernel)",
      "language": "python",
      "name": "python3"
    },
    "language_info": {
      "codemirror_mode": {
        "name": "ipython",
        "version": 3
      },
      "file_extension": ".py",
      "mimetype": "text/x-python",
      "name": "python",
      "nbconvert_exporter": "python",
      "pygments_lexer": "ipython3",
      "version": "3.9.15"
    },
    "colab": {
      "provenance": []
    }
  },
  "nbformat": 4,
  "nbformat_minor": 0
}