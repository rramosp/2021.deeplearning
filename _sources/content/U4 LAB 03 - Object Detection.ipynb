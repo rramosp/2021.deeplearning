{
  "cells": [
    {
      "cell_type": "markdown",
      "metadata": {
        "id": "BsNU0Uove1Y1"
      },
      "source": [
        "# LAB 4.3 - Object detection"
      ]
    },
    {
      "cell_type": "code",
      "execution_count": null,
      "metadata": {
        "colab": {
          "base_uri": "https://localhost:8080/"
        },
        "id": "XhQ1_tVBe5n1",
        "outputId": "9b17474b-4732-496c-e03d-416bbb37ed38"
      },
      "outputs": [
        {
          "output_type": "display_data",
          "data": {
            "text/plain": [
              "<IPython.core.display.HTML object>"
            ],
            "text/html": [
              "\n",
              "<meta name=\"google-signin-client_id\"\n",
              "      content=\"461673936472-kdjosv61up3ac1ajeuq6qqu72upilmls.apps.googleusercontent.com\"/>\n",
              "<script src=\"https://apis.google.com/js/client:platform.js?onload=google_button_start\"></script>\n",
              "    "
            ]
          },
          "metadata": {}
        }
      ],
      "source": [
        "!wget -nc --no-cache -O init.py -q https://raw.githubusercontent.com/rramosp/2021.deeplearning/main/content/init.py\n",
        "import init; init.init(force_download=False);"
      ]
    },
    {
      "cell_type": "code",
      "execution_count": null,
      "metadata": {
        "id": "xtw8kwPpe5ln"
      },
      "outputs": [],
      "source": [
        "from local.lib.rlxmoocapi import submit, session\n",
        "session.LoginSequence(endpoint=init.endpoint, course_id=init.course_id, lab_id=\"L04.03\", varname=\"student\");"
      ]
    },
    {
      "cell_type": "code",
      "execution_count": null,
      "metadata": {
        "id": "YtBWqHRwTIju"
      },
      "outputs": [],
      "source": [
        "import pandas as pd\n",
        "import matplotlib.pyplot as plt\n",
        "from skimage import io\n",
        "import numpy as np\n",
        "%matplotlib inline\n",
        "from IPython.display import Image"
      ]
    },
    {
      "cell_type": "code",
      "execution_count": null,
      "metadata": {
        "id": "H4py9yAjWrgZ"
      },
      "outputs": [],
      "source": []
    },
    {
      "cell_type": "markdown",
      "metadata": {
        "id": "e9kX08I3WsVl"
      },
      "source": [
        "## TASK 1: Create anchor boxes\n",
        "\n",
        "observe how we download and extract the first 20K bounding-box annotations from the Open Images V6 dataset, out of the total 14M available. We are interested in the width and height of each box, which we must obtain by substracting the box coordinates, according to the description [here](https://storage.googleapis.com/openimages/web/download.html). Recall that the coordinates are $\\in [0,1]$ as they are relative to the image size"
      ]
    },
    {
      "cell_type": "code",
      "execution_count": null,
      "metadata": {
        "id": "IrL_3cN1TJl0"
      },
      "outputs": [],
      "source": [
        "!wget -nc https://storage.googleapis.com/openimages/v6/oidv6-train-annotations-bbox.csv"
      ]
    },
    {
      "cell_type": "code",
      "execution_count": null,
      "metadata": {
        "id": "Hmlwo2W3TRXo"
      },
      "outputs": [],
      "source": [
        "!wc oidv6-train-annotations-bbox.csv\n",
        "!head -5 oidv6-train-annotations-bbox.csv"
      ]
    },
    {
      "cell_type": "code",
      "execution_count": null,
      "metadata": {
        "id": "9eP2RRKXXvtw"
      },
      "outputs": [],
      "source": []
    },
    {
      "cell_type": "markdown",
      "metadata": {
        "id": "hiWFB0IWXwss"
      },
      "source": [
        "The `X` numpy array now contains the width and height of bounding boxes"
      ]
    },
    {
      "cell_type": "code",
      "execution_count": null,
      "metadata": {
        "id": "mhuXgRP_Tbzp"
      },
      "outputs": [],
      "source": [
        "!head -20001 oidv6-train-annotations-bbox.csv > oidv6-train-annotations-bbox-20k.csv\n",
        "d = pd.read_csv('oidv6-train-annotations-bbox-20k.csv')\n",
        "w = (d.XMax-d.XMin).values\n",
        "h = (d.YMax-d.YMin).values\n",
        "X = np.r_[[w,h]].T\n",
        "X[:6]"
      ]
    },
    {
      "cell_type": "markdown",
      "metadata": {
        "id": "Yaujzb6QYQd3"
      },
      "source": [
        "we can paint a sample of them"
      ]
    },
    {
      "cell_type": "code",
      "execution_count": null,
      "metadata": {
        "colab": {
          "base_uri": "https://localhost:8080/"
        },
        "id": "ie8OGZz1YQM4",
        "outputId": "2230c500-ba47-430a-bbc0-40993147d593"
      },
      "outputs": [
        {
          "output_type": "display_data",
          "data": {
            "text/plain": [
              "<Figure size 500x500 with 1 Axes>"
            ],
            "image/png": "[encoded data removed]"
          },
          "metadata": {}
        }
      ],
      "source": [
        "\n",
        "from matplotlib.patches import Rectangle\n",
        "plt.figure(figsize=(5,5));\n",
        "ax = plt.subplot(111)\n",
        "\n",
        "for w,h in np.random.permutation(X)[:25]:\n",
        "    ax.add_patch(Rectangle((0.5-w/2,0.5-h/2),w,h, linewidth=2,edgecolor='r',facecolor='none'))\n"
      ]
    },
    {
      "cell_type": "markdown",
      "metadata": {
        "id": "7IV-p952a0Tt"
      },
      "source": [
        "Complete the following function such that it creates `n` anchor boxes from the bounding boxes in `X` using [sklearn.cluster.KMeans](https://scikit-learn.org/stable/modules/generated/sklearn.cluster.KMeans.html) with `n_clusters` set to the number of anchor boxes desired. After fitting KMeans, return  cluster centers. Use the `random_state` passed as argument in KMeans."
      ]
    },
    {
      "cell_type": "code",
      "execution_count": null,
      "metadata": {
        "id": "Vs1NqPtIfBfx"
      },
      "outputs": [],
      "source": [
        "def get_anchor_boxes(X, n, random_state=0):\n",
        "    from sklearn.cluster import KMeans\n",
        "    # YOUR CODE HERE\n",
        "    km = ...\n",
        "    return ..."
      ]
    },
    {
      "cell_type": "markdown",
      "metadata": {
        "id": "yEKmWZ0neBBf"
      },
      "source": [
        "you can visualize your anchor boxes. You should get something similar to this"
      ]
    },
    {
      "cell_type": "code",
      "execution_count": null,
      "metadata": {
        "colab": {
          "base_uri": "https://localhost:8080/"
        },
        "id": "dtdQIpoFehEa",
        "outputId": "af4a6595-e1ac-43e1-af5f-7dd5964af9b3"
      },
      "outputs": [
        {
          "output_type": "execute_result",
          "data": {
            "image/png": "[encoded data removed]",
            "text/plain": [
              "<IPython.core.display.Image object>"
            ]
          },
          "metadata": {
            "image/png": {
              "width": 300
            }
          },
          "execution_count": 9
        }
      ],
      "source": [
        "Image(\"local/imgs/anchor_boxes.png\", width=300)"
      ]
    },
    {
      "cell_type": "code",
      "execution_count": null,
      "metadata": {
        "id": "nehgh0IdbNfa"
      },
      "outputs": [],
      "source": [
        "from matplotlib.patches import Rectangle\n",
        "anchors = get_anchor_boxes(X, n=10, random_state=0)\n",
        "plt.figure(figsize=(5,5));\n",
        "ax = plt.subplot(111)\n",
        "\n",
        "for w,h in anchors:\n",
        "    ax.add_patch(Rectangle((0.5-w/2,0.5-h/2),w,h, linewidth=2,edgecolor='r',facecolor='none'))"
      ]
    },
    {
      "cell_type": "markdown",
      "metadata": {
        "id": "4Xn5Xjqi_bd8"
      },
      "source": [
        "**Registra tu solución en linea**"
      ]
    },
    {
      "cell_type": "code",
      "execution_count": null,
      "metadata": {
        "id": "8IhGJuMPh5wZ",
        "colab": {
          "base_uri": "https://localhost:8080/"
        },
        "outputId": "9721c46e-4da5-4075-eb56-ce9b0cdcec65"
      },
      "outputs": [
        {
          "output_type": "display_data",
          "data": {
            "text/plain": [
              "<IPython.core.display.HTML object>"
            ],
            "text/html": [
              "\n",
              "                    <b>T1 submitted.</b> <b><font color=\"blue\">your grade is 5</font></b> \n",
              "                    <p/><pre>----- grader message -------</pre>correct<pre>----------------------------</pre>\n",
              "                    <p/><p/>\n",
              "                    <div style=\"font-size:10px\"><b>SUBMISSION CODE</b> 8j8NVncV3clNGUh0NA14l+Ayuh+/YrTCTmTv6UiTpihOSq3j9xDy1WSLgUNzA0/VkFY8L4KhBpAwKIqkpWhtjD4O+8JmQOprnLVQXTV0WjXKb0a7J5oHbBP+rP6ij5WLn/YB1admmvVVKjTlZ7WNvAQt5StuVigXvu4k0d0o/4I=</div>\n",
              "                    "
            ]
          },
          "metadata": {}
        }
      ],
      "source": [
        "student.submit_task(namespace=globals(), task_id='T1');"
      ]
    },
    {
      "cell_type": "markdown",
      "metadata": {
        "id": "TZKDfhUqjdBq"
      },
      "source": [
        "## TASK 2: Get closest anchor\n",
        "\n",
        "assume we have these anchor boxes, sorted by size"
      ]
    },
    {
      "cell_type": "code",
      "execution_count": null,
      "metadata": {
        "id": "V0keIbeSjo_e"
      },
      "outputs": [],
      "source": [
        "kc = np.array([0.03612632, 0.05025544, 0.0982887 , 0.1392435 , 0.11913009,\n",
        "       0.28577818, 0.32945173, 0.23846835, 0.18874274, 0.48914381,\n",
        "       0.25347843, 0.77500826, 0.45506799, 0.51589807, 0.83168319,\n",
        "       0.39802428, 0.5539543 , 0.86824085, 0.93553054, 0.89561131]).reshape(10,2)\n",
        "kc = kc[np.argsort(np.prod(kc, axis=1))]\n",
        "anchors = pd.DataFrame(kc, columns=['w', 'h'])\n",
        "anchors"
      ]
    },
    {
      "cell_type": "markdown",
      "metadata": {
        "id": "0q5D7n8InLlf"
      },
      "source": [
        "Complete the following function so that, given a bounding box `XMin, XMax, YMin, YMax` and a dataframe with anchors such as `kc` above\n",
        "returns the index of the most similar anchor to the bouding box.\n",
        "\n",
        "Recall that all values $\\in [0,1]$\n",
        "\n",
        "Given two boxes (bounding box and anchor) with widths and heights $w_0, h_0$ and $w_1, h_1$, we define their similarity measure as:\n",
        "\n",
        "$$|w_0-w_1| + |h_0-h_1|$$\n",
        "\n",
        "Your return value must be an integer between 0 and 9"
      ]
    },
    {
      "cell_type": "code",
      "execution_count": null,
      "metadata": {
        "id": "ArMqnGKW_5Vq"
      },
      "outputs": [],
      "source": [
        "def get_closest_anchor_box(XMin, XMax, YMin, YMax, anchors):\n",
        "  anchor_index = ...\n",
        "  return anchor_index"
      ]
    },
    {
      "cell_type": "markdown",
      "metadata": {
        "id": "gRGoyCi_pAix"
      },
      "source": [
        "you can visualize random annotations and their corresponding anchor boxes according to your function below. Your should see things like this one"
      ]
    },
    {
      "cell_type": "code",
      "execution_count": null,
      "metadata": {
        "colab": {
          "base_uri": "https://localhost:8080/",
          "height": 229
        },
        "id": "KimRYPg_pP0t",
        "outputId": "5555517e-0488-48bd-ac49-45526e39d1e2"
      },
      "outputs": [
        {
          "data": {
            "image/png": "[encoded data removed]",
            "text/plain": [
              "<IPython.core.display.Image object>"
            ]
          },
          "execution_count": 231,
          "metadata": {
            "image/png": {
              "width": 600
            },
            "tags": []
          },
          "output_type": "execute_result"
        }
      ],
      "source": [
        "Image(\"local/imgs/annotations-anchors.png\", width=600)"
      ]
    },
    {
      "cell_type": "code",
      "execution_count": null,
      "metadata": {
        "id": "zuGjoObriymu"
      },
      "outputs": [],
      "source": [
        "plt.figure(figsize=(12,4));\n",
        "for i in range(3):\n",
        "    b = d.iloc[np.random.randint(len(d))]\n",
        "    bx, by = b.XMin + (b.XMax-b.XMin)/2, b.YMin + (b.YMax-b.YMin)/2\n",
        "    bw, bh = b.XMax - b.XMin, b.YMax - b.YMin\n",
        "    pw, ph = anchors.values[get_closest_anchor_box(b.XMin, b.XMax, b.YMin, b.YMax, anchors)]\n",
        "\n",
        "    ax = plt.subplot(1,3,i+1)\n",
        "    ax.add_patch(Rectangle((bx-bw/2,by-bh/2),bw,bh, linewidth=2,edgecolor='r',facecolor='none', label=\"annotation\"))\n",
        "    ax.add_patch(Rectangle((bx-pw/2,by-ph/2),pw,ph, linewidth=2,edgecolor='b',facecolor='none', label=\"anchor box\"))\n",
        "    plt.scatter(bx, by, color=\"black\", label=\"object center\")\n",
        "    plt.grid(); plt.legend()\n",
        "    plt.xlim(0,1); plt.ylim(0,1);"
      ]
    },
    {
      "cell_type": "markdown",
      "metadata": {
        "id": "xALIyxF8C6yg"
      },
      "source": [
        "**Registra tu solución en linea**"
      ]
    },
    {
      "cell_type": "code",
      "execution_count": null,
      "metadata": {
        "id": "oOeGXtDsC6yg",
        "colab": {
          "base_uri": "https://localhost:8080/"
        },
        "outputId": "a0b0d314-f18c-4206-f007-2fea77358c16"
      },
      "outputs": [
        {
          "output_type": "display_data",
          "data": {
            "text/plain": [
              "<IPython.core.display.HTML object>"
            ],
            "text/html": [
              "\n",
              "                    <b>T2 submitted.</b> <b><font color=\"blue\">your grade is 5</font></b> \n",
              "                    <p/><pre>----- grader message -------</pre>correct<pre>----------------------------</pre>\n",
              "                    <p/><p/>\n",
              "                    <div style=\"font-size:10px\"><b>SUBMISSION CODE</b> bS2DFRHH3oDevM1dYcVWUgrc1HPE6JdGH/IgH6ykBNITtwvLXT2Ro7X4XQGuI7x7T34RyoQnuKncFVuVKLdSo0c2Gjmn4pGNXnoU65iqL65Ji49cfZMYd0TDwcoK7v7PN0j1OKvG33BBeaShjmXq+wCoRo+cdBk6t8wCIFVHycw=</div>\n",
              "                    "
            ]
          },
          "metadata": {}
        }
      ],
      "source": [
        "student.submit_task(namespace=globals(), task_id='T2');"
      ]
    },
    {
      "cell_type": "markdown",
      "metadata": {
        "id": "1bJrpA4krmKH"
      },
      "source": [
        "## TASK 3: Compute desired model bounding box predictions\n",
        "\n",
        "Understand the schema of YOLO coordinates below\n",
        "\n",
        "- $b_w$, $b_h$ are the width and height of the annotation we want the model to predict\n",
        "- $b_x$, $b_y$ are $x$ and $y$ coordinate of the annotation we want the model to predict\n",
        "- $p_w$, $p_h$ are the width and height of its closest anchor box\n",
        "- $c_x$, $c_y$ are the $x$ and $y$ coordinates of the **TOP LEFT** corner of the image cell responsible for detecting the annotation"
      ]
    },
    {
      "cell_type": "code",
      "execution_count": null,
      "metadata": {
        "colab": {
          "base_uri": "https://localhost:8080/",
          "height": 315
        },
        "id": "KMUz4QTAsuiY",
        "outputId": "7d9c344f-f043-48f4-983d-cf9f3d86dd69"
      },
      "outputs": [
        {
          "data": {
            "image/png": "[encoded data removed]",
            "text/plain": [
              "<IPython.core.display.Image object>"
            ]
          },
          "execution_count": 235,
          "metadata": {
            "image/png": {
              "width": 400
            },
            "tags": []
          },
          "output_type": "execute_result"
        }
      ],
      "source": [
        "Image(\"local/imgs/yolo_predictions.png\", width=400)"
      ]
    },
    {
      "cell_type": "markdown",
      "metadata": {
        "id": "We1clbjw0pob"
      },
      "source": [
        "Complete the following function such that, when given $b_x$, $b_y$, $b_w$, $b_h$, $p_w$, $p_h$, $n_w$, $n_h$ returns:\n",
        "\n",
        "- $n_x \\in \\{0,1,..,n_x-1\\}$, $n_y \\in  \\{0,1,..,n_y-1\\}$: the cell number in which the annotation center ($b_x$, $b_y$) falls in.\n",
        "- $t_x$, $t_y$, $t_w$, $t_h$: the desired model predictions according to the figure above\n",
        "\n",
        "$n_w$ and $n_h$ specify the grid size in terms of number of cells wide and number of cells high.\n",
        "\n",
        "\n"
      ]
    },
    {
      "cell_type": "code",
      "execution_count": null,
      "metadata": {
        "id": "v36GW-an8m2a"
      },
      "outputs": [],
      "source": [
        "def get_model_target_predictions(bx, by, bw, bh, pw, ph, nw, nh):\n",
        "    # assume all x,y,w,h are in the [0,1] range, and nw, nh > 2\n",
        "\n",
        "    nx = ...\n",
        "    ny = ...\n",
        "    tx = ...\n",
        "    ty = ...\n",
        "    tw = ...\n",
        "    th = ...\n",
        "\n",
        "    return nx, ny, tx, ty, tw, th"
      ]
    },
    {
      "cell_type": "markdown",
      "metadata": {
        "id": "jePe8Rau5FkD"
      },
      "source": [
        "check your code. For the following values, you should get\n",
        "\n",
        "- $n_x$, $n_y$ = `1, 4`\n",
        "- $t_x$, $t_y$ = `-2.63, -3.89`\n",
        "- $t_w$, $t_h$ = `-0.92, 0.14`\n",
        "\n",
        "Make sure the values make sense (why are they positive or negative)"
      ]
    },
    {
      "cell_type": "code",
      "execution_count": null,
      "metadata": {
        "id": "snMKj7OQ1ogX"
      },
      "outputs": [],
      "source": [
        "nw, nh = 7, 5\n",
        "bx, by = 0.21, 0.82\n",
        "bw, bh = 0.02, 0.15\n",
        "pw, ph = 0.05, 0.13\n",
        "\n",
        "get_model_target_predictions(bx, by, bw, bh, pw, ph, nw, nh)"
      ]
    },
    {
      "cell_type": "markdown",
      "metadata": {
        "id": "mwutvYmhGKLC"
      },
      "source": [
        "try with other cases generated randomly"
      ]
    },
    {
      "cell_type": "code",
      "execution_count": null,
      "metadata": {
        "id": "vpEcEHyfDQtG"
      },
      "outputs": [],
      "source": [
        "nw, nh = np.random.randint(6, size=2)+5\n",
        "bx, by = np.round(np.random.random(size=2)*.4+.3,3)\n",
        "bw, bh = np.round(np.random.random(size=2)*.25,3)\n",
        "pw, ph = np.round(np.r_[bw, bh] * (1+np.random.random(size=2)*0.3-0.15),3)\n",
        "\n",
        "print (\"inputs\", nw, nh, bx, by, bw, bh, pw, ph)\n",
        "get_model_target_predictions(bx, by, bw, bh, pw, ph, nw, nh)"
      ]
    },
    {
      "cell_type": "markdown",
      "metadata": {
        "id": "zyLy_Pd3DRo6"
      },
      "source": [
        "**Registra tu solución en linea**"
      ]
    },
    {
      "cell_type": "code",
      "execution_count": 27,
      "metadata": {
        "id": "OCO8r9aODRo6",
        "colab": {
          "base_uri": "https://localhost:8080/"
        },
        "outputId": "5371bf37-3c51-4f34-fac8-8c9b8b695018"
      },
      "outputs": [
        {
          "output_type": "display_data",
          "data": {
            "text/plain": [
              "<IPython.core.display.HTML object>"
            ],
            "text/html": [
              "\n",
              "                    <b>T3 submitted.</b> <b><font color=\"blue\">your grade is 5</font></b> \n",
              "                    <p/><pre>----- grader message -------</pre>correct<pre>----------------------------</pre>\n",
              "                    <p/><p/>\n",
              "                    <div style=\"font-size:10px\"><b>SUBMISSION CODE</b> PmaHzEWVq/6OSmmJ5AZg58ksye8Z6CTkr3TL3z1mfLv0WNDsm0/NwJIKFefQxP7jDmaVKch9gxxDvnpSajaKrnFzI0eAdeUG5qO0u5O2DdMSac8C0s4U6O9ne6rYJPMLWZ/CXo5qmn4NkuzhG3huWuEwF/qWJyLRrVddCQi8UCs=</div>\n",
              "                    "
            ]
          },
          "metadata": {}
        }
      ],
      "source": [
        "student.submit_task(namespace=globals(), task_id='T3');"
      ]
    },
    {
      "cell_type": "code",
      "execution_count": null,
      "metadata": {
        "id": "sG1jBrqschJq"
      },
      "outputs": [],
      "source": []
    }
  ],
  "metadata": {
    "colab": {
      "provenance": []
    },
    "kernelspec": {
      "display_name": "Python 3 (ipykernel)",
      "language": "python",
      "name": "python3"
    },
    "language_info": {
      "codemirror_mode": {
        "name": "ipython",
        "version": 3
      },
      "file_extension": ".py",
      "mimetype": "text/x-python",
      "name": "python",
      "nbconvert_exporter": "python",
      "pygments_lexer": "ipython3",
      "version": "3.9.15"
    }
  },
  "nbformat": 4,
  "nbformat_minor": 0
}