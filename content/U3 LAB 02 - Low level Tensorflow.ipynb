{
  "cells": [
    {
      "cell_type": "markdown",
      "metadata": {
        "id": "ks9k8PVuavhY"
      },
      "source": [
        "# LAB 3.2 - Low level `tensorflow`"
      ]
    },
    {
      "cell_type": "markdown",
      "metadata": {
        "id": "QaYAEKXXavhZ"
      },
      "source": [
        "The labs require a `tensorflow` version lower than the default one used in Google Colab. Run the following cell to downgrade TensorFlow accordingly."
      ]
    },
    {
      "cell_type": "code",
      "execution_count": 1,
      "metadata": {
        "colab": {
          "base_uri": "https://localhost:8080/",
          "height": 17
        },
        "id": "uiGcjAgGavhb",
        "outputId": "5c8876b5-de2a-4c6c-9e41-5744472296b9"
      },
      "outputs": [
        {
          "output_type": "display_data",
          "data": {
            "text/plain": [
              "<IPython.core.display.HTML object>"
            ],
            "text/html": [
              "\n",
              "<meta name=\"google-signin-client_id\"\n",
              "      content=\"461673936472-kdjosv61up3ac1ajeuq6qqu72upilmls.apps.googleusercontent.com\"/>\n",
              "<script src=\"https://apis.google.com/js/client:platform.js?onload=google_button_start\"></script>\n",
              "    "
            ]
          },
          "metadata": {}
        }
      ],
      "source": [
        "!wget -nc --no-cache -O init.py -q https://raw.githubusercontent.com/rramosp/2021.deeplearning/main/content/init.py\n",
        "import init; init.init(force_download=False);"
      ]
    },
    {
      "cell_type": "code",
      "execution_count": null,
      "metadata": {
        "scrolled": true,
        "id": "3lXaJxvoavhb"
      },
      "outputs": [],
      "source": [
        "from local.lib.rlxmoocapi import submit, session\n",
        "import inspect\n",
        "session.LoginSequence(endpoint=init.endpoint, course_id=init.course_id, lab_id=\"L03.02\", varname=\"student\");"
      ]
    },
    {
      "cell_type": "code",
      "execution_count": 20,
      "metadata": {
        "colab": {
          "base_uri": "https://localhost:8080/",
          "height": 35
        },
        "id": "u8atwnVGavhc",
        "outputId": "74b02932-cf6a-4c2f-c4d5-6be952cd10b8"
      },
      "outputs": [
        {
          "output_type": "execute_result",
          "data": {
            "text/plain": [
              "'2.19.0'"
            ],
            "application/vnd.google.colaboratory.intrinsic+json": {
              "type": "string"
            }
          },
          "metadata": {},
          "execution_count": 20
        }
      ],
      "source": [
        "import numpy as np\n",
        "import os\n",
        "import tensorflow as tf\n",
        "from tensorflow.keras.models import Model, Sequential\n",
        "from tensorflow.keras.layers import Input, Dense, BatchNormalization\n",
        "\n",
        "tf.__version__"
      ]
    },
    {
      "cell_type": "markdown",
      "metadata": {
        "id": "PIjWVYigavhc"
      },
      "source": [
        "## TASK 1: Obtain layer output\n"
      ]
    },
    {
      "cell_type": "markdown",
      "metadata": {
        "id": "zVnKQ8mGavhd"
      },
      "source": [
        "**COMPLETE** the following function so that, when given a TF `model` and input  `X` returns the output of the model at layer `layer_name` when feeding `X` to the model.\n",
        "\n",
        "\n",
        "You **MUST RETURN** a `numpy` array, **NOT** a tensor.\n",
        "\n",
        "**HINT**: Use the [`tf.keras.Model`](https://www.tensorflow.org/api_docs/python/tf/keras/Model) class like in the functional API with `outputs` from the desired layer.\n",
        "\n",
        "**CHALLENGE**: Solve it with a single line of code (not counting the `import`)"
      ]
    },
    {
      "cell_type": "code",
      "execution_count": null,
      "metadata": {
        "id": "x0J4JL9Mavhd"
      },
      "outputs": [],
      "source": [
        "def output_at_layer(X, model, layer_name):\n",
        "    from tensorflow.keras.models import Model\n",
        "    r = ... # YOUR CODE HERE\n",
        "    return r"
      ]
    },
    {
      "cell_type": "markdown",
      "metadata": {
        "id": "OJPw9NP-avhe"
      },
      "source": [
        "check your answer manually. With the following model and weights below you should get this answer:\n",
        "\n",
        "\n",
        "        >> output_at_layer(X, model, \"layer_A\")\n",
        "        array([[0.91274303, 0.69886017, 0.8832942 ],\n",
        "               [0.9311633 , 0.7634138 , 0.8924969 ],\n",
        "               [0.85661894, 0.5696809 , 0.8091405 ],\n",
        "               [0.8952345 , 0.6803274 , 0.8326857 ]], dtype=float32)\n",
        "\n",
        "        >> output_at_layer(X, model, \"layer_B\")\n",
        "        array([[0.87063193, 0.8240411 ],\n",
        "               [0.8774254 , 0.83376545],\n",
        "               [0.84875023, 0.7963983 ],\n",
        "               [0.86286545, 0.81590414]], dtype=float32)\n",
        "\n",
        "        >> output_at_layer(X, model, \"layer_C\")\n",
        "        array([[0.8959839 , 0.65980244],\n",
        "               [0.9032545 , 0.66435313],\n",
        "               [0.8733646 , 0.646801  ],\n",
        "               [0.8883195 , 0.6559416 ]], dtype=float32)"
      ]
    },
    {
      "cell_type": "code",
      "execution_count": 44,
      "metadata": {
        "id": "8si06BiPavhf"
      },
      "outputs": [],
      "source": [
        "def get_model(n1, n2, n3):\n",
        "    inputs = Input(shape=(2,), name=\"input\")\n",
        "    lA = Dense(n1, activation='tanh', dtype=np.float32, name=\"layer_A\")(inputs)\n",
        "    lB = Dense(n2, activation='sigmoid', dtype=np.float32, name=\"layer_B\")(lA)\n",
        "    lC = Dense(n3, activation='linear', dtype=np.float32, name=\"layer_C\")(lB)\n",
        "\n",
        "    model = Model(inputs, [lC])\n",
        "    model.compile(optimizer='adam', loss='mse')\n",
        "    return model\n",
        "\n",
        "w = [np.array([[0.3336241 , 0.26024526, 0.37238857],\n",
        "               [0.6344426 , 0.67660165, 0.31070882]], dtype=np.float32),\n",
        "     np.array([0.97280777, 0.3447949 , 0.91722184], dtype=np.float32),\n",
        "\n",
        "     np.array([[0.12999585, 0.31851983],\n",
        "               [0.7763866 , 0.8777575 ],\n",
        "               [0.99977154, 0.65771514]], dtype=np.float32),\n",
        "     np.array([0.36222705, 0.05885772], dtype=np.float32),\n",
        "\n",
        "     np.array([[0.75918376, 0.02541249],\n",
        "               [0.21730722, 0.45021895]], dtype=np.float32),\n",
        "     np.array([0.05594416, 0.26667854], dtype=np.float32)]\n",
        "\n",
        "\n",
        "X = np.array([[0.9269997 , 0.41239464],\n",
        "              [0.8461177 , 0.64935404],\n",
        "              [0.27092433, 0.34251866],\n",
        "              [0.22509325, 0.6301328 ]], dtype=np.float32)\n",
        "\n",
        "\n",
        "model=get_model(3,2,2)\n",
        "model.set_weights(w)"
      ]
    },
    {
      "cell_type": "code",
      "execution_count": null,
      "metadata": {
        "id": "QYZUq84Vavhf"
      },
      "outputs": [],
      "source": [
        "output_at_layer(X, model, \"layer_A\")"
      ]
    },
    {
      "cell_type": "code",
      "execution_count": null,
      "metadata": {
        "id": "kl7AIqdZavhg"
      },
      "outputs": [],
      "source": [
        "# which corresponds to a tanh activation from the input data\n",
        "np.tanh(X.dot(w[0])+w[1])"
      ]
    },
    {
      "cell_type": "code",
      "execution_count": null,
      "metadata": {
        "id": "PhyEw_gWavhg"
      },
      "outputs": [],
      "source": [
        "# which corresponds to a sigmoid activation from the output of layer A\n",
        "sigm = lambda x: 1/(1+np.exp(-x))\n",
        "sigm(output_at_layer(X, model, \"layer_A\").dot(w[2])+w[3])\n"
      ]
    },
    {
      "cell_type": "code",
      "execution_count": null,
      "metadata": {
        "id": "BIAOi0PCavhg"
      },
      "outputs": [],
      "source": [
        "output_at_layer(X, model, \"layer_C\")"
      ]
    },
    {
      "cell_type": "code",
      "execution_count": null,
      "metadata": {
        "id": "c594gR6savhg"
      },
      "outputs": [],
      "source": [
        "# which corresponds to a linear activation from the output of layer B\n",
        "output_at_layer(X, model, \"layer_B\").dot(w[-2])+w[-1]"
      ]
    },
    {
      "cell_type": "markdown",
      "metadata": {
        "id": "KQ-2XfW4avhi"
      },
      "source": [
        "**Registra tu solución en linea**"
      ]
    },
    {
      "cell_type": "code",
      "execution_count": null,
      "metadata": {
        "id": "J6nxJoiZavhi"
      },
      "outputs": [],
      "source": [
        "student.submit_task(namespace=globals(), task_id='T1');"
      ]
    },
    {
      "cell_type": "code",
      "execution_count": null,
      "metadata": {
        "id": "4LEUGgloavhi"
      },
      "outputs": [],
      "source": []
    },
    {
      "cell_type": "markdown",
      "metadata": {
        "id": "a07Fgwjeavhi"
      },
      "source": [
        "## TASK 2: Implement batch normalization\n",
        "\n",
        "Observe how we create a **ONE LAYER** model with **TANH** activation and batch normalization"
      ]
    },
    {
      "cell_type": "code",
      "execution_count": 67,
      "metadata": {
        "id": "w0Ll5B46avhi"
      },
      "outputs": [],
      "source": [
        "def get_model(input_dim, n):\n",
        "\n",
        "    inputs = Input(shape=(input_dim,), name=\"input\")\n",
        "    layer = Dense(n, activation='tanh', dtype=np.float32, name=\"layer_A\")(inputs)\n",
        "    bn    = BatchNormalization()(layer)\n",
        "\n",
        "    model = Model(inputs, [bn])\n",
        "    model.compile(optimizer='adam', loss='mse')\n",
        "    return model\n",
        "\n",
        ""
      ]
    },
    {
      "cell_type": "markdown",
      "metadata": {
        "id": "lpMnUyLWavhi"
      },
      "source": [
        "we manually initialize it with random weights and apply it to some random input"
      ]
    },
    {
      "cell_type": "code",
      "execution_count": 65,
      "metadata": {
        "colab": {
          "base_uri": "https://localhost:8080/"
        },
        "id": "8LUJYnsSavhi",
        "outputId": "c633ded0-5024-466d-dd64-f4a4e7ce2d9b"
      },
      "outputs": [
        {
          "output_type": "stream",
          "name": "stdout",
          "text": [
            "input_dim 4 , n 7\n"
          ]
        }
      ],
      "source": [
        "\n",
        "input_dim = np.random.randint(3)+2\n",
        "n = np.random.randint(5)+5\n",
        "X = np.random.random((6,input_dim)).astype(np.float32)\n",
        "print (\"input_dim\", input_dim, \", n\", n)\n"
      ]
    },
    {
      "cell_type": "code",
      "execution_count": 68,
      "metadata": {
        "colab": {
          "base_uri": "https://localhost:8080/"
        },
        "id": "cdQeYvdmavhi",
        "outputId": "0d69d307-582f-4c32-a8f1-ff0ed35cfe44"
      },
      "outputs": [
        {
          "output_type": "execute_result",
          "data": {
            "text/plain": [
              "array([[0.7104304 , 0.53277874, 1.3429204 , 0.2838602 , 3.431612  ,\n",
              "        0.21590781, 1.5595789 ],\n",
              "       [0.66122985, 0.5203411 , 1.3373647 , 0.27307624, 3.3807557 ,\n",
              "        0.17217433, 1.5444031 ],\n",
              "       [0.7579541 , 0.53309876, 1.3676374 , 0.27733624, 3.4211483 ,\n",
              "        0.21006155, 1.5529312 ],\n",
              "       [0.95697427, 0.54624164, 1.3884647 , 0.29613388, 3.4663906 ,\n",
              "        0.25599527, 1.5942338 ],\n",
              "       [0.4065292 , 0.51326483, 1.3511226 , 0.2244021 , 3.3336737 ,\n",
              "        0.18017292, 1.3879274 ],\n",
              "       [0.84329534, 0.54561913, 1.3792427 , 0.29591286, 3.458708  ,\n",
              "        0.23664391, 1.580519  ]], dtype=float32)"
            ]
          },
          "metadata": {},
          "execution_count": 68
        }
      ],
      "source": [
        "\n",
        "model = get_model(input_dim=input_dim, n=n)\n",
        "model.set_weights([np.random.random(i.shape) for i in model.get_weights()])\n",
        "model(X).numpy()\n"
      ]
    },
    {
      "cell_type": "markdown",
      "metadata": {
        "id": "aIwtgPxMavhj"
      },
      "source": [
        "and we can extract the weights of the dense layer and the batch normalization layer"
      ]
    },
    {
      "cell_type": "code",
      "execution_count": 69,
      "metadata": {
        "colab": {
          "base_uri": "https://localhost:8080/"
        },
        "id": "Gv__irc-avhj",
        "outputId": "255ab127-d7b6-4b86-cf5d-1c9d59765331"
      },
      "outputs": [
        {
          "output_type": "execute_result",
          "data": {
            "text/plain": [
              "((4, 7), (7,), (7,), (7,), (7,))"
            ]
          },
          "metadata": {},
          "execution_count": 69
        }
      ],
      "source": [
        "\n",
        "W, b, gamma, beta, moving_mean, moving_var = model.get_weights()\n",
        "W.shape, b.shape, beta.shape, moving_mean.shape, moving_var.shape\n"
      ]
    },
    {
      "cell_type": "markdown",
      "metadata": {
        "id": "T4UPATuZavhj"
      },
      "source": [
        "**COMPLETE** the following function **WITHOUT USING TENSORFLOW** such that you get the same output as the model above, given the input and the weights.\n",
        "\n",
        "In specific, the Dense layer output must be\n",
        "\n",
        "$$A = \\text{tanh}(XW+b)$$\n",
        "\n",
        "And the batch normalization layer after that output is\n",
        "\n",
        "$$\\frac{A-m_\\mu}{\\sqrt{m_\\sigma+\\varepsilon}}\\gamma + \\beta$$\n",
        "\n",
        "You **MUST RETURN** a `numpy` array, **NOT** a tensor.\n",
        "\n",
        "**CHALLENGE**: Solve it with one single line of Python code."
      ]
    },
    {
      "cell_type": "code",
      "execution_count": null,
      "metadata": {
        "id": "xkjFJh0_avhj"
      },
      "outputs": [],
      "source": [
        "def apply_model(X, W, b, gamma, beta, moving_mean, moving_var, epsilon=1e-3):\n",
        "    r = ... # YOUR CODE HERE\n",
        "    return r"
      ]
    },
    {
      "cell_type": "markdown",
      "metadata": {
        "id": "MnidGiG2avhk"
      },
      "source": [
        "check manually your code, the output should be the same as above."
      ]
    },
    {
      "cell_type": "code",
      "execution_count": null,
      "metadata": {
        "id": "lF3-xF4zavhk"
      },
      "outputs": [],
      "source": [
        "apply_model(X, W, b, gamma, beta, moving_mean, moving_var)"
      ]
    },
    {
      "cell_type": "markdown",
      "metadata": {
        "id": "-Pvk2fmfavhk"
      },
      "source": [
        "**Registra tu solución en linea**"
      ]
    },
    {
      "cell_type": "code",
      "execution_count": null,
      "metadata": {
        "id": "nGOrqoSvavhk"
      },
      "outputs": [],
      "source": [
        "student.submit_task(namespace=globals(), task_id='T2');"
      ]
    },
    {
      "cell_type": "code",
      "execution_count": null,
      "metadata": {
        "id": "Z1dDqOXOavhk"
      },
      "outputs": [],
      "source": []
    },
    {
      "cell_type": "code",
      "execution_count": null,
      "metadata": {
        "id": "TqepWW4savhk"
      },
      "outputs": [],
      "source": []
    },
    {
      "cell_type": "markdown",
      "metadata": {
        "id": "YjAy8q_Havhk"
      },
      "source": [
        "## TASK 3: Compute the Hessian\n",
        "\n",
        "Complete the function below so that computes the Hessian of a function with respect to a set of variables. Remember that the Hessian is the matrix with all combinations of double partial derivatives. See [https://en.wikipedia.org/wiki/Hessian_matrix](https://en.wikipedia.org/wiki/Hessian_matrix)\n",
        "\n",
        "\n",
        "The arguments for your code below:\n",
        "\n",
        "- `expression_fn`: is a Python function that, when executed, will return a Tensor depending on the variables in `svars`.\n",
        "- `svars`: a list of $n$ `tf.Variable`s against which  the derivatives are to be taken.\n",
        "\n",
        "The result:\n",
        "\n",
        "- a `numpy` array of dimension $n\\times n$, containing in each position the value of the corresponding double derivative evaluated with the value attached to each variable in `svars`.\n",
        "\n",
        "See the example call below to understand what you have to produce.\n",
        "\n",
        "**NOTE**: Observe that `expression_fn` is a function that you **must call** inside some `GradientTape` to obtain the expresion. This needs to be done this way because `GradientTape` needs to _watch_ how expressions are built to be able to access the computational graph and compute the gradient. This is a technique which is very often used in Tensorflow.\n",
        "\n",
        "\n",
        "\n",
        "**WARN**: You cannot use `tf.hessian` or `GradientTape.jacobian` or `sympy`. Do not use the name `hessian` to name any variable within your code.\n",
        "\n",
        "**HINT 1**: use a `GradientTape` inside another `GradientTape`.\n",
        "\n",
        "**HINT 2**: use `unconnected_gradients=tf.UnconnectedGradients.ZERO` as argument to `GradientTape.gradient` to have the variables not participating in an expresion result in gradient zero. For instance with $f=xy$, we have $\\frac{\\partial f}{\\partial y\\partial y}=0$, since $\\frac{\\partial f}{\\partial y}=1$. Or if we have $f=x$ we have $\\frac{\\partial f}{\\partial y\\partial x}=0$, since $\\frac{\\partial f}{\\partial y}=0$. If you do not include this argument, Tensorflow will return these values as `None` and you would have to fix them later."
      ]
    },
    {
      "cell_type": "code",
      "execution_count": null,
      "metadata": {
        "id": "eU0PAlDNavhl"
      },
      "outputs": [],
      "source": [
        "def get_double_derivatives(expression_fn,svars):\n",
        "    import tensorflow as tf\n",
        "\n",
        "    result = ...\n",
        "\n",
        "    return result\n",
        ""
      ]
    },
    {
      "cell_type": "markdown",
      "metadata": {
        "id": "xt6EB_Fiavhl"
      },
      "source": [
        "check your code. The following expression\n",
        "\n",
        "$$f = 2xy^2 + 3x\\cos{y}$$\n",
        "\n",
        "has as first derivatives:\n",
        "\n",
        "- $\\frac{\\partial f }{\\partial x} = 2y^2 +3\\cos{y}$\n",
        "- $\\frac{\\partial f }{\\partial y} = 4xy - 3x\\sin{y}$\n",
        "\n",
        "and as second derivatives:\n",
        "\n",
        "- $\\frac{\\partial f }{\\partial x \\partial x} = 0$\n",
        "- $\\frac{\\partial f }{\\partial x \\partial y} = 4y - 3\\sin{y}$\n",
        "- $\\frac{\\partial f }{\\partial y \\partial x} = 4y - 3\\sin{y}$\n",
        "- $\\frac{\\partial f }{\\partial y \\partial y} = 4x - 3x\\cos{y}$\n",
        "\n",
        "which, when evaluated at $x=2$ and $y=-3$ yields\n",
        "\n",
        "    [[  0     ,  -11.58],\n",
        "     [ -11.58 ,   13.94]]"
      ]
    },
    {
      "cell_type": "code",
      "execution_count": null,
      "metadata": {
        "id": "tznQsYIDavhl"
      },
      "outputs": [],
      "source": [
        "x = tf.Variable(2, dtype=tf.float32)\n",
        "y = tf.Variable(-3, dtype=tf.float32)\n",
        "expr = lambda: 2*x*y**2 + 3*x*tf.cos(y)\n",
        "\n",
        "get_double_derivatives(expr, [x,y])"
      ]
    },
    {
      "cell_type": "code",
      "execution_count": 85,
      "metadata": {
        "id": "HegplJh2avhl"
      },
      "outputs": [],
      "source": []
    },
    {
      "cell_type": "markdown",
      "metadata": {
        "id": "MOqbUc7davhl"
      },
      "source": [
        "**Registra tu solución en linea**"
      ]
    },
    {
      "cell_type": "code",
      "execution_count": null,
      "metadata": {
        "id": "7SmbdOq8avhm"
      },
      "outputs": [],
      "source": [
        "student.submit_task(namespace=globals(), task_id='T3');"
      ]
    },
    {
      "cell_type": "code",
      "execution_count": null,
      "metadata": {
        "id": "v_VGKhAbavhm"
      },
      "outputs": [],
      "source": []
    },
    {
      "cell_type": "code",
      "execution_count": null,
      "metadata": {
        "id": "OSbkUB0Zavhm"
      },
      "outputs": [],
      "source": []
    }
  ],
  "metadata": {
    "kernelspec": {
      "display_name": "Python 3 (ipykernel)",
      "language": "python",
      "name": "python3"
    },
    "language_info": {
      "codemirror_mode": {
        "name": "ipython",
        "version": 3
      },
      "file_extension": ".py",
      "mimetype": "text/x-python",
      "name": "python",
      "nbconvert_exporter": "python",
      "pygments_lexer": "ipython3",
      "version": "3.9.15"
    },
    "colab": {
      "provenance": []
    }
  },
  "nbformat": 4,
  "nbformat_minor": 0
}