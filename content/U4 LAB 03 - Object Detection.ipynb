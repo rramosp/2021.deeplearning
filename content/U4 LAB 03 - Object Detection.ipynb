{
 "cells": [
  {
   "cell_type": "markdown",
   "metadata": {
    "id": "BsNU0Uove1Y1"
   },
   "source": [
    "# LAB 4.3 - Object detection"
   ]
  },
  {
   "cell_type": "markdown",
   "metadata": {},
   "source": [
    "The labs require a `tensorflow` version lower than the default one used in Google Colab. Run the following cell to downgrade TensorFlow accordingly."
   ]
  },
  {
   "cell_type": "code",
   "execution_count": null,
   "metadata": {},
   "outputs": [],
   "source": [
    "import os\n",
    "def downgrade_tf_version():\n",
    "    os.system(\"!yes | pip uninstall -y tensorflow\")\n",
    "    os.system(\"!yes | pip install tensorflow==2.12.0\")\n",
    "    os.kill(os.getpid(), 9)\n",
    "downgrade_tf_version()"
   ]
  },
  {
   "cell_type": "code",
   "execution_count": 1,
   "metadata": {
    "colab": {
     "base_uri": "https://localhost:8080/"
    },
    "id": "XhQ1_tVBe5n1",
    "outputId": "babd5bf5-1747-4ca4-bd52-957db73161f3"
   },
   "outputs": [],
   "source": [
    "!wget -nc --no-cache -O init.py -q https://raw.githubusercontent.com/rramosp/2021.deeplearning/main/content/init.py\n",
    "import init; init.init(force_download=False); "
   ]
  },
  {
   "cell_type": "code",
   "execution_count": 564,
   "metadata": {
    "colab": {
     "base_uri": "https://localhost:8080/"
    },
    "id": "xtw8kwPpe5ln",
    "outputId": "eceefdaa-ec1d-4179-e111-ad953b47300d"
   },
   "outputs": [],
   "source": [
    "from local.lib.rlxmoocapi import submit, session\n",
    "session.LoginSequence(endpoint=init.endpoint, course_id=init.course_id, lab_id=\"L04.03\", varname=\"student\");"
   ]
  },
  {
   "cell_type": "code",
   "execution_count": 1,
   "metadata": {
    "id": "YtBWqHRwTIju"
   },
   "outputs": [],
   "source": [
    "import pandas as pd\n",
    "import matplotlib.pyplot as plt\n",
    "from skimage import io\n",
    "import numpy as np\n",
    "%matplotlib inline\n",
    "from IPython.display import Image"
   ]
  },
  {
   "cell_type": "code",
   "execution_count": null,
   "metadata": {
    "id": "H4py9yAjWrgZ"
   },
   "outputs": [],
   "source": []
  },
  {
   "cell_type": "markdown",
   "metadata": {
    "id": "e9kX08I3WsVl"
   },
   "source": [
    "## TASK 1: Create anchor boxes\n",
    "\n",
    "observe how we download and extract the first 20K bounding-box annotations from the Open Images V6 dataset, out of the total 14M available. We are interested in the width and height of each box, which we must obtain by substracting the box coordinates, according to the description [here](https://storage.googleapis.com/openimages/web/download.html). Recall that the coordinates are $\\in [0,1]$ as they are relative to the image size"
   ]
  },
  {
   "cell_type": "code",
   "execution_count": 2,
   "metadata": {
    "colab": {
     "base_uri": "https://localhost:8080/"
    },
    "id": "IrL_3cN1TJl0",
    "outputId": "1e57df66-1ce5-4896-a532-0633479dac73"
   },
   "outputs": [],
   "source": [
    "!wget -nc https://storage.googleapis.com/openimages/v6/oidv6-train-annotations-bbox.csv"
   ]
  },
  {
   "cell_type": "code",
   "execution_count": 39,
   "metadata": {
    "colab": {
     "base_uri": "https://localhost:8080/"
    },
    "id": "Hmlwo2W3TRXo",
    "outputId": "09864854-f892-4c42-d627-dfdf82e5d997"
   },
   "outputs": [],
   "source": [
    "!wc oidv6-train-annotations-bbox.csv\n",
    "!head -5 oidv6-train-annotations-bbox.csv"
   ]
  },
  {
   "cell_type": "code",
   "execution_count": null,
   "metadata": {
    "id": "9eP2RRKXXvtw"
   },
   "outputs": [],
   "source": []
  },
  {
   "cell_type": "markdown",
   "metadata": {
    "id": "hiWFB0IWXwss"
   },
   "source": [
    "The `X` numpy array now contains the width and height of bounding boxes"
   ]
  },
  {
   "cell_type": "code",
   "execution_count": 106,
   "metadata": {
    "colab": {
     "base_uri": "https://localhost:8080/"
    },
    "id": "mhuXgRP_Tbzp",
    "outputId": "dca4d38f-f85f-4640-802a-6c18aa12737b"
   },
   "outputs": [],
   "source": [
    "!head -20001 oidv6-train-annotations-bbox.csv > oidv6-train-annotations-bbox-20k.csv\n",
    "d = pd.read_csv('oidv6-train-annotations-bbox-20k.csv')\n",
    "w = (d.XMax-d.XMin).values\n",
    "h = (d.YMax-d.YMin).values\n",
    "X = np.r_[[w,h]].T\n",
    "X[:6]"
   ]
  },
  {
   "cell_type": "markdown",
   "metadata": {
    "id": "Yaujzb6QYQd3"
   },
   "source": [
    "we can paint a sample of them"
   ]
  },
  {
   "cell_type": "code",
   "execution_count": 47,
   "metadata": {
    "colab": {
     "base_uri": "https://localhost:8080/",
     "height": 324
    },
    "id": "ie8OGZz1YQM4",
    "outputId": "7ca9ada6-5da7-4aac-bc01-45d4b33520ca"
   },
   "outputs": [
    {
     "data": {
      "image/png": "[encoded data removed]",
      "text/plain": [
       "<Figure size 360x360 with 1 Axes>"
      ]
     },
     "metadata": {
      "needs_background": "light",
      "tags": []
     },
     "output_type": "display_data"
    }
   ],
   "source": [
    "\n",
    "from matplotlib.patches import Rectangle\n",
    "plt.figure(figsize=(5,5)); \n",
    "ax = plt.subplot(111)\n",
    "\n",
    "for w,h in np.random.permutation(X)[:25]:\n",
    "    ax.add_patch(Rectangle((0.5-w/2,0.5-h/2),w,h, linewidth=2,edgecolor='r',facecolor='none'))\n"
   ]
  },
  {
   "cell_type": "markdown",
   "metadata": {
    "id": "7IV-p952a0Tt"
   },
   "source": [
    "Complete the following function such that it creates `n` anchor boxes from the bounding boxes in `X` using [sklearn.cluster.KMeans](https://scikit-learn.org/stable/modules/generated/sklearn.cluster.KMeans.html) with `n_clusters` set to the number of anchor boxes desired. After fitting KMeans, return  cluster centers. Use the `random_state` passed as argument in KMeans."
   ]
  },
  {
   "cell_type": "code",
   "execution_count": 116,
   "metadata": {
    "id": "Vs1NqPtIfBfx"
   },
   "outputs": [],
   "source": [
    "def get_anchor_boxes(X, n, random_state=0):\n",
    "    from sklearn.cluster import KMeans\n",
    "    # YOUR CODE HERE\n",
    "    km = ... \n",
    "    return ..."
   ]
  },
  {
   "cell_type": "markdown",
   "metadata": {
    "id": "yEKmWZ0neBBf"
   },
   "source": [
    "you can visualize your anchor boxes. You should get something similar to this "
   ]
  },
  {
   "cell_type": "code",
   "execution_count": 114,
   "metadata": {
    "colab": {
     "base_uri": "https://localhost:8080/",
     "height": 301
    },
    "id": "dtdQIpoFehEa",
    "outputId": "d9072516-4b34-4d72-894a-88bf488695ac"
   },
   "outputs": [
    {
     "data": {
      "image/png": "[encoded data removed]",
      "text/plain": [
       "<IPython.core.display.Image object>"
      ]
     },
     "execution_count": 114,
     "metadata": {
      "image/png": {
       "width": 300
      },
      "tags": []
     },
     "output_type": "execute_result"
    }
   ],
   "source": [
    "Image(\"local/imgs/anchor_boxes.png\", width=300)"
   ]
  },
  {
   "cell_type": "code",
   "execution_count": 115,
   "metadata": {
    "colab": {
     "base_uri": "https://localhost:8080/",
     "height": 324
    },
    "id": "nehgh0IdbNfa",
    "outputId": "f087f1ec-48b8-4b30-d29f-3205344a99d9"
   },
   "outputs": [],
   "source": [
    "from matplotlib.patches import Rectangle\n",
    "anchors = get_anchor_boxes(X, n=10, random_state=0)\n",
    "plt.figure(figsize=(5,5)); \n",
    "ax = plt.subplot(111)\n",
    "\n",
    "for w,h in anchors:\n",
    "    ax.add_patch(Rectangle((0.5-w/2,0.5-h/2),w,h, linewidth=2,edgecolor='r',facecolor='none'))"
   ]
  },
  {
   "cell_type": "markdown",
   "metadata": {
    "id": "4Xn5Xjqi_bd8"
   },
   "source": [
    "**Registra tu solución en linea**"
   ]
  },
  {
   "cell_type": "code",
   "execution_count": 456,
   "metadata": {
    "colab": {
     "base_uri": "https://localhost:8080/",
     "height": 110
    },
    "id": "8IhGJuMPh5wZ",
    "outputId": "3abd5c78-04a6-42f0-87c6-3e63b3c13699"
   },
   "outputs": [],
   "source": [
    "student.submit_task(namespace=globals(), task_id='T1');"
   ]
  },
  {
   "cell_type": "markdown",
   "metadata": {
    "id": "TZKDfhUqjdBq"
   },
   "source": [
    "## TASK 2: Get closest anchor\n",
    "\n",
    "assume we have these anchor boxes, sorted by size"
   ]
  },
  {
   "cell_type": "code",
   "execution_count": 477,
   "metadata": {
    "colab": {
     "base_uri": "https://localhost:8080/",
     "height": 348
    },
    "id": "V0keIbeSjo_e",
    "outputId": "9f12d8dd-7d12-4d48-8b08-10a6936c5c65"
   },
   "outputs": [],
   "source": [
    "kc = np.array([0.03612632, 0.05025544, 0.0982887 , 0.1392435 , 0.11913009,\n",
    "       0.28577818, 0.32945173, 0.23846835, 0.18874274, 0.48914381,\n",
    "       0.25347843, 0.77500826, 0.45506799, 0.51589807, 0.83168319,\n",
    "       0.39802428, 0.5539543 , 0.86824085, 0.93553054, 0.89561131]).reshape(10,2)\n",
    "kc = kc[np.argsort(np.product(kc, axis=1))]\n",
    "anchors = pd.DataFrame(kc, columns=['w', 'h'])\n",
    "anchors"
   ]
  },
  {
   "cell_type": "markdown",
   "metadata": {
    "id": "0q5D7n8InLlf"
   },
   "source": [
    "Complete the following function so that, given a bounding box `XMin, XMax, YMin, YMax` and a dataframe with anchors such as `kc` above\n",
    "returns the index of the most similar anchor to the bouding box.\n",
    "\n",
    "Recall that all values $\\in [0,1]$\n",
    "\n",
    "Given two boxes (bounding box and anchor) with widths and heights $w_0, h_0$ and $w_1, h_1$, we define their similarity measure as:\n",
    "\n",
    "$$|w_0-w_1| + |h_0-h_1|$$\n",
    "\n",
    "Your return value must be an integer between 0 and 9"
   ]
  },
  {
   "cell_type": "code",
   "execution_count": null,
   "metadata": {
    "id": "ArMqnGKW_5Vq"
   },
   "outputs": [],
   "source": [
    "def get_closest_anchor_box(XMin, XMax, YMin, YMax, anchors):\n",
    "  anchor_index = ...\n",
    "  return anchor_index"
   ]
  },
  {
   "cell_type": "markdown",
   "metadata": {
    "id": "gRGoyCi_pAix"
   },
   "source": [
    "you can visualize random annotations and their corresponding anchor boxes according to your function below. Your should see things like this one"
   ]
  },
  {
   "cell_type": "code",
   "execution_count": 231,
   "metadata": {
    "colab": {
     "base_uri": "https://localhost:8080/",
     "height": 229
    },
    "id": "KimRYPg_pP0t",
    "outputId": "5555517e-0488-48bd-ac49-45526e39d1e2"
   },
   "outputs": [
    {
     "data": {
      "image/png": "[encoded data removed]",
      "text/plain": [
       "<IPython.core.display.Image object>"
      ]
     },
     "execution_count": 231,
     "metadata": {
      "image/png": {
       "width": 600
      },
      "tags": []
     },
     "output_type": "execute_result"
    }
   ],
   "source": [
    "Image(\"local/imgs/annotations-anchors.png\", width=600)"
   ]
  },
  {
   "cell_type": "code",
   "execution_count": 318,
   "metadata": {
    "colab": {
     "base_uri": "https://localhost:8080/",
     "height": 269
    },
    "id": "zuGjoObriymu",
    "outputId": "f00d15cd-be76-49d4-b97f-68d13dac7463"
   },
   "outputs": [],
   "source": [
    "plt.figure(figsize=(12,4)); \n",
    "for i in range(3):\n",
    "    b = d.iloc[np.random.randint(len(d))]\n",
    "    bx, by = b.XMin + (b.XMax-b.XMin)/2, b.YMin + (b.YMax-b.YMin)/2\n",
    "    bw, bh = b.XMax - b.XMin, b.YMax - b.YMin\n",
    "    pw, ph = anchors.values[get_closest_anchor_box(b.XMin, b.XMax, b.YMin, b.YMax, anchors)]\n",
    "\n",
    "    ax = plt.subplot(1,3,i+1)\n",
    "    ax.add_patch(Rectangle((bx-bw/2,by-bh/2),bw,bh, linewidth=2,edgecolor='r',facecolor='none', label=\"annotation\"))\n",
    "    ax.add_patch(Rectangle((bx-pw/2,by-ph/2),pw,ph, linewidth=2,edgecolor='b',facecolor='none', label=\"anchor box\"))\n",
    "    plt.scatter(bx, by, color=\"black\", label=\"object center\")\n",
    "    plt.grid(); plt.legend()\n",
    "    plt.xlim(0,1); plt.ylim(0,1);"
   ]
  },
  {
   "cell_type": "markdown",
   "metadata": {
    "id": "xALIyxF8C6yg"
   },
   "source": [
    "**Registra tu solución en linea**"
   ]
  },
  {
   "cell_type": "code",
   "execution_count": 506,
   "metadata": {
    "colab": {
     "base_uri": "https://localhost:8080/",
     "height": 369
    },
    "id": "oOeGXtDsC6yg",
    "outputId": "5c93d7e2-4453-40d6-cf65-7b13b0aa7bae"
   },
   "outputs": [],
   "source": [
    "student.submit_task(namespace=globals(), task_id='T2');"
   ]
  },
  {
   "cell_type": "markdown",
   "metadata": {
    "id": "1bJrpA4krmKH"
   },
   "source": [
    "## TASK 3: Compute desired model bounding box predictions\n",
    "\n",
    "Understand the schema of YOLO coordinates below\n",
    "\n",
    "- $b_w$, $b_h$ are the width and height of the annotation we want the model to predict\n",
    "- $b_x$, $b_y$ are $x$ and $y$ coordinate of the annotation we want the model to predict\n",
    "- $p_w$, $p_h$ are the width and height of its closest anchor box\n",
    "- $c_x$, $c_y$ are the $x$ and $y$ coordinates of the **TOP LEFT** corner of the image cell responsible for detecting the annotation"
   ]
  },
  {
   "cell_type": "code",
   "execution_count": 235,
   "metadata": {
    "colab": {
     "base_uri": "https://localhost:8080/",
     "height": 315
    },
    "id": "KMUz4QTAsuiY",
    "outputId": "7d9c344f-f043-48f4-983d-cf9f3d86dd69"
   },
   "outputs": [
    {
     "data": {
      "image/png": "[encoded data removed]",
      "text/plain": [
       "<IPython.core.display.Image object>"
      ]
     },
     "execution_count": 235,
     "metadata": {
      "image/png": {
       "width": 400
      },
      "tags": []
     },
     "output_type": "execute_result"
    }
   ],
   "source": [
    "Image(\"local/imgs/yolo_predictions.png\", width=400)"
   ]
  },
  {
   "cell_type": "markdown",
   "metadata": {
    "id": "We1clbjw0pob"
   },
   "source": [
    "Complete the following function such that, when given $b_x$, $b_y$, $b_w$, $b_h$, $p_w$, $p_h$, $n_w$, $n_h$ returns:\n",
    "\n",
    "- $n_x \\in \\{0,1,..,n_x-1\\}$, $n_y \\in  \\{0,1,..,n_y-1\\}$: the cell number in which the annotation center ($b_x$, $b_y$) falls in. \n",
    "- $t_x$, $t_y$, $t_w$, $t_h$: the desired model predictions according to the figure above\n",
    "\n",
    "$n_w$ and $n_h$ specify the grid size in terms of number of cells wide and number of cells high.\n",
    "\n",
    "\n"
   ]
  },
  {
   "cell_type": "code",
   "execution_count": null,
   "metadata": {
    "id": "v36GW-an8m2a"
   },
   "outputs": [],
   "source": [
    "def get_model_target_predictions(bx, by, bw, bh, pw, ph, nw, nh):\n",
    "    # assume all x,y,w,h are in the [0,1] range, and nw, nh > 2\n",
    "    \n",
    "    nx = ...\n",
    "    ny = ...\n",
    "    tx = ...\n",
    "    ty = ...\n",
    "    tw = ...\n",
    "    th = ...\n",
    "\n",
    "    return nx, ny, tx, ty, tw, th"
   ]
  },
  {
   "cell_type": "markdown",
   "metadata": {
    "id": "jePe8Rau5FkD"
   },
   "source": [
    "check your code. For the following values, you should get\n",
    "\n",
    "- $n_x$, $n_y$ = `1, 4`\n",
    "- $t_x$, $t_y$ = `-2.63, -3.89`\n",
    "- $t_w$, $t_h$ = `-0.92, 0.14`\n",
    "\n",
    "Make sure the values make sense (why are they positive or negative)"
   ]
  },
  {
   "cell_type": "code",
   "execution_count": 434,
   "metadata": {
    "colab": {
     "base_uri": "https://localhost:8080/"
    },
    "id": "snMKj7OQ1ogX",
    "outputId": "48f769c5-f1a0-4094-e231-abd716d9414b"
   },
   "outputs": [],
   "source": [
    "nw, nh = 7, 5\n",
    "bx, by = 0.21, 0.82\n",
    "bw, bh = 0.02, 0.15\n",
    "pw, ph = 0.05, 0.13\n",
    "\n",
    "get_model_target_predictions(bx, by, bw, bh, pw, ph, nw, nh)"
   ]
  },
  {
   "cell_type": "markdown",
   "metadata": {
    "id": "mwutvYmhGKLC"
   },
   "source": [
    "try with other cases generated randomly"
   ]
  },
  {
   "cell_type": "code",
   "execution_count": 563,
   "metadata": {
    "colab": {
     "base_uri": "https://localhost:8080/"
    },
    "id": "vpEcEHyfDQtG",
    "outputId": "5f9ccfbc-df3d-405d-ffbb-79c0e555a5cc"
   },
   "outputs": [],
   "source": [
    "nw, nh = np.random.randint(6, size=2)+5\n",
    "bx, by = np.round(np.random.random(size=2)*.4+.3,3)\n",
    "bw, bh = np.round(np.random.random(size=2)*.25,3)\n",
    "pw, ph = np.round(np.r_[bw, bh] * (1+np.random.random(size=2)*0.3-0.15),3)\n",
    "\n",
    "print (\"inputs\", nw, nh, bx, by, bw, bh, pw, ph)\n",
    "get_model_target_predictions(bx, by, bw, bh, pw, ph, nw, nh)"
   ]
  },
  {
   "cell_type": "markdown",
   "metadata": {
    "id": "zyLy_Pd3DRo6"
   },
   "source": [
    "**Registra tu solución en linea**"
   ]
  },
  {
   "cell_type": "code",
   "execution_count": 569,
   "metadata": {
    "colab": {
     "base_uri": "https://localhost:8080/",
     "height": 162
    },
    "id": "OCO8r9aODRo6",
    "outputId": "96d9d5f7-6105-432f-f320-08488b127643"
   },
   "outputs": [],
   "source": [
    "student.submit_task(namespace=globals(), task_id='T3');"
   ]
  },
  {
   "cell_type": "code",
   "execution_count": null,
   "metadata": {},
   "outputs": [],
   "source": []
  }
 ],
 "metadata": {
  "colab": {
   "collapsed_sections": [],
   "name": "U4 LAB 03 - Object Detection.ipynb",
   "provenance": []
  },
  "kernelspec": {
   "display_name": "Python 3 (ipykernel)",
   "language": "python",
   "name": "python3"
  },
  "language_info": {
   "codemirror_mode": {
    "name": "ipython",
    "version": 3
   },
   "file_extension": ".py",
   "mimetype": "text/x-python",
   "name": "python",
   "nbconvert_exporter": "python",
   "pygments_lexer": "ipython3",
   "version": "3.9.15"
  }
 },
 "nbformat": 4,
 "nbformat_minor": 1
}
