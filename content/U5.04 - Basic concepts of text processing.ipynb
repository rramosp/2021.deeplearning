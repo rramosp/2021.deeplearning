{
 "cells": [
  {
   "cell_type": "markdown",
   "metadata": {},
   "source": [
    "# 5.4 Text processing"
   ]
  },
  {
   "cell_type": "markdown",
   "metadata": {},
   "source": [
    "Course's materials require a `tensorflow` version lower than the default one used in Google Colab. Run the following cell to downgrade TensorFlow accordingly."
   ]
  },
  {
   "cell_type": "code",
   "execution_count": null,
   "metadata": {},
   "outputs": [],
   "source": [
    "import os\n",
    "def downgrade_tf_version():\n",
    "    os.system(\"!yes | pip uninstall -y tensorflow\")\n",
    "    os.system(\"!yes | pip install tensorflow==2.12.0\")\n",
    "    os.kill(os.getpid(), 9)\n",
    "downgrade_tf_version()"
   ]
  },
  {
   "cell_type": "code",
   "execution_count": null,
   "metadata": {},
   "outputs": [],
   "source": [
    "!wget -nc --no-cache -O init.py -q https://raw.githubusercontent.com/rramosp/2021.deeplearning/main/content/init.py\n",
    "import init; init.init(force_download=False); "
   ]
  },
  {
   "cell_type": "code",
   "execution_count": null,
   "metadata": {},
   "outputs": [],
   "source": [
    "import sys\n",
    "if 'google.colab' in sys.modules:\n",
    "    print (\"setting tensorflow version in colab\")\n",
    "    %tensorflow_version 2.x\n",
    "import tensorflow as tf\n",
    "tf.__version__"
   ]
  },
  {
   "cell_type": "code",
   "execution_count": 1,
   "metadata": {},
   "outputs": [],
   "source": [
    "import numpy as np\n",
    "import matplotlib.pyplot as plt\n",
    "%matplotlib inline"
   ]
  },
  {
   "cell_type": "markdown",
   "metadata": {},
   "source": [
    "There exists several applications that require the processing of text, e.g. machine translation, sentiment analysis, semantic word similarity, part of speech tagging, to name just a few. However, in order to solve those problems, the text needs to be transformed into something that can be understood by the models. In the following some of the basic preprocessing steps that must be applied to text are going to be presented."
   ]
  },
  {
   "cell_type": "markdown",
   "metadata": {},
   "source": [
    "Natural Language Toolkit\n",
    "https://www.nltk.org/index.html\n",
    "\n",
    "NLTK is a platform for building Python programs to work with human language data. It provides easy-to-use interfaces to over 50 corpora and lexical resources such as WordNet, along with a suite of text processing libraries for classification, tokenization, stemming, tagging, parsing, and semantic reasoning."
   ]
  },
  {
   "cell_type": "markdown",
   "metadata": {},
   "source": [
    "## Tokenization"
   ]
  },
  {
   "cell_type": "markdown",
   "metadata": {},
   "source": [
    "This process assigns a unique number to every word (or character) in the dataset. Tokenization requires to set up the maximum number of fatures or words to be included in the tokenizer.  "
   ]
  },
  {
   "cell_type": "code",
   "execution_count": 2,
   "metadata": {},
   "outputs": [
    {
     "name": "stderr",
     "output_type": "stream",
     "text": [
      "[nltk_data] Downloading package punkt to /home/julian/nltk_data...\n",
      "[nltk_data]   Package punkt is already up-to-date!\n"
     ]
    },
    {
     "data": {
      "text/plain": [
       "['ejemplo', 'de', 'texto', 'a', 'ser', 'procesado']"
      ]
     },
     "execution_count": 2,
     "metadata": {},
     "output_type": "execute_result"
    }
   ],
   "source": [
    "import nltk\n",
    "nltk.download('punkt')\n",
    "from nltk import word_tokenize \n",
    "\n",
    "text = 'ejemplo de texto a ser procesado'\n",
    "word_tokenize(text)"
   ]
  },
  {
   "cell_type": "code",
   "execution_count": 4,
   "metadata": {},
   "outputs": [
    {
     "name": "stdout",
     "output_type": "stream",
     "text": [
      "['ejemplo de texto a ser procesado ejemplo']\n",
      "[[1, 2, 3, 4, 5, 6, 1]]\n"
     ]
    }
   ],
   "source": [
    "from tensorflow.keras.preprocessing.text import Tokenizer\n",
    "\n",
    "text = 'ejemplo de texto a ser procesado ejemplo'\n",
    "\n",
    "max_fatures = 8\n",
    "tokenizer = Tokenizer(num_words=max_fatures, split=' ')\n",
    "tokenizer.fit_on_texts([text])\n",
    "X = tokenizer.texts_to_sequences([text])\n",
    "print([text])\n",
    "print(X)"
   ]
  },
  {
   "cell_type": "code",
   "execution_count": 4,
   "metadata": {},
   "outputs": [
    {
     "data": {
      "text/plain": [
       "{'ejemplo': 1, 'de': 2, 'texto': 3, 'a': 4, 'ser': 5, 'procesado': 6}"
      ]
     },
     "execution_count": 4,
     "metadata": {},
     "output_type": "execute_result"
    }
   ],
   "source": [
    "#Dictionary\n",
    "tokenizer.word_index"
   ]
  },
  {
   "cell_type": "markdown",
   "metadata": {},
   "source": [
    "If there are more unique words in the text than **num_words**, only the most frequent ones are given a unique token."
   ]
  },
  {
   "cell_type": "markdown",
   "metadata": {},
   "source": [
    "## Depending on the task, it may be necessary to eliminate some words such as prepositions"
   ]
  },
  {
   "cell_type": "code",
   "execution_count": 5,
   "metadata": {},
   "outputs": [
    {
     "name": "stderr",
     "output_type": "stream",
     "text": [
      "[nltk_data] Downloading package stopwords to /home/julian/nltk_data...\n",
      "[nltk_data]   Package stopwords is already up-to-date!\n"
     ]
    }
   ],
   "source": [
    "nltk.download('stopwords')\n",
    "stopwords = nltk.corpus.stopwords.words('spanish')"
   ]
  },
  {
   "cell_type": "code",
   "execution_count": 6,
   "metadata": {},
   "outputs": [
    {
     "name": "stdout",
     "output_type": "stream",
     "text": [
      "['ejemplo', 'texto', 'ser', 'procesado', 'ejemplo']\n"
     ]
    }
   ],
   "source": [
    "def tokenize_only(text):\n",
    "    # first tokenize by sentence, then by word to ensure that punctuation is caught as it's own token\n",
    "    tokens = [word.lower() for word in nltk.word_tokenize(text) if word not in stopwords]\n",
    "    return tokens\n",
    "print(tokenize_only(text))"
   ]
  },
  {
   "cell_type": "markdown",
   "metadata": {},
   "source": [
    "## Document representations"
   ]
  },
  {
   "cell_type": "markdown",
   "metadata": {},
   "source": [
    "### Bag of words"
   ]
  },
  {
   "cell_type": "markdown",
   "metadata": {},
   "source": [
    "The most basic representation of a document is based on a One-hot encoding of the tokenized text. In other words, every text is represented as a vector of 0's and only one '1' in the position given by the index of the words in te text, according to the ones assigned during tokenization. The length of the vector corresponds to the parameter **num_words**, which is the size of the dictionary. "
   ]
  },
  {
   "cell_type": "markdown",
   "metadata": {},
   "source": [
    "Based on a bag of words representation a whole paragraph or document could be codified as a vector of num_words positions, where the position $i$ accounts for the number of times that the word $i$ appeared in the text. Usually, such vector is normalized with respecto the number of words in the text, this is call *term-frecuency* representation. However, it is more common to use the tf-idf representetation."
   ]
  },
  {
   "cell_type": "code",
   "execution_count": 10,
   "metadata": {},
   "outputs": [
    {
     "name": "stdout",
     "output_type": "stream",
     "text": [
      "CPU times: user 569 µs, sys: 272 µs, total: 841 µs\n",
      "Wall time: 607 µs\n",
      "(3, 18)\n"
     ]
    },
    {
     "data": {
      "text/plain": [
       "array([[0, 0, 0, 1, 1, 0, 0, 0, 0, 0, 1, 0, 0, 0, 0, 1, 0, 1],\n",
       "       [1, 1, 0, 0, 0, 2, 1, 0, 1, 0, 0, 1, 1, 0, 0, 1, 0, 0],\n",
       "       [1, 0, 1, 0, 0, 1, 0, 1, 0, 1, 0, 0, 0, 1, 1, 0, 1, 0]])"
      ]
     },
     "execution_count": 10,
     "metadata": {},
     "output_type": "execute_result"
    }
   ],
   "source": [
    "from sklearn.feature_extraction.text import CountVectorizer\n",
    "\n",
    "synopses = []\n",
    "synopses.append('ejemplo de texto a ser procesado')\n",
    "synopses.append('algunos ejemplos puenden ser más complejos que otros ejemplos')\n",
    "synopses.append('No se si sea posible dar algunos ejemplos')\n",
    "\n",
    "#define vectorizer parameters\n",
    "count_vectorizer = CountVectorizer(max_df=0.9, max_features=200,\n",
    "                                 min_df=0.1)\n",
    "\n",
    "%time count_matrix = count_vectorizer.fit_transform(synopses) #fit the vectorizer to synopses\n",
    "\n",
    "print(count_matrix.shape)\n",
    "count_matrix.toarray()"
   ]
  },
  {
   "cell_type": "code",
   "execution_count": 8,
   "metadata": {},
   "outputs": [
    {
     "data": {
      "text/plain": [
       "['algunos',\n",
       " 'complejos',\n",
       " 'dar',\n",
       " 'de',\n",
       " 'ejemplo',\n",
       " 'ejemplos',\n",
       " 'más',\n",
       " 'no',\n",
       " 'otros',\n",
       " 'posible',\n",
       " 'procesado',\n",
       " 'puenden',\n",
       " 'que',\n",
       " 'se',\n",
       " 'sea',\n",
       " 'ser',\n",
       " 'si',\n",
       " 'texto']"
      ]
     },
     "execution_count": 8,
     "metadata": {},
     "output_type": "execute_result"
    }
   ],
   "source": [
    "count_vectorizer.get_feature_names()"
   ]
  },
  {
   "cell_type": "markdown",
   "metadata": {},
   "source": [
    "### Stemming"
   ]
  },
  {
   "cell_type": "code",
   "execution_count": 9,
   "metadata": {},
   "outputs": [
    {
     "data": {
      "text/plain": [
       "['algun',\n",
       " 'complej',\n",
       " 'dar',\n",
       " 'de',\n",
       " 'ejempl',\n",
       " 'mas',\n",
       " 'no',\n",
       " 'otros',\n",
       " 'posibl',\n",
       " 'proces',\n",
       " 'puend',\n",
       " 'que',\n",
       " 'se',\n",
       " 'sea',\n",
       " 'ser',\n",
       " 'si',\n",
       " 'text']"
      ]
     },
     "execution_count": 9,
     "metadata": {},
     "output_type": "execute_result"
    }
   ],
   "source": [
    "from nltk.stem import SnowballStemmer\n",
    "stemmer = SnowballStemmer('spanish')\n",
    "synopsesStem = []\n",
    "for sentence in synopses:\n",
    "     synopsesStem.append(\" \".join([stemmer.stem(word) for word in sentence.split()]))\n",
    "#define vectorizer parameters\n",
    "count_vectorizer = CountVectorizer(max_df=1.0, max_features=200,\n",
    "                                 min_df=0.1)\n",
    "\n",
    "count_matrix = count_vectorizer.fit_transform(synopsesStem) #fit the vectorizer to synopses\n",
    "count_vectorizer.get_feature_names()"
   ]
  },
  {
   "cell_type": "code",
   "execution_count": 10,
   "metadata": {},
   "outputs": [
    {
     "name": "stdout",
     "output_type": "stream",
     "text": [
      "(3, 17)\n"
     ]
    },
    {
     "data": {
      "text/plain": [
       "array([[0, 0, 0, 1, 1, 0, 0, 0, 0, 1, 0, 0, 0, 0, 1, 0, 1],\n",
       "       [1, 1, 0, 0, 2, 1, 0, 1, 0, 0, 1, 1, 0, 0, 1, 0, 0],\n",
       "       [1, 0, 1, 0, 1, 0, 1, 0, 1, 0, 0, 0, 1, 1, 0, 1, 0]])"
      ]
     },
     "execution_count": 10,
     "metadata": {},
     "output_type": "execute_result"
    }
   ],
   "source": [
    "print(count_matrix.shape)\n",
    "count_matrix.toarray()"
   ]
  },
  {
   "cell_type": "markdown",
   "metadata": {},
   "source": [
    "This provides a matrix with a row per document and a column per word in the dictionary. The position [$i$, $j$] corresponds to the number of times the word $j$ appeared in the document $i$.  "
   ]
  },
  {
   "cell_type": "markdown",
   "metadata": {},
   "source": [
    "**Home work**: [Read about the difference between steeming and lemmatization](https://blog.bitext.com/what-is-the-difference-between-stemming-and-lemmatization/)"
   ]
  },
  {
   "cell_type": "markdown",
   "metadata": {},
   "source": [
    "### tf-idf representation"
   ]
  },
  {
   "cell_type": "markdown",
   "metadata": {},
   "source": [
    "This stands for term frequency and inverse document frequency. The tf-idf weighting scheme assigns to term $t$ a weight in document $d$ given by\n",
    "\n",
    "$$\n",
    "\\mbox{tf-idf}_{t,d} = \\mbox{tf}_{t,d} \\times \\mbox{idf}_t.$$"
   ]
  },
  {
   "cell_type": "markdown",
   "metadata": {},
   "source": [
    "**Term Frequency (tf)**: gives us the frequency of the word in each document in the corpus. It is the ratio of number of times the word appears in a document compared to the total number of words in that document. It increases as the number of occurrences of that word within the document increases. Each document has its own tf.\n",
    "\n",
    "$$\\mbox{tf}_{t,d} = \\frac{n_{t,d}}{\\sum_k n_{k,d}} $$\n",
    "\n",
    "**Inverse Data Frequency (idf)**: used to calculate the weight of rare words across all documents in the corpus. The words that occur rarely in the corpus have a high IDF score. It is given by the equation below.\n",
    "\n",
    "$$\\mbox{idf}_{t} = \\log\\left(\\frac{N}{df_t}\\right) + 1; \\; df_t = \\text{number of documents contaning } t $$"
   ]
  },
  {
   "cell_type": "markdown",
   "metadata": {},
   "source": [
    "In other words, $\\mbox{tf-idf}_{t,d}$ assigns to term $t$ a weight in document $d$ that is\n",
    "\n",
    "- highest when $t$ occurs many times within a small number of documents (thus lending high discriminating power to those documents);\n",
    "- lower when the term occurs fewer times in a document, or occurs in many documents (thus offering a less pronounced relevance signal);\n",
    "\n",
    "- lowest when the term occurs in virtually all documents."
   ]
  },
  {
   "cell_type": "code",
   "execution_count": 12,
   "metadata": {},
   "outputs": [
    {
     "name": "stdout",
     "output_type": "stream",
     "text": [
      "CPU times: user 15.2 ms, sys: 446 µs, total: 15.7 ms\n",
      "Wall time: 15 ms\n",
      "(3, 33)\n",
      "[[0.         0.         0.         0.         0.         0.\n",
      "  0.         0.         0.20977061 0.         0.         0.35517252\n",
      "  0.35517252 0.         0.         0.         0.         0.\n",
      "  0.         0.35517252 0.         0.         0.         0.27011786\n",
      "  0.         0.         0.35517252 0.         0.         0.\n",
      "  0.35517252 0.35517252 0.35517252]\n",
      " [0.18936073 0.18936073 0.2489866  0.2489866  0.2489866  0.\n",
      "  0.         0.         0.294111   0.2489866  0.2489866  0.\n",
      "  0.         0.2489866  0.2489866  0.2489866  0.         0.\n",
      "  0.         0.         0.2489866  0.2489866  0.2489866  0.18936073\n",
      "  0.2489866  0.2489866  0.         0.         0.         0.\n",
      "  0.         0.         0.        ]\n",
      " [0.23464049 0.23464049 0.         0.         0.         0.30852405\n",
      "  0.30852405 0.30852405 0.18221927 0.         0.         0.\n",
      "  0.         0.         0.         0.         0.30852405 0.30852405\n",
      "  0.30852405 0.         0.         0.         0.         0.\n",
      "  0.         0.         0.         0.30852405 0.30852405 0.30852405\n",
      "  0.         0.         0.        ]]\n"
     ]
    }
   ],
   "source": [
    "from sklearn.feature_extraction.text import TfidfVectorizer\n",
    "\n",
    "#define vectorizer parameters\n",
    "tfidf_vectorizer = TfidfVectorizer(max_df=1.0, max_features=200,\n",
    "                                 min_df=0.1, stop_words=stopwords,\n",
    "                                 use_idf=True, tokenizer= word_tokenize, ngram_range=(1,3))\n",
    "\n",
    "%time tfidf_matrix = tfidf_vectorizer.fit_transform(synopsesStem) #fit the vectorizer to synopses\n",
    "\n",
    "print(tfidf_matrix.shape)\n",
    "print(tfidf_matrix.toarray())"
   ]
  },
  {
   "cell_type": "code",
   "execution_count": 12,
   "metadata": {},
   "outputs": [
    {
     "name": "stdout",
     "output_type": "stream",
     "text": [
      "{'algun': 1.2876820724517808, 'algun ejempl': 1.2876820724517808, 'algun ejempl puend': 1.6931471805599454, 'complej': 1.6931471805599454, 'complej ejempl': 1.6931471805599454, 'dar': 1.6931471805599454, 'dar algun': 1.6931471805599454, 'dar algun ejempl': 1.6931471805599454, 'ejempl': 1.0, 'ejempl puend': 1.6931471805599454, 'ejempl puend ser': 1.6931471805599454, 'ejempl text': 1.6931471805599454, 'ejempl text ser': 1.6931471805599454, 'mas': 1.6931471805599454, 'mas complej': 1.6931471805599454, 'mas complej ejempl': 1.6931471805599454, 'posibl': 1.6931471805599454, 'posibl dar': 1.6931471805599454, 'posibl dar algun': 1.6931471805599454, 'proces': 1.6931471805599454, 'puend': 1.6931471805599454, 'puend ser': 1.6931471805599454, 'puend ser mas': 1.6931471805599454, 'ser': 1.2876820724517808, 'ser mas': 1.6931471805599454, 'ser mas complej': 1.6931471805599454, 'ser proces': 1.6931471805599454, 'si': 1.6931471805599454, 'si posibl': 1.6931471805599454, 'si posibl dar': 1.6931471805599454, 'text': 1.6931471805599454, 'text ser': 1.6931471805599454, 'text ser proces': 1.6931471805599454}\n"
     ]
    }
   ],
   "source": [
    "print(dict(zip(tfidf_vectorizer.get_feature_names(), tfidf_vectorizer.idf_)))"
   ]
  },
  {
   "cell_type": "markdown",
   "metadata": {},
   "source": [
    "## Word embeddings"
   ]
  },
  {
   "cell_type": "markdown",
   "metadata": {},
   "source": [
    "### word2vec"
   ]
  },
  {
   "cell_type": "markdown",
   "metadata": {},
   "source": [
    "There exist several alternatives to represent the words in a different way. In most of the cases, those techniques try to take advantage on the semantic similarity of the words. Such similarity can be sintacmatic or paradigmatic. Paradigmatic similarity refers to the interchange of words. On the other hand, sintacmatic similarity refers to co-ocurrence.\n",
    "\n",
    "Two of the most used techniques are based on Neural Network representations:\n",
    "\n",
    "- **skip-gram** model: This architecture is designed to predict the context given a word\n",
    "\n",
    "- **Continuous Bag of Words (CBOW)**: The CBOW model architecture tries to predict the current target word (the center word) based on the source context words (surrounding words)."
   ]
  },
  {
   "cell_type": "code",
   "execution_count": 31,
   "metadata": {},
   "outputs": [
    {
     "data": {
      "image/png": "[encoded data removed]",
      "text/plain": [
       "<IPython.core.display.Image object>"
      ]
     },
     "execution_count": 31,
     "metadata": {
      "image/png": {
       "width": 800
      }
     },
     "output_type": "execute_result"
    }
   ],
   "source": [
    "from IPython.display import Image, display\n",
    "Image(filename='local/imgs/word2vec.png', width=800)\n",
    "#![alt text](local/imgs/word2vec.png \"skipgram\")"
   ]
  },
  {
   "cell_type": "markdown",
   "metadata": {},
   "source": [
    "\n",
    "According to Mikolov (https://arxiv.org/pdf/1310.4546.pdf):\n",
    "\n",
    "Skip-gram: works well with small amount of the training data, represents well even rare words or phrases.\n",
    "\n",
    "CBOW: several times faster to train than the skip-gram, slightly better accuracy for the frequent words"
   ]
  },
  {
   "cell_type": "markdown",
   "metadata": {},
   "source": [
    "### Alternative activation functions"
   ]
  },
  {
   "cell_type": "markdown",
   "metadata": {},
   "source": [
    "One of the problems with word2vec architecture is the large number of outputs, which increases a lot the computational cost. In order to tackle this problem, there are two approaches:\n",
    "\n",
    "- **Hierarchical softmax**: This use a binary tree to represent the probabilities of the words at the output layer an reduces the computational cost logarithmically. The output layer is replaced by sigmoid functions representing the decision in every node of the tree.\n",
    "\n",
    "https://www.iro.umontreal.ca/~lisa/pointeurs/hierarchical-nnlm-aistats05.pdf\n",
    "\n",
    "\n",
    "- **Negative sampling**: Negative sampling addresses the computational problem by having each training sample only modify a small percentage of the weights, rather than all of them. \n",
    "\n",
    "https://arxiv.org/pdf/1310.4546.pdf"
   ]
  },
  {
   "cell_type": "code",
   "execution_count": 33,
   "metadata": {},
   "outputs": [
    {
     "data": {
      "image/png": "[encoded data removed]",
      "text/plain": [
       "<IPython.core.display.Image object>"
      ]
     },
     "metadata": {
      "image/png": {
       "width": 600
      }
     },
     "output_type": "display_data"
    },
    {
     "data": {
      "image/png": "[encoded data removed]",
      "text/plain": [
       "<IPython.core.display.Image object>"
      ]
     },
     "metadata": {
      "image/png": {
       "width": 600
      }
     },
     "output_type": "display_data"
    }
   ],
   "source": [
    "A = Image(filename='local/imgs/Softmax.png', width=600)\n",
    "B = Image(filename='local/imgs/HSoftmax.png', width=600)\n",
    "display(A, B)"
   ]
  },
  {
   "cell_type": "markdown",
   "metadata": {},
   "source": [
    "[Image taken from here](https://medium.com/@ionejunhong/my-machine-learning-diary-day-78-c36d602ca9bf)"
   ]
  },
  {
   "cell_type": "code",
   "execution_count": 13,
   "metadata": {},
   "outputs": [],
   "source": [
    "import bs4 as bs  \n",
    "import urllib.request\n",
    "import re  \n",
    "import nltk\n",
    "\n",
    "scrapped_data = urllib.request.urlopen('https://en.wikipedia.org/wiki/Artificial_intelligence')  \n",
    "article = scrapped_data.read()\n",
    "\n",
    "parsed_article = bs.BeautifulSoup(article,'lxml')\n",
    "\n",
    "paragraphs = parsed_article.find_all('p')\n",
    "\n",
    "article_text = \"\"\n",
    "\n",
    "for p in paragraphs:  \n",
    "    article_text += p.text"
   ]
  },
  {
   "cell_type": "code",
   "execution_count": 14,
   "metadata": {},
   "outputs": [],
   "source": [
    "# Cleaing the text\n",
    "processed_article = article_text.lower()  \n",
    "processed_article = re.sub('[^a-zA-Z]', ' ', processed_article )  \n",
    "processed_article = re.sub(r'\\s+', ' ', processed_article)\n",
    "\n",
    "# Preparing the dataset\n",
    "all_sentences = nltk.sent_tokenize(processed_article)\n",
    "\n",
    "all_words = [nltk.word_tokenize(sent) for sent in all_sentences]\n",
    "\n",
    "# Removing Stop Words\n",
    "from nltk.corpus import stopwords\n",
    "for i in range(len(all_words)):  \n",
    "    all_words = [[' '.join(w for w in all_words[i] if w not in stopwords.words('english'))]]"
   ]
  },
  {
   "cell_type": "code",
   "execution_count": 15,
   "metadata": {},
   "outputs": [
    {
     "name": "stdout",
     "output_type": "stream",
     "text": [
      "Vocabulary Size: 2341\n",
      "Vocabulary Sample: [('ai', 1), ('intelligence', 2), ('human', 3), ('artificial', 4), ('research', 5), ('machine', 6), ('knowledge', 7), ('many', 8), ('learning', 9), ('also', 10)]\n"
     ]
    }
   ],
   "source": [
    "from local.lib.mlutils import prepare_text_for_cbow, generate_context_word_pairs\n",
    "wids, vocab_size, embed_size, window_size,id2word,word2id = prepare_text_for_cbow(all_words)"
   ]
  },
  {
   "cell_type": "code",
   "execution_count": 16,
   "metadata": {},
   "outputs": [
    {
     "name": "stdout",
     "output_type": "stream",
     "text": [
      "Context (X): ['artificial', 'intelligence', 'intelligence', 'demonstrated'] -> Target (Y): ai\n",
      "Context (X): ['intelligence', 'ai', 'demonstrated', 'machines'] -> Target (Y): intelligence\n",
      "Context (X): ['ai', 'intelligence', 'machines', 'unlike'] -> Target (Y): demonstrated\n",
      "Context (X): ['intelligence', 'demonstrated', 'unlike', 'natural'] -> Target (Y): machines\n",
      "Context (X): ['demonstrated', 'machines', 'natural', 'intelligence'] -> Target (Y): unlike\n",
      "Context (X): ['machines', 'unlike', 'intelligence', 'displayed'] -> Target (Y): natural\n",
      "Context (X): ['unlike', 'natural', 'displayed', 'humans'] -> Target (Y): intelligence\n",
      "Context (X): ['natural', 'intelligence', 'humans', 'animals'] -> Target (Y): displayed\n",
      "Context (X): ['intelligence', 'displayed', 'animals', 'involves'] -> Target (Y): humans\n",
      "Context (X): ['displayed', 'humans', 'involves', 'consciousness'] -> Target (Y): animals\n",
      "Context (X): ['humans', 'animals', 'consciousness', 'emotionality'] -> Target (Y): involves\n"
     ]
    }
   ],
   "source": [
    "# Test this out for some samples\n",
    "i = 0\n",
    "for x, y in generate_context_word_pairs(corpus=[wids], window_size=window_size, vocab_size=vocab_size):\n",
    "    if 0 not in x[0]:\n",
    "        print('Context (X):', [id2word[w] for w in x[0]], '-> Target (Y):', id2word[np.argwhere(y[0])[0][0]])\n",
    "    \n",
    "        if i == 10:\n",
    "            break\n",
    "        i += 1"
   ]
  },
  {
   "cell_type": "markdown",
   "metadata": {},
   "source": [
    "### CBOW"
   ]
  },
  {
   "cell_type": "code",
   "execution_count": 17,
   "metadata": {},
   "outputs": [],
   "source": [
    "from gensim.sklearn_api import W2VTransformer\n",
    "# Create a model to represent each word by a 10 dimensional vector.\n",
    "model = W2VTransformer(size=10, window = 6, min_count=1, seed=1, sg = 0, hs=1, iter = 10)"
   ]
  },
  {
   "cell_type": "code",
   "execution_count": 18,
   "metadata": {},
   "outputs": [],
   "source": [
    "TerminosDeInteres = ['ai','artificial','intelligence', 'statistics', 'economics', 'mathematics','data', 'scientific', 'reinforcement','learning','mining','processing']\n",
    "wordvecs = model.fit([all_words[0][0].split()]).transform(TerminosDeInteres)"
   ]
  },
  {
   "cell_type": "code",
   "execution_count": 19,
   "metadata": {},
   "outputs": [],
   "source": [
    "TerminosDeInteres = ['ai','artificial','intelligence', 'statistics', 'economics', 'mathematics','data', 'scientific', 'reinforcement','learning','mining','processing']\n",
    "from sklearn.feature_extraction.text import CountVectorizer\n",
    "\n",
    "#define vectorizer parameters\n",
    "count_vectorizer = CountVectorizer(max_df=1.0, max_features=200000,\n",
    "                                 min_df=0.1, vocabulary = TerminosDeInteres)\n",
    "\n",
    "count_matrix = count_vectorizer.fit_transform(all_sentences) #fit the vectorizer to synopses"
   ]
  },
  {
   "cell_type": "code",
   "execution_count": 20,
   "metadata": {},
   "outputs": [],
   "source": [
    "terms = count_vectorizer.get_feature_names()\n",
    "Nt = len(TerminosDeInteres)\n",
    "CountTerminosDeInteres = np.zeros(Nt)\n",
    "for i in range(Nt):\n",
    "    indx = terms.index(TerminosDeInteres[i])\n",
    "    CountTerminosDeInteres[i] = count_matrix[:,indx].sum()"
   ]
  },
  {
   "cell_type": "code",
   "execution_count": 21,
   "metadata": {},
   "outputs": [
    {
     "data": {
      "image/png": "[encoded data removed]",
      "text/plain": [
       "<Figure size 864x864 with 1 Axes>"
      ]
     },
     "metadata": {
      "needs_background": "light"
     },
     "output_type": "display_data"
    }
   ],
   "source": [
    "from sklearn.manifold import MDS\n",
    "embedding = MDS(n_components=2)\n",
    "X_embedded = embedding.fit_transform(wordvecs)\n",
    "fig, ax = plt.subplots(figsize=(12,12))\n",
    "ax.scatter(X_embedded[:,0], X_embedded[:,1], s=CountTerminosDeInteres, alpha=0.3)\n",
    "\n",
    "for i, txt in enumerate(TerminosDeInteres):\n",
    "    ax.annotate(txt, (X_embedded[i,0], X_embedded[i,1]))"
   ]
  },
  {
   "cell_type": "code",
   "execution_count": 80,
   "metadata": {},
   "outputs": [
    {
     "data": {
      "text/plain": [
       "(53275, 57240)"
      ]
     },
     "execution_count": 80,
     "metadata": {},
     "output_type": "execute_result"
    }
   ],
   "source": [
    "from gensim.models import Word2Vec\n",
    "model2 = Word2Vec(\n",
    "        [all_words[0][0].split()],\n",
    "        size=10,\n",
    "        window=6,\n",
    "        min_count=1,\n",
    "        sg= 0, #1 for skip-gram; otherwise CBOW\n",
    "        workers=10)\n",
    "model2.train([all_words[0][0].split()], total_examples=len([all_words[0][0].split()]), epochs=10)"
   ]
  },
  {
   "cell_type": "code",
   "execution_count": 81,
   "metadata": {},
   "outputs": [
    {
     "data": {
      "text/plain": [
       "[('may', 0.998458981513977),\n",
       " ('ai', 0.9982806444168091),\n",
       " ('approaches', 0.9975531101226807),\n",
       " ('research', 0.997254490852356),\n",
       " ('many', 0.9969410300254822),\n",
       " ('machine', 0.9969082474708557)]"
      ]
     },
     "execution_count": 81,
     "metadata": {},
     "output_type": "execute_result"
    }
   ],
   "source": [
    "model2.wv.most_similar(positive=['intelligence'],topn=6)"
   ]
  },
  {
   "cell_type": "markdown",
   "metadata": {},
   "source": [
    "### Skip-gram"
   ]
  },
  {
   "cell_type": "code",
   "execution_count": 78,
   "metadata": {},
   "outputs": [
    {
     "data": {
      "text/plain": [
       "(53275, 57240)"
      ]
     },
     "execution_count": 78,
     "metadata": {},
     "output_type": "execute_result"
    }
   ],
   "source": [
    "from gensim.models import Word2Vec\n",
    "model2 = Word2Vec(\n",
    "        [all_words[0][0].split()],\n",
    "        size=10,\n",
    "        window=6,\n",
    "        min_count=1,\n",
    "        sg= 1, #1 for skip-gram; otherwise CBOW\n",
    "        workers=10)\n",
    "model2.train([all_words[0][0].split()], total_examples=len([all_words[0][0].split()]), epochs=10)"
   ]
  },
  {
   "cell_type": "code",
   "execution_count": 79,
   "metadata": {},
   "outputs": [
    {
     "data": {
      "text/plain": [
       "[('artificial', 0.9911572933197021),\n",
       " ('moral', 0.9842232465744019),\n",
       " ('symbolic', 0.9834890961647034),\n",
       " ('research', 0.9820720553398132),\n",
       " ('development', 0.980772852897644),\n",
       " ('concerned', 0.9801471829414368)]"
      ]
     },
     "execution_count": 79,
     "metadata": {},
     "output_type": "execute_result"
    }
   ],
   "source": [
    "model2.wv.most_similar(positive=['intelligence'],topn=6)"
   ]
  },
  {
   "cell_type": "markdown",
   "metadata": {},
   "source": [
    "It also have options for hierarchical softmax or negative sampling:\n",
    "\n",
    "\n",
    "- **hs** ({0, 1}, optional) – If 1, hierarchical softmax will be used for model training. If 0, and negative is non-zero, negative sampling will be used.\n",
    "- **negative** (int, optional) – If > 0, negative sampling will be used, the int for negative specifies how many “noise words” should be drawn (usually between 5-20). If set to 0, no negative sampling is used."
   ]
  },
  {
   "cell_type": "markdown",
   "metadata": {},
   "source": [
    "### There are other two widely used representations based on Matrix factorization:\n",
    "\n",
    "These methods utilize low-rank approximations to decompose large matrices that\n",
    "capture statistical information about a corpus. That means that this methods are unsupervised in comparison to skip-gram and CBOW that are supervised.\n",
    "\n",
    "- **Latent Semantic Analysis**: Based on tf-idf representation http://lsa.colorado.edu/papers/dp1.LSAintro.pdf\n",
    "\n",
    "- **Global vectos (GoVe)**: Based on the co-occurrence matrix https://nlp.stanford.edu/pubs/glove.pdf"
   ]
  },
  {
   "cell_type": "markdown",
   "metadata": {},
   "source": [
    "<div class=\"alert alert-block alert-warning\">\n",
    "\n",
    "Different pretrained GloVe embeddings can be download from [here](https://nlp.stanford.edu/projects/glove/). The lightest file is more than 800 Mb, so a tutorial for its use can be found in the following [link](https://blog.keras.io/using-pre-trained-word-embeddings-in-a-keras-model.html)\n",
    "    \n",
    "</div>    "
   ]
  },
  {
   "cell_type": "code",
   "execution_count": 84,
   "metadata": {},
   "outputs": [
    {
     "name": "stdout",
     "output_type": "stream",
     "text": [
      "['fasttext-wiki-news-subwords-300', 'conceptnet-numberbatch-17-06-300', 'word2vec-ruscorpora-300', 'word2vec-google-news-300', 'glove-wiki-gigaword-50', 'glove-wiki-gigaword-100', 'glove-wiki-gigaword-200', 'glove-wiki-gigaword-300', 'glove-twitter-25', 'glove-twitter-50', 'glove-twitter-100', 'glove-twitter-200', '__testing_word2vec-matrix-synopsis']\n",
      "[==================================================] 100.0% 104.8/104.8MB downloaded\n"
     ]
    }
   ],
   "source": [
    "import gensim.downloader\n",
    "print(list(gensim.downloader.info()['models'].keys()))\n",
    "\n",
    "# Download the \"glove-twitter-25\" embeddings\n",
    "glove_vectors = gensim.downloader.load('glove-twitter-25')"
   ]
  },
  {
   "cell_type": "markdown",
   "metadata": {},
   "source": [
    "## Keras Embedding"
   ]
  },
  {
   "cell_type": "code",
   "execution_count": 24,
   "metadata": {},
   "outputs": [
    {
     "name": "stdout",
     "output_type": "stream",
     "text": [
      "[[[ 0.02357093  0.02092982 -0.04955918 -0.01931781]\n",
      "  [ 0.03651024  0.04621916 -0.04629884  0.00012832]\n",
      "  [-0.04131331 -0.02115368 -0.03124855  0.02596796]]]\n"
     ]
    }
   ],
   "source": [
    "from tensorflow.keras.models import Sequential\n",
    "from tensorflow.keras.layers import Embedding\n",
    "model = Sequential()\n",
    "model.add(Embedding(input_dim=1000, output_dim = 4, input_length=3))\n",
    "model.compile(optimizer = 'adam', loss='mse')\n",
    "print(model.predict(np.array([[4,8,3]])))"
   ]
  },
  {
   "cell_type": "markdown",
   "metadata": {},
   "source": [
    "### Transfer learning!\n",
    "\n",
    "The embedding weights can be replaced by pretrained word2vec weights and used into the the network:"
   ]
  },
  {
   "cell_type": "code",
   "execution_count": null,
   "metadata": {},
   "outputs": [],
   "source": [
    "from tensorflow.keras.models import Model\n",
    "from tensorflow.keras.layers import Input\n",
    "inputs = Input(shape=(3,))\n",
    "e = Embedding(input_dim=100, output_dim = 4, weights = [np.random.normal(0,1,size=(100,4))],trainable = False)(inputs)\n",
    "model = Model(inputs=inputs,outputs=e)\n",
    "model.compile(optimizer = 'adam', loss='mse')\n",
    "print(model.predict(np.array([[4,8,3]])))"
   ]
  },
  {
   "cell_type": "code",
   "execution_count": 47,
   "metadata": {},
   "outputs": [
    {
     "name": "stdout",
     "output_type": "stream",
     "text": [
      "Model: \"model\"\n",
      "_________________________________________________________________\n",
      "Layer (type)                 Output Shape              Param #   \n",
      "=================================================================\n",
      "input_2 (InputLayer)         [(None, 3)]               0         \n",
      "_________________________________________________________________\n",
      "embedding_2 (Embedding)      (None, 3, 4)              400       \n",
      "=================================================================\n",
      "Total params: 400\n",
      "Trainable params: 0\n",
      "Non-trainable params: 400\n",
      "_________________________________________________________________\n"
     ]
    }
   ],
   "source": [
    "model.summary()"
   ]
  }
 ],
 "metadata": {
  "kernelspec": {
   "display_name": "Python 3 (ipykernel)",
   "language": "python",
   "name": "python3"
  },
  "language_info": {
   "codemirror_mode": {
    "name": "ipython",
    "version": 3
   },
   "file_extension": ".py",
   "mimetype": "text/x-python",
   "name": "python",
   "nbconvert_exporter": "python",
   "pygments_lexer": "ipython3",
   "version": "3.9.15"
  }
 },
 "nbformat": 4,
 "nbformat_minor": 2
}
